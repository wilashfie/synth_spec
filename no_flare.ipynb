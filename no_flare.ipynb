{
 "cells": [
  {
   "cell_type": "code",
   "execution_count": 3,
   "metadata": {},
   "outputs": [],
   "source": [
    "import numpy as np\n",
    "import matplotlib.pyplot as plt\n",
    "from scipy.io import readsav\n",
    "from scipy.interpolate import interp1d\n",
    "from scipy import optimize\n",
    "from scipy.optimize import curve_fit\n",
    "from scipy.signal import savgol_filter\n",
    "from matplotlib import gridspec"
   ]
  },
  {
   "cell_type": "code",
   "execution_count": 4,
   "metadata": {},
   "outputs": [],
   "source": [
    "tube = readsav('/Users/WilliamHenryAshfieldIV/dat/no_flare_10m.sav',verbose=False,python_dict=False)\n",
    "frac = readsav('/Users/WilliamHenryAshfieldIV/dat/f4_si_iv_nei.sav',verbose=False,python_dict=False)\n",
    "log10T,log10G = np.loadtxt('/Users/WilliamHenryAshfieldIV/dat/goft_1403.dat.txt',comments='%',unpack=True)"
   ]
  },
  {
   "cell_type": "code",
   "execution_count": 116,
   "metadata": {},
   "outputs": [],
   "source": [
    "# set inital values\n",
    "line = 1403.\n",
    "mass = 28.0*1.66054e-27\n",
    "kb = 1.3807e-23\n",
    "c = 300\n",
    "h = 6.62607e-27\n",
    "flux=1.0e3 #? why this val?\n",
    "ll = np.arange(line-10,line+10,0.01)"
   ]
  },
  {
   "cell_type": "code",
   "execution_count": 140,
   "metadata": {},
   "outputs": [],
   "source": [
    "time = 100 # index = 0.1*time in seconds"
   ]
  },
  {
   "cell_type": "code",
   "execution_count": 141,
   "metadata": {},
   "outputs": [],
   "source": [
    "# define arrays from tube.tarr\n",
    "t = tube.tarr.t[time]\n",
    "n = tube.tarr.n[time]\n",
    "los_v = tube.tarr.v[time].T[0]\n",
    "sm_v = -savgol_filter(los_v,3,1)\n",
    "los_x = tube.tarr.x[time].T[0]\n",
    "n_e = tube.tarr.epamu[time]*tube.tarr.rho[time]/1.67e-8 # number density\n",
    "b = tube.tarr.b[time]\n",
    "dl_e = tube.tarr.dl_e[time]"
   ]
  },
  {
   "cell_type": "code",
   "execution_count": 142,
   "metadata": {},
   "outputs": [],
   "source": [
    "# interpolate our GofT data\n",
    "te = 10**log10T\n",
    "inter = interp1d(te,log10G,kind='cubic', bounds_error=False, fill_value=-10e6) #fill outide vals with large, small number\n",
    "temp = 1e6*tube.tarr.t[time]\n",
    "G = inter(temp)\n",
    "G[temp<22000] = -10000 # set all log10G with low temp to large, small number (st 10^G~0)"
   ]
  },
  {
   "cell_type": "code",
   "execution_count": 143,
   "metadata": {},
   "outputs": [],
   "source": [
    "i_min,i_max = 450,480 # subspace to interpolate over. covers entirety of condensation over time.  "
   ]
  },
  {
   "cell_type": "code",
   "execution_count": 144,
   "metadata": {},
   "outputs": [],
   "source": [
    "t_s = t[i_min:i_max]\n",
    "n_s = len(t_s)\n",
    "los_v_s = los_v[i_min:i_max]\n",
    "sm_v_s = sm_v[i_min:i_max]\n",
    "los_x_s = los_x[i_min:i_max]\n",
    "n_e_s = n_e[i_min:i_max]\n",
    "b_s = b[i_min:i_max]\n",
    "dl_e_s = dl_e[i_min:i_max]\n",
    "G_s = G[i_min:i_max]\n",
    "#f_nei_s = f_nei[i_min:i_max]\n",
    "#f_eqi_s = f_eqi[i_min:i_max]"
   ]
  },
  {
   "cell_type": "code",
   "execution_count": 145,
   "metadata": {},
   "outputs": [],
   "source": [
    "# interpolate\n",
    "N=10*n_s\n",
    "i_s = np.arange(0,n_s)\n",
    "ii = np.arange(0,10*(n_s-1))*0.1\n",
    "\n",
    "int_x = interp1d(i_s,los_x_s,kind='linear')#,fill_value=\"extrapolate\")\n",
    "int_v = interp1d(i_s,sm_v_s,kind='linear')\n",
    "int_t = interp1d(i_s,t_s,kind='linear')\n",
    "int_ne = interp1d(i_s,n_e_s,kind='linear')\n",
    "int_b = interp1d(i_s,b_s,kind='linear')\n",
    "int_dl_e = interp1d(i_s,dl_e_s,kind='linear')\n",
    "int_G = interp1d(i_s,G_s,kind='linear')\n",
    "#int_fnei = interp1d(i_s,f_nei_s,kind='linear')\n",
    "#int_feqi = interp1d(i_s,f_eqi_s,kind='linear')\n",
    "\n",
    "# new, interpolated arrays from tarr/tube\n",
    "x = int_x(ii)\n",
    "v = int_v(ii)\n",
    "T = int_t(ii)\n",
    "ne = int_ne(ii)\n",
    "B = int_b(ii)\n",
    "Dl = int_dl_e(ii)\n",
    "g = int_G(ii)\n",
    "#nei = int_fnei(ii)\n",
    "#eqi = int_feqi(ii)\n",
    "\n",
    "# factor to multiply GofT by to get actual emission given NEI\n",
    "#factor = nei/eqi\n",
    "#np.nan_to_num(factor, copy=False, nan=1); # replace inf values with 1 (due to zeros in eqi)"
   ]
  },
  {
   "cell_type": "code",
   "execution_count": 146,
   "metadata": {},
   "outputs": [],
   "source": [
    "# process to create volume given per flux (per Maxwell)\n",
    "#A = flux/B # replace by area of pixel in Mm (~0.01 Mm^2)\n",
    "A_pixel = 0.029 # Mm^2 -  pixel area: 0.33 x 0.167 arcsec (as seen on sun..)\n",
    "\n",
    "volume = Dl*A_pixel*1e24\n",
    "#calcualte emission measure EM\n",
    "EM=volume*ne**2"
   ]
  },
  {
   "cell_type": "code",
   "execution_count": 147,
   "metadata": {},
   "outputs": [],
   "source": [
    "# calculate prefactor to turn intensity into counts\n",
    "photo_erg = h*c*1e6/line*1e10 #erg/photon\n",
    "pixel_size = 12.8e-3 # in ˚A [12.8 m˚A (FUV), 25.6 m˚A (NUV)]\n",
    "#FOV = 0.33*175*2.35e-11 # in sr 0.33 × 175 arcsec^2 SG-slit\n",
    "dim = 19e-2\n",
    "A_iris = 2.2e-4 # effective area FUV\n",
    "au = 1.49e11\n",
    "atn = A_iris/au**2\n",
    "exp_time = 4\n",
    "photo_fac = pixel_size*atn*exp_time/photo_erg # converts EM*g/sig (erg/s/sr/˚A) -> photon count"
   ]
  },
  {
   "cell_type": "code",
   "execution_count": 148,
   "metadata": {},
   "outputs": [],
   "source": [
    "# determine line broadening given combination of thermal, non-thermal, and instrumental broadenings\n",
    "freq = c/line*1e3\n",
    "v_inst = 3.9 # instrumental broadening (km/s)\n",
    "sig_inst = v_inst/freq\n",
    "#v_nt = 20.0 # non-thermal broadening (km/s) [De Pontieu et al, 2015] -- rough estimate for broadening \n",
    "sig_nt = v_nt/freq\n",
    "sig_th = line*np.sqrt(kb*1e6*T/mass)/(c*1e6) # thermal broadening (in ˚A)\n",
    "#sig = np.sqrt(sig_th**2+sig_nt**2+sig_inst**2) # total broadening\n",
    "sig = np.sqrt(sig_th**2+sig_inst**2) # total broadening\n",
    "\n",
    "# create emission array(s) for each fluid element\n",
    "nn=10*(n_s-1)\n",
    "emissNEI = np.empty([nn,len(ll)])\n",
    "emiss = emissNEI\n",
    "for i in range(nn):\n",
    "    #emissNEI[i,:] = photo_fac*EM[i]*factor[i]*10**g[i]/np.sqrt(2*np.pi)/sig[i]*np.exp(-(ll-line-line*v[i]/c)**2/(2*sig[i]**2))\n",
    "    emiss[i,:] = photo_fac*EM[i]*10**g[i]/np.sqrt(2*np.pi*sig[i])*np.exp(-(ll-line-line*v[i]/c)**2/(2*sig[i]**2))"
   ]
  },
  {
   "cell_type": "code",
   "execution_count": 149,
   "metadata": {},
   "outputs": [
    {
     "data": {
      "text/plain": [
       "array([140, 141, 142, 143, 144, 145, 146, 147, 148, 149, 150, 151, 152,\n",
       "       153, 154, 155, 156, 157, 158, 159, 160, 161, 162, 163, 164, 165,\n",
       "       166, 167, 168, 169, 170, 171, 172, 173, 174, 175, 176, 177, 178,\n",
       "       179, 180, 181, 182, 183, 184, 185, 186, 187, 188, 189, 190, 191,\n",
       "       192, 193, 194, 195, 196, 197, 198, 199, 200, 201, 202, 203, 204,\n",
       "       205, 206, 207, 208, 209, 210, 211, 212, 213, 214, 215, 216, 217,\n",
       "       218, 219, 220, 221, 222, 223, 224, 225, 226, 227, 228, 229, 230])"
      ]
     },
     "execution_count": 149,
     "metadata": {},
     "output_type": "execute_result"
    }
   ],
   "source": [
    "jjs = np.where(emiss>0)\n",
    "np.unique(jjs[0])"
   ]
  },
  {
   "cell_type": "code",
   "execution_count": 150,
   "metadata": {},
   "outputs": [
    {
     "data": {
      "text/plain": [
       "290"
      ]
     },
     "execution_count": 150,
     "metadata": {},
     "output_type": "execute_result"
    }
   ],
   "source": [
    "len(emiss)"
   ]
  },
  {
   "cell_type": "code",
   "execution_count": 128,
   "metadata": {},
   "outputs": [
    {
     "data": {
      "image/png": "[encoded data removed]",
      "text/plain": [
       "<Figure size 432x288 with 1 Axes>"
      ]
     },
     "metadata": {
      "needs_background": "light"
     },
     "output_type": "display_data"
    }
   ],
   "source": [
    "plt.plot(emiss);"
   ]
  },
  {
   "cell_type": "code",
   "execution_count": 157,
   "metadata": {},
   "outputs": [
    {
     "data": {
      "text/plain": [
       "(1402, 1405)"
      ]
     },
     "execution_count": 157,
     "metadata": {},
     "output_type": "execute_result"
    },
    {
     "data": {
      "image/png": "[encoded data removed]",
      "text/plain": [
       "<Figure size 432x288 with 1 Axes>"
      ]
     },
     "metadata": {
      "needs_background": "light"
     },
     "output_type": "display_data"
    }
   ],
   "source": [
    "tot_emiss = np.sum(emiss,axis=0)\n",
    "plt.plot(ll,tot_emiss)\n",
    "plt.xlim(1402,1405)"
   ]
  },
  {
   "cell_type": "code",
   "execution_count": 152,
   "metadata": {},
   "outputs": [],
   "source": [
    "def oneGauss(x, amp1,cen1,sigma1):\n",
    "    return amp1*(np.exp((-1.0/2.0)*(((x-cen1)/sigma1)**2)))"
   ]
  },
  {
   "cell_type": "code",
   "execution_count": 153,
   "metadata": {},
   "outputs": [],
   "source": [
    "#init params\n",
    "amp1 = 2\n",
    "sigma1 = 0.4\n",
    "cen1 = 1403"
   ]
  },
  {
   "cell_type": "code",
   "execution_count": 154,
   "metadata": {},
   "outputs": [],
   "source": [
    "popt_gauss, pcov_gauss = curve_fit(oneGauss, ll, tot_emiss, p0=[amp1, cen1, sigma1])\n",
    "perr_gauss = np.sqrt(np.diag(pcov_gauss))"
   ]
  },
  {
   "cell_type": "code",
   "execution_count": 155,
   "metadata": {},
   "outputs": [
    {
     "name": "stdout",
     "output_type": "stream",
     "text": [
      "amplitude = 11.08 (+/-) 0.00\n",
      "center = 1403.00 (+/-) 0.00\n",
      "sigma = 0.04 (+/-) 0.00\n"
     ]
    }
   ],
   "source": [
    "print(\"amplitude = %0.2f (+/-) %0.2f\" % (popt_gauss[0], perr_gauss[0]))\n",
    "print(\"center = %0.2f (+/-) %0.2f\" % (popt_gauss[1], perr_gauss[1]))\n",
    "print(\"sigma = %0.2f (+/-) %0.2f\" % (popt_gauss[2], perr_gauss[2]))"
   ]
  },
  {
   "cell_type": "code",
   "execution_count": 156,
   "metadata": {},
   "outputs": [
    {
     "data": {
      "image/png": "[encoded data removed]",
      "text/plain": [
       "<Figure size 1008x576 with 1 Axes>"
      ]
     },
     "metadata": {
      "needs_background": "light"
     },
     "output_type": "display_data"
    }
   ],
   "source": [
    "#plot fit\n",
    "fig = plt.figure(figsize=(14,8))\n",
    "gs = gridspec.GridSpec(1,1)\n",
    "ax1 = fig.add_subplot(gs[0])\n",
    "\n",
    "ax1.plot(ll, tot_emiss)\n",
    "ax1.plot(ll, oneGauss(ll, *popt_gauss), 'k--')#,\\\n",
    "         #label=\"y= %0.2f$e^{%0.2fx}$ + %0.2f\" % (popt_exponential[0], popt_exponential[1], popt_exponential[2]))\n",
    "plt.xlim(1402,1404)\n",
    "\n",
    "ax1.set_xlabel(\"wavelength\",  fontsize=12)\n",
    "ax1.set_ylabel(\"intensity\",  fontsize=12)\n",
    "fig.tight_layout()"
   ]
  },
  {
   "cell_type": "code",
   "execution_count": 158,
   "metadata": {},
   "outputs": [
    {
     "data": {
      "text/plain": [
       "(-0.001, 0.003)"
      ]
     },
     "execution_count": 158,
     "metadata": {},
     "output_type": "execute_result"
    },
    {
     "data": {
      "image/png": "[encoded data removed]",
      "text/plain": [
       "<Figure size 432x288 with 2 Axes>"
      ]
     },
     "metadata": {
      "needs_background": "light"
     },
     "output_type": "display_data"
    }
   ],
   "source": [
    "fig,ax = plt.subplots()\n",
    "\n",
    "color = 'tab:blue'\n",
    "ax.plot(x,T*1e6,color=color)\n",
    "ax.set_ylim(0,1.1e5)\n",
    "ax.set_xlabel('x [Mm]')\n",
    "ax.set_ylabel('T [K]', color=color)\n",
    "ax.tick_params(axis='y', labelcolor=color)\n",
    "\n",
    "ax2 = ax.twinx()\n",
    "color = 'tab:red'\n",
    "ax2.plot(x, v, color=color)\n",
    "ax2.set_ylabel('vel [Mm/s]', color=color)  # we already handled the x-label with ax1\n",
    "ax2.tick_params(axis='y', labelcolor=color)\n",
    "ax2.set_ylim(-0.001,0.003)"
   ]
  },
  {
   "cell_type": "code",
   "execution_count": 159,
   "metadata": {},
   "outputs": [],
   "source": [
    "i_T=np.where((T*1e6>70000) & (T*1e6<90000))"
   ]
  },
  {
   "cell_type": "code",
   "execution_count": 160,
   "metadata": {},
   "outputs": [
    {
     "data": {
      "text/plain": [
       "[<matplotlib.lines.Line2D at 0x1c1b2f2910>]"
      ]
     },
     "execution_count": 160,
     "metadata": {},
     "output_type": "execute_result"
    },
    {
     "data": {
      "image/png": "[encoded data removed]",
      "text/plain": [
       "<Figure size 432x288 with 1 Axes>"
      ]
     },
     "metadata": {
      "needs_background": "light"
     },
     "output_type": "display_data"
    }
   ],
   "source": [
    "plt.plot(T[i_T]*1e6,'o')"
   ]
  },
  {
   "cell_type": "code",
   "execution_count": 161,
   "metadata": {},
   "outputs": [
    {
     "data": {
      "text/plain": [
       "array([76132.16428363, 85454.130246  ])"
      ]
     },
     "execution_count": 161,
     "metadata": {},
     "output_type": "execute_result"
    }
   ],
   "source": [
    "T[i_T]*1e6"
   ]
  },
  {
   "cell_type": "code",
   "execution_count": 162,
   "metadata": {},
   "outputs": [
    {
     "data": {
      "text/plain": [
       "array([-0.19250924, -0.18072966])"
      ]
     },
     "execution_count": 162,
     "metadata": {},
     "output_type": "execute_result"
    }
   ],
   "source": [
    "v[i_T]*1e3"
   ]
  },
  {
   "cell_type": "code",
   "execution_count": 164,
   "metadata": {},
   "outputs": [
    {
     "data": {
      "text/plain": [
       "array([-0.0009003 , -0.00084521])"
      ]
     },
     "execution_count": 164,
     "metadata": {},
     "output_type": "execute_result"
    }
   ],
   "source": [
    "line*v[i_T]/c"
   ]
  },
  {
   "cell_type": "code",
   "execution_count": 165,
   "metadata": {},
   "outputs": [
    {
     "data": {
      "text/plain": [
       "[<matplotlib.lines.Line2D at 0x1c1b793ad0>]"
      ]
     },
     "execution_count": 165,
     "metadata": {},
     "output_type": "execute_result"
    },
    {
     "data": {
      "image/png": "[encoded data removed]",
      "text/plain": [
       "<Figure size 432x288 with 1 Axes>"
      ]
     },
     "metadata": {
      "needs_background": "light"
     },
     "output_type": "display_data"
    }
   ],
   "source": [
    "plt.plot(los_x,t)"
   ]
  }
 ],
 "metadata": {
  "kernelspec": {
   "display_name": "Python 3",
   "language": "python",
   "name": "python3"
  }
 },
 "nbformat": 4,
 "nbformat_minor": 2
}
