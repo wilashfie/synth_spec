{
 "cells": [
  {
   "cell_type": "markdown",
   "metadata": {},
   "source": [
    "notebook generates rebinned spectra and physical quantities, given specified integration time "
   ]
  },
  {
   "cell_type": "code",
   "execution_count": 1,
   "metadata": {},
   "outputs": [],
   "source": [
    "import numpy as np\n",
    "import matplotlib.pyplot as plt\n",
    "from scipy.io import readsav\n",
    "from scipy.interpolate import interp1d\n",
    "from scipy.signal import savgol_filter\n",
    "from scipy import optimize\n",
    "from scipy.optimize import curve_fit\n",
    "\n",
    "import sys\n",
    "sys.path.append(\"../\")\n",
    "from create_arrays import siiv"
   ]
  },
  {
   "cell_type": "code",
   "execution_count": 2,
   "metadata": {},
   "outputs": [],
   "source": [
    "# import arrays\n",
    "tube = readsav('/Users/WilliamHenryAshfieldIV/dat/ebtel_l85_h150_30min_subI.sav',verbose=False,python_dict=False)\n",
    "frac = readsav('/Users/WilliamHenryAshfieldIV/dat/nei_files/ebtel_30min_subI_si_iv_nei.sav',verbose=False,python_dict=False)\n",
    "log10T,log10G = np.loadtxt('/Users/WilliamHenryAshfieldIV/dat/goft_1403.dat.txt',comments='%',unpack=True)"
   ]
  },
  {
   "cell_type": "code",
   "execution_count": 3,
   "metadata": {},
   "outputs": [],
   "source": [
    "t_n = tube.tarr.shape[0] - 1 # len of tube in time (in steps of 0.1s)\n",
    "line = 1402.77\n",
    "ll = np.arange(line-10,line+10,0.01)"
   ]
  },
  {
   "cell_type": "code",
   "execution_count": 4,
   "metadata": {},
   "outputs": [
    {
     "name": "stderr",
     "output_type": "stream",
     "text": [
      "../create_arrays.py:68: RuntimeWarning: invalid value encountered in true_divide\n",
      "  temp_fac = f_nei/f_eqi\n",
      "../create_arrays.py:128: RuntimeWarning: invalid value encountered in true_divide\n",
      "  factor = nei/eqi\n",
      "../create_arrays.py:182: RuntimeWarning: invalid value encountered in sqrt\n",
      "  meas_error = np.sqrt(tot_emissNEI) # error measured\n"
     ]
    },
    {
     "data": {
      "text/plain": [
       "(1402, 1404)"
      ]
     },
     "execution_count": 4,
     "metadata": {},
     "output_type": "execute_result"
    },
    {
     "data": {
      "image/png": "[encoded data removed]",
      "text/plain": [
       "<Figure size 432x288 with 1 Axes>"
      ]
     },
     "metadata": {
      "needs_background": "light"
     },
     "output_type": "display_data"
    }
   ],
   "source": [
    "k = 155\n",
    "test = siiv(tube,frac,log10T,log10G,time=k)\n",
    "plt.plot(test.wav,test.spec)\n",
    "plt.xlim(1402,1404)"
   ]
  },
  {
   "cell_type": "code",
   "execution_count": 5,
   "metadata": {},
   "outputs": [],
   "source": [
    "ll = test.wav"
   ]
  },
  {
   "cell_type": "code",
   "execution_count": 6,
   "metadata": {},
   "outputs": [
    {
     "ename": "KeyboardInterrupt",
     "evalue": "",
     "output_type": "error",
     "traceback": [
      "\u001b[0;31m---------------------------------------------------------------------------\u001b[0m",
      "\u001b[0;31mKeyboardInterrupt\u001b[0m                         Traceback (most recent call last)",
      "\u001b[0;32m<ipython-input-6-1efaa681857c>\u001b[0m in \u001b[0;36m<module>\u001b[0;34m\u001b[0m\n\u001b[1;32m      4\u001b[0m \u001b[0;32mfor\u001b[0m \u001b[0mi\u001b[0m \u001b[0;32min\u001b[0m \u001b[0mrange\u001b[0m\u001b[0;34m(\u001b[0m\u001b[0;36m0\u001b[0m\u001b[0;34m,\u001b[0m\u001b[0mt_n\u001b[0m\u001b[0;34m)\u001b[0m\u001b[0;34m:\u001b[0m\u001b[0;34m\u001b[0m\u001b[0;34m\u001b[0m\u001b[0m\n\u001b[1;32m      5\u001b[0m \u001b[0;34m\u001b[0m\u001b[0m\n\u001b[0;32m----> 6\u001b[0;31m     \u001b[0marrs\u001b[0m \u001b[0;34m=\u001b[0m \u001b[0msiiv\u001b[0m\u001b[0;34m(\u001b[0m\u001b[0mtube\u001b[0m\u001b[0;34m,\u001b[0m\u001b[0mfrac\u001b[0m\u001b[0;34m,\u001b[0m\u001b[0mlog10T\u001b[0m\u001b[0;34m,\u001b[0m\u001b[0mlog10G\u001b[0m\u001b[0;34m,\u001b[0m\u001b[0mtime\u001b[0m\u001b[0;34m=\u001b[0m\u001b[0mi\u001b[0m\u001b[0;34m)\u001b[0m\u001b[0;34m\u001b[0m\u001b[0;34m\u001b[0m\u001b[0m\n\u001b[0m\u001b[1;32m      7\u001b[0m \u001b[0;34m\u001b[0m\u001b[0m\n\u001b[1;32m      8\u001b[0m     \u001b[0mSPEC\u001b[0m\u001b[0;34m[\u001b[0m\u001b[0mi\u001b[0m\u001b[0;34m,\u001b[0m\u001b[0;34m:\u001b[0m\u001b[0;34m]\u001b[0m \u001b[0;34m=\u001b[0m \u001b[0marrs\u001b[0m\u001b[0;34m.\u001b[0m\u001b[0mspec\u001b[0m\u001b[0;34m\u001b[0m\u001b[0;34m\u001b[0m\u001b[0m\n",
      "\u001b[0;32m~/synth_spec/create_arrays.py\u001b[0m in \u001b[0;36m__init__\u001b[0;34m(self, tube, frac, log10T, log10G, time, verbose, interp)\u001b[0m\n\u001b[1;32m    167\u001b[0m         \u001b[0memiss\u001b[0m \u001b[0;34m=\u001b[0m \u001b[0memissNEI\u001b[0m\u001b[0;34m\u001b[0m\u001b[0;34m\u001b[0m\u001b[0m\n\u001b[1;32m    168\u001b[0m         \u001b[0;32mfor\u001b[0m \u001b[0mi\u001b[0m \u001b[0;32min\u001b[0m \u001b[0mrange\u001b[0m\u001b[0;34m(\u001b[0m\u001b[0mnn\u001b[0m\u001b[0;34m)\u001b[0m\u001b[0;34m:\u001b[0m\u001b[0;34m\u001b[0m\u001b[0;34m\u001b[0m\u001b[0m\n\u001b[0;32m--> 169\u001b[0;31m             \u001b[0memissNEI\u001b[0m\u001b[0;34m[\u001b[0m\u001b[0mi\u001b[0m\u001b[0;34m,\u001b[0m\u001b[0;34m:\u001b[0m\u001b[0;34m]\u001b[0m \u001b[0;34m=\u001b[0m \u001b[0mphoto_fac\u001b[0m\u001b[0;34m*\u001b[0m\u001b[0mEM\u001b[0m\u001b[0;34m[\u001b[0m\u001b[0mi\u001b[0m\u001b[0;34m]\u001b[0m\u001b[0;34m*\u001b[0m\u001b[0mfactor\u001b[0m\u001b[0;34m[\u001b[0m\u001b[0mi\u001b[0m\u001b[0;34m]\u001b[0m\u001b[0;34m*\u001b[0m\u001b[0;36m10\u001b[0m\u001b[0;34m**\u001b[0m\u001b[0mg\u001b[0m\u001b[0;34m[\u001b[0m\u001b[0mi\u001b[0m\u001b[0;34m]\u001b[0m\u001b[0;34m/\u001b[0m\u001b[0mnp\u001b[0m\u001b[0;34m.\u001b[0m\u001b[0msqrt\u001b[0m\u001b[0;34m(\u001b[0m\u001b[0;36m2\u001b[0m\u001b[0;34m*\u001b[0m\u001b[0mnp\u001b[0m\u001b[0;34m.\u001b[0m\u001b[0mpi\u001b[0m\u001b[0;34m)\u001b[0m\u001b[0;34m/\u001b[0m\u001b[0msig\u001b[0m\u001b[0;34m[\u001b[0m\u001b[0mi\u001b[0m\u001b[0;34m]\u001b[0m\u001b[0;34m*\u001b[0m\u001b[0mnp\u001b[0m\u001b[0;34m.\u001b[0m\u001b[0mexp\u001b[0m\u001b[0;34m(\u001b[0m\u001b[0;34m-\u001b[0m\u001b[0;34m(\u001b[0m\u001b[0mll\u001b[0m\u001b[0;34m-\u001b[0m\u001b[0mline\u001b[0m\u001b[0;34m-\u001b[0m\u001b[0mline\u001b[0m\u001b[0;34m*\u001b[0m\u001b[0mv\u001b[0m\u001b[0;34m[\u001b[0m\u001b[0mi\u001b[0m\u001b[0;34m]\u001b[0m\u001b[0;34m/\u001b[0m\u001b[0mc\u001b[0m\u001b[0;34m)\u001b[0m\u001b[0;34m**\u001b[0m\u001b[0;36m2\u001b[0m\u001b[0;34m/\u001b[0m\u001b[0;34m(\u001b[0m\u001b[0;36m2\u001b[0m\u001b[0;34m*\u001b[0m\u001b[0msig\u001b[0m\u001b[0;34m[\u001b[0m\u001b[0mi\u001b[0m\u001b[0;34m]\u001b[0m\u001b[0;34m**\u001b[0m\u001b[0;36m2\u001b[0m\u001b[0;34m)\u001b[0m\u001b[0;34m)\u001b[0m\u001b[0;34m\u001b[0m\u001b[0;34m\u001b[0m\u001b[0m\n\u001b[0m\u001b[1;32m    170\u001b[0m             \u001b[0memiss\u001b[0m\u001b[0;34m[\u001b[0m\u001b[0mi\u001b[0m\u001b[0;34m,\u001b[0m\u001b[0;34m:\u001b[0m\u001b[0;34m]\u001b[0m \u001b[0;34m=\u001b[0m \u001b[0mphoto_fac\u001b[0m\u001b[0;34m*\u001b[0m\u001b[0mEM\u001b[0m\u001b[0;34m[\u001b[0m\u001b[0mi\u001b[0m\u001b[0;34m]\u001b[0m\u001b[0;34m*\u001b[0m\u001b[0;36m10\u001b[0m\u001b[0;34m**\u001b[0m\u001b[0mg\u001b[0m\u001b[0;34m[\u001b[0m\u001b[0mi\u001b[0m\u001b[0;34m]\u001b[0m\u001b[0;34m/\u001b[0m\u001b[0mnp\u001b[0m\u001b[0;34m.\u001b[0m\u001b[0msqrt\u001b[0m\u001b[0;34m(\u001b[0m\u001b[0;36m2\u001b[0m\u001b[0;34m*\u001b[0m\u001b[0mnp\u001b[0m\u001b[0;34m.\u001b[0m\u001b[0mpi\u001b[0m\u001b[0;34m)\u001b[0m\u001b[0;34m/\u001b[0m\u001b[0msig\u001b[0m\u001b[0;34m[\u001b[0m\u001b[0mi\u001b[0m\u001b[0;34m]\u001b[0m\u001b[0;34m*\u001b[0m\u001b[0mnp\u001b[0m\u001b[0;34m.\u001b[0m\u001b[0mexp\u001b[0m\u001b[0;34m(\u001b[0m\u001b[0;34m-\u001b[0m\u001b[0;34m(\u001b[0m\u001b[0mll\u001b[0m\u001b[0;34m-\u001b[0m\u001b[0mline\u001b[0m\u001b[0;34m-\u001b[0m\u001b[0mline\u001b[0m\u001b[0;34m*\u001b[0m\u001b[0mv\u001b[0m\u001b[0;34m[\u001b[0m\u001b[0mi\u001b[0m\u001b[0;34m]\u001b[0m\u001b[0;34m/\u001b[0m\u001b[0mc\u001b[0m\u001b[0;34m)\u001b[0m\u001b[0;34m**\u001b[0m\u001b[0;36m2\u001b[0m\u001b[0;34m/\u001b[0m\u001b[0;34m(\u001b[0m\u001b[0;36m2\u001b[0m\u001b[0;34m*\u001b[0m\u001b[0msig\u001b[0m\u001b[0;34m[\u001b[0m\u001b[0mi\u001b[0m\u001b[0;34m]\u001b[0m\u001b[0;34m**\u001b[0m\u001b[0;36m2\u001b[0m\u001b[0;34m)\u001b[0m\u001b[0;34m)\u001b[0m\u001b[0;34m\u001b[0m\u001b[0;34m\u001b[0m\u001b[0m\n\u001b[1;32m    171\u001b[0m \u001b[0;34m\u001b[0m\u001b[0m\n",
      "\u001b[0;31mKeyboardInterrupt\u001b[0m: "
     ]
    }
   ],
   "source": [
    "SPEC = np.zeros((t_n,len(test.spec)))\n",
    "ERROR = np.zeros((t_n,len(test.error)))\n",
    "\n",
    "for i in range(0,t_n):\n",
    "\n",
    "    arrs = siiv(tube,frac,log10T,log10G,time=i)\n",
    "\n",
    "    SPEC[i,:] = arrs.spec \n",
    "    ERROR[i,:] = arrs.error"
   ]
  },
  {
   "cell_type": "code",
   "execution_count": null,
   "metadata": {},
   "outputs": [],
   "source": [
    "fig, ax = plt.subplots(figsize=[10,10])\n",
    "plt.plot(ll,SPEC[120,:])\n",
    "plt.plot(ll,SPEC[150,:])\n",
    "plt.plot(ll,SPEC[155,:])\n",
    "plt.plot(ll,SPEC[165,:])\n",
    "plt.xlim(1401,1405)\n",
    "plt.ylabel('normalized intensity')\n",
    "ax.set_xlabel('wavelength [$\\AA$]')"
   ]
  },
  {
   "cell_type": "code",
   "execution_count": 9,
   "metadata": {},
   "outputs": [
    {
     "data": {
      "text/plain": [
       "(800, 2000)"
      ]
     },
     "execution_count": 9,
     "metadata": {},
     "output_type": "execute_result"
    }
   ],
   "source": [
    "SPEC.shape"
   ]
  },
  {
   "cell_type": "markdown",
   "metadata": {},
   "source": [
    "# Rebin our synthetic spectrum:"
   ]
  },
  {
   "cell_type": "code",
   "execution_count": 10,
   "metadata": {},
   "outputs": [
    {
     "data": {
      "text/plain": [
       "25"
      ]
     },
     "execution_count": 10,
     "metadata": {},
     "output_type": "execute_result"
    }
   ],
   "source": [
    "dt = 0.2\n",
    "inegration = 5 # seconds (iris)\n",
    "reshape = int(inegration/dt)\n",
    "reshape"
   ]
  },
  {
   "cell_type": "code",
   "execution_count": 11,
   "metadata": {},
   "outputs": [
    {
     "data": {
      "text/plain": [
       "(32, 25, 2000)"
      ]
     },
     "execution_count": 11,
     "metadata": {},
     "output_type": "execute_result"
    }
   ],
   "source": [
    "SPECII = SPEC.reshape(-1,reshape,2000)\n",
    "SPECII.shape\n",
    "\n",
    "ERRORII = ERROR.reshape(-1,reshape,2000)\n",
    "ERRORII.shape"
   ]
  },
  {
   "cell_type": "code",
   "execution_count": 12,
   "metadata": {},
   "outputs": [],
   "source": [
    "spec = np.mean(SPECII,axis=1)\n",
    "error = np.mean(ERRORII,axis=1)"
   ]
  },
  {
   "cell_type": "code",
   "execution_count": 13,
   "metadata": {},
   "outputs": [
    {
     "name": "stdout",
     "output_type": "stream",
     "text": [
      "32\n"
     ]
    }
   ],
   "source": [
    "nt = error.shape[0] # number of time elements after rebin.\n",
    "print(nt)"
   ]
  },
  {
   "cell_type": "code",
   "execution_count": 14,
   "metadata": {
    "scrolled": false
   },
   "outputs": [
    {
     "data": {
      "text/plain": [
       "Text(0.5, 0, 'wavelength [$\\\\AA$]')"
      ]
     },
     "execution_count": 14,
     "metadata": {},
     "output_type": "execute_result"
    },
    {
     "data": {
      "image/png": "[encoded data removed]",
      "text/plain": [
       "<Figure size 720x720 with 1 Axes>"
      ]
     },
     "metadata": {
      "needs_background": "light"
     },
     "output_type": "display_data"
    }
   ],
   "source": [
    "fig, ax = plt.subplots(figsize=[10,10])\n",
    "plt.plot(ll,spec[5,:])\n",
    "plt.xlim(1401,1405)\n",
    "plt.ylabel('normalized intensity')\n",
    "ax.set_xlabel('wavelength [$\\AA$]')"
   ]
  },
  {
   "cell_type": "markdown",
   "metadata": {},
   "source": [
    "Save new specturm array to txt file:"
   ]
  },
  {
   "cell_type": "code",
   "execution_count": 15,
   "metadata": {},
   "outputs": [],
   "source": [
    "# np.savetxt('../dat/rebins/f4_t10_h20_tri.txt', spec, fmt='%d')\n",
    "# np.savetxt('../dat/rebins/f4_t10_h20_tri_err.txt', error, fmt='%d')"
   ]
  },
  {
   "cell_type": "markdown",
   "metadata": {},
   "source": [
    "# Animate our rebinned spectrum:"
   ]
  },
  {
   "cell_type": "code",
   "execution_count": 16,
   "metadata": {},
   "outputs": [],
   "source": [
    "from matplotlib import animation, rc\n",
    "from IPython.display import HTML"
   ]
  },
  {
   "cell_type": "code",
   "execution_count": 17,
   "metadata": {},
   "outputs": [
    {
     "data": {
      "text/plain": [
       "[<matplotlib.axis.XTick at 0x7fe66a9db310>,\n",
       " <matplotlib.axis.XTick at 0x7fe66a9dca10>,\n",
       " <matplotlib.axis.XTick at 0x7fe66a9dc710>]"
      ]
     },
     "execution_count": 17,
     "metadata": {},
     "output_type": "execute_result"
    },
    {
     "data": {
      "image/png": "[encoded data removed]",
      "text/plain": [
       "<Figure size 1296x648 with 1 Axes>"
      ]
     },
     "metadata": {
      "needs_background": "light"
     },
     "output_type": "display_data"
    }
   ],
   "source": [
    "fig, ax = plt.subplots(figsize=(18,9))\n",
    "ax.set_xlim(1402.77,1404)\n",
    "ax.set_xticks(np.arange(1402.77, 1405, 1))"
   ]
  },
  {
   "cell_type": "code",
   "execution_count": 18,
   "metadata": {},
   "outputs": [],
   "source": [
    "# data placeholders\n",
    "wav,specs = np.zeros(0),np.zeros(0)#,np.zeros(0),np.zeros(0),np.zeros(0),np.zeros(0),np.zeros(0)\n",
    "\n",
    "# plot placeholder/object\n",
    "plot_spec, = ax.plot(wav,specs)"
   ]
  },
  {
   "cell_type": "code",
   "execution_count": 19,
   "metadata": {},
   "outputs": [],
   "source": [
    "def update(i):\n",
    "\n",
    "    global wav\n",
    "    global specs\n",
    "    \n",
    "    wav = ll\n",
    "    specs = spec[i,:]\n",
    "    \n",
    "    plot_spec.set_data(wav,specs)\n",
    "   \n",
    "    plot_spec.axes.set_ylim(0,np.max(specs)+0.05*np.max(specs))\n",
    "    time = np.around(i*5, decimals=1)\n",
    "    plot_spec.axes.set_ylim(0,np.max(specs)+0.05*np.max(specs))\n",
    "    plot_spec.axes.set_title('time = '+str(time)+'s')\n",
    "    plot_spec.axes.ticklabel_format(style='sci',axis='y',useMathText=False,scilimits=(0,2))\n",
    "    \n",
    "    return plot_spec"
   ]
  },
  {
   "cell_type": "code",
   "execution_count": 20,
   "metadata": {},
   "outputs": [],
   "source": [
    "simulation = animation.FuncAnimation(fig, update, blit=False, frames= nt, interval=250, repeat=False)"
   ]
  },
  {
   "cell_type": "code",
   "execution_count": 21,
   "metadata": {},
   "outputs": [
    {
     "data": {
      "text/html": [
       "<video width=\"1296\" height=\"648\" controls autoplay>\n",
       "  <source type=\"video/mp4\" src=\"data:video/mp4;base64,AAAAHGZ0eXBNNFYgAAACAGlzb21pc28yYXZjMQAAAAhmcmVlAACiUG1kYXQAAAKfBgX//5vcRem9\n",
       "5tlIt5Ys2CDZI+7veDI2NCAtIGNvcmUgMTUyIC0gSC4yNjQvTVBFRy00IEFWQyBjb2RlYyAtIENv\n",
       "cHlsZWZ0IDIwMDMtMjAxNyAtIGh0dHA6Ly93d3cudmlkZW9sYW4ub3JnL3gyNjQuaHRtbCAtIG9w\n",
       "dGlvbnM6IGNhYmFjPTEgcmVmPTMgZGVibG9jaz0xOjA6MCBhbmFseXNlPTB4MzoweDExMyBtZT1o\n",
       "ZXggc3VibWU9NyBwc3k9MSBwc3lfcmQ9MS4wMDowLjAwIG1peGVkX3JlZj0xIG1lX3JhbmdlPTE2\n",
       "IGNocm9tYV9tZT0xIHRyZWxsaXM9MSA4eDhkY3Q9MSBjcW09MCBkZWFkem9uZT0yMSwxMSBmYXN0\n",
       "X3Bza2lwPTEgY2hyb21hX3FwX29mZnNldD0tMiB0aHJlYWRzPTYgbG9va2FoZWFkX3RocmVhZHM9\n",
       "MSBzbGljZWRfdGhyZWFkcz0wIG5yPTAgZGVjaW1hdGU9MSBpbnRlcmxhY2VkPTAgYmx1cmF5X2Nv\n",
       "bXBhdD0wIGNvbnN0cmFpbmVkX2ludHJhPTAgYmZyYW1lcz0zIGJfcHlyYW1pZD0yIGJfYWRhcHQ9\n",
       "MSBiX2JpYXM9MCBkaXJlY3Q9MSB3ZWlnaHRiPTEgb3Blbl9nb3A9MCB3ZWlnaHRwPTIga2V5aW50\n",
       "PTI1MCBrZXlpbnRfbWluPTQgc2NlbmVjdXQ9NDAgaW50cmFfcmVmcmVzaD0wIHJjX2xvb2thaGVh\n",
       "ZD00MCByYz1jcmYgbWJ0cmVlPTEgY3JmPTIzLjAgcWNvbXA9MC42MCBxcG1pbj0wIHFwbWF4PTY5\n",
       "IHFwc3RlcD00IGlwX3JhdGlvPTEuNDAgYXE9MToxLjAwAIAAABQcZYiEABT//vfHT8Cm6Plmy51F\n",
       "PSEwitj6SCi9WOzQMnUAAAMAAAMAAAMAAAMACcP84Nbk1f0HcJAAAAMAABqgAA0ofVX/CPn8AHvX\n",
       "8rFM/4glRr5C5yskNjoEEjZCFowGiOhnd++CCKa0qz4FEzc/zC698k2WR8aTZDM6xOIAgfxP3HQc\n",
       "WPBi8C/d13mzNa/g1NQh9wiJ2pcgsQs7bcBPSXn6XxyhnlyJSHjAIegpVO0y9zRMjviRXshMWn1x\n",
       "l24ckb1nO9K/NUk+p5c7EREQufVzw6LkdJC0qkflOG3zkt5IhdSnFIdyW0jzmLme0vMdnjMkYe4L\n",
       "wT1t0domTpWdNCSY31mPjxPFojPJ7I5zKfH/aMbghzYXQeI+ULw1NaJtNfFnbEHL3jiKP/3MnoCl\n",
       "chV6QSO8Qf5SejYiyr7N/myNlaUy3br986LuzsiBrLjCTC7c8eXQnePyBeHH/rlcc265V3dbcF1Y\n",
       "RwnIrqQf6JeO5NDzhU/RL5sAJPm0Mpuk5nmHqgVokbHuAvxcslGdUXwkdFyLhIBZtfgmq7t7JEDS\n",
       "HNi10uiv/lym+Jm06Y4GgE84BKdpACbEkUqQ8w4wnv+EGYY97QtCVna5/DlZ9+Yqc5qpTouhddnU\n",
       "AybPmO8sDXQa0NYaK1bSdw6R0OZXYgwAekytSvqKO6dNChFBydQ/ulZkHwtv9lydroeAG6qnkGOj\n",
       "rQoV2OUNBV/n7c+OCv8Dy9ABsZBtRhpZIpE1ju1aG4cctCeAHhTEBIxhiJ9xucSyQjNP0jl/DNCi\n",
       "AG4Zr0o/IMBS3FAQc09fKg8yar21YpJE3WZR7Xdr2jmjkyFZsXdjejwmj4uiOfvVOimClR8klBzX\n",
       "IqjbEu26AzowUgpReZmEvUeXT6kTafi1A3zyKb/a09DMAD+l7BxZJdMyAAADAAADAAEpQ4hFUqAe\n",
       "/6ELsHaSQhWbH7fT1Iu71jAoCNkw8sdMJsg4aEaDGIwqdkZH04Xe6VXua2hTRxxRu7rKI8giUbbp\n",
       "c/vk5Lf8k6ja0jsJIb9C1NcOeF5V9zCLD7wAAAMC+RXgo6QksNRMfuUhc857geOQz9Xf48lnVcPa\n",
       "E/9l3JLMtaJQy//4QQ0pX87FQf26W4SpLCrr4Qs/FQUJ3aPRbj2isLeRSyPfNzRwoYp8T6LOYIe/\n",
       "Udt7aObmKbU0d7dta/+0C0+TX3AAAI00ok3tXjx19jgoMiEEX5hRNbnk/ZMbU+O0YAYN5C6NaBGV\n",
       "Mh9LB9+02/QF70oTySzDztpO+pTTI1bi96jmRAe1G+iubsyXwzVaGoHAzL0F0YHJwAACpsx3MBxk\n",
       "DZEbcO5QGihASdtC6wmuoL5yWa5oXKAZpKrDyKh1Y6vVsoWubEWJ9JPVDAUTb5Ds2h7CmYVCOh/J\n",
       "z+JDE4kTAV9WVu7gwIOuNK/WFQaP0TmwRF9NDIVg17NCPaTkOcDhfHSfMXq/8PsNxeeGzP2Mpqxe\n",
       "c/eOIfpPN/rzMOEAyWyM7+LRdIW2x2dQXosLhVWDrzNL8QvlNpRtclm/Bn0DeL7CgAAVHG4Hx95P\n",
       "6U7QBbwRyiOsvqTvtqD/gtGkYYCi2z3tx/DenjPOkX7ijP/xvK8D4GlDEF7Vh1vBNE1aIr5ohh07\n",
       "aPps6zENinCIycfX9qGCmyv7rubid9jzzjq6rAv4JAo55DJHVdBrFH547NZQwAAJyy89j/3vaqNM\n",
       "UUKla/6wbRNDIEfMyDWz2xxH37NeC7u/EXlUGegGi9oq5pspizH9IlKid3XC+HMYABlBrtMYx5C7\n",
       "Q8/CIx8NcIa1Ew2a+rGW8kdjvLF0E7dzyfPKm3qncQ/coLE0dXEDLLUK5O86eNAAIksxPUTX0v3S\n",
       "BiJaoCS56ZzdRXvjIjNipOCWg+bbqfF+KtUFBq7rzYBfoFBpNLtYiPh0usvjehrySaqRchm+U05s\n",
       "3dZwKPDEMOil4WrnWHkn3hERNEcQ71u/Mq2K1JCRG6UozaMN5LwI+u5NynpfkMRv2pvWNvfRjMDV\n",
       "CU/99YJ/8bFp+u0l/rCMD0h+U0FZxjxomDv0w265Dw/0kiSXUC00XWqAukAAIh43udCxK3sBTB6b\n",
       "x69cZVfNpZTURzjp6pA/SmUtEjv4c2AFQ2I+sD3rMxClUlfFPlHy5BzlAqgYybMvFR5smABpxK9P\n",
       "uClA+X+B+8y7X5tSbf6HnqfGZsIEggE54d4acLKTCJ1+NpAVFqtDRhhU3od5g5hjXORwspArPd6f\n",
       "gYABkY1DfcF69cUJRcoPl/R9Qc5fkUaJiNRN+cq2SpPfliicNyxm9NO3ZHRMY6OGS+KvmI0B4c2K\n",
       "/lYy6OKAYf4wAADwASbTkFZie8HTmPdvTtGpWJh7bRICncbQY8piFokl7EUWi8dkB1L0+P2J4QAB\n",
       "NoW2fGxPjRGRneKHZCL4kd4UjuRLzsBf+SD/oDNA42THrd8NbX0/Br+F/hChK2NDIg0XSP6eyrkd\n",
       "JEp+mjbFUHBhaisFVGxCczKeZli+b8TeEp+RXvqeEtc8JJ4i8hb6DfgACwcooSISCet8MK69OFqK\n",
       "N2koHD21k08wIwsnN+faAc9yegVfSyEM+795C7tJZcI0so4NKt5zLhBnGy8+iqss6gxLxb7AAJKx\n",
       "FsEqHmQ5kd9LQf75rYE56WGl0A185kwCUi/uAaSPrJu6qhFs2uvybfqjn2qws9sX6DPbMb94ABak\n",
       "fhXX3r05Qqfkh/CMyv17MAFeagC87l9Z2ypJ8p9rzinV+iwNuD4NylJ0KqE9VqFTe/kZ4gwcrgaX\n",
       "0RcpYt6AA0SjWhfqC0x1t7r9n94LT+QAPsEEtIIFywa3z1Czfpb6xSxlpoespAONm21gz59EUtcL\n",
       "HWVICa/1+9uDF4r+xrAADnkZ6jleWlI79aAp7W1TLW/znawHFoSM8htod2A9/agF95Vrg0iAesCq\n",
       "9MP8QvBD+kQfkN46QIeusS53/4UzKD6DcunJGYt2Q+Hle0JXgaojTkmqBypLxy6zWaneR1ij3v2m\n",
       "iHbndb0zrAY6RWmxLOgjSAN53gAAIzLQtoaLYMqR4cj3iYbCYMQ+tH8MUBTBeu5XZ4rZ5OWksaCt\n",
       "Zz0KLcBBStBGziuxxMitR8UhkM8St3TmrdVhz0bv1RRwFXFw9r3Pg/nnsBzN33xK4opn0MOUy9dm\n",
       "I/xQS8ZxZIBw+s00DMWLGhgsrfXDJdod8VrxIbgQkhwGx4AAC9ZomFvze4DY45+AURfNoRaluAxd\n",
       "yBVrTgVwLObL64xQLo3DjgypQyi/oa218AAAw4y4P+dXoPBATPgF9QACyE255s3MO/MIes8xgUM+\n",
       "F2DNR+4+bd/qxkyGBc90EmftG6p19yPNcHSCgFDQPxcU+GejFdic1snT7bAAAPrRyM++Hpy47kSI\n",
       "sBmKQuStvRtaGT3u5mLr2D6URptUnV6pMjgzC8gn+GGd/+5bxBZ50YR1dlRHq5b3IqMXI9w/QTqO\n",
       "AAAjzHKz9eUAFKLb27N9fTx2T0LPYli4/T0uxERh/VdB+1++Fgbm5Qn/5pnsopxPYSEqT9xnSRKv\n",
       "WXLbTvgi9eFSWeho0ilgltPwC8QCS7iqxZVjBZgq1cmIn2LOAm64L/Y7t4nUwi5l8yOBEgMm13E5\n",
       "J4q0JM/FUgLluwBTA0OzMRhaeFYPwUTTMKJxVVIemhoDS/e3EEV5qpD/mVK03bAAADigyd1LwHJ5\n",
       "pxag1OgsWVtOFfAd9VBBq6v5LM9TUuFvMdCAJgMEGfjwq0z6AaQndefHXvFQTO5n1zRE407h4O/l\n",
       "hBuI49xC19kAAAMAuaQmwTzYnPMNsNkFdR5nV93G570znBKU+2QCSh8tmoziL6aAwc4vqRT9/KGA\n",
       "jK9/OsxrnKhzigAANIT57mexgDdg3YKfXb7VyjzHGnGb/TDgBzqRchJIIVcQYdeRkt6HHKzbPsQv\n",
       "bOPqR88DXY4k/HEIQwi30p5ER5ZdQ3dOB/PLCJysLNOiAABUOcU8Pf3iFzMR6Rb0KRPgFOZvjwnm\n",
       "30NblnwOYsauojH6Nuy+iagxcZXlKHt/Pv7n3aje0IYodd08P2NcnkWmghC7ox+vJu8TSfLkfCd2\n",
       "PJf4F9WLo1sGZZG0rAbPDv5aL4y2jUL//ptZWeaLeEMkCWzqn0bYmTmUVAOF3LIIj8p2X7lqipbj\n",
       "dOzKATqLeSJa/cANRLSYipkhj3Mko53hK3BAYUQAAAMAaSnMtTc6CpZ/Fid9NcIi9jXVxtcitv20\n",
       "YD7QpbUUw9AiHCByjCjkeNMIevEJxyyb0LEQ5Y7jhDi3HX/Jpv++HpF3eK9FVYPpHJPqfG86y4JG\n",
       "HEg6tTPD2wT964zkOFn1ccBmgXGVSPJtG4gAAfEeJpXK03QTHSf2P0eUKpv0EIPqEzACdyGLdrTQ\n",
       "zMIPtbOn9VV+V0ANMhY0CgTlbq9KOWST5WFVEDDygecYa/QSpHyZkW6SfWZhMIYIMy+E776MdU5B\n",
       "tpmdLxjRuGOxQAAAqLEXvAP7RaFt5/zJIJqilQuP4z/rZOqqCs7Uv6tSJBe/UY70gIRL7TTy7Ety\n",
       "u1CUPLxE43H3OBQdFXT2Faocb1FoljYXQf7WSMEhFZspV0UnXHTMmhiV8et+brBTffP7XJMgW7Te\n",
       "K3TH678tucOjmkMKffWdyUwGxXGl1/H2Zot+qs39lMFDm8GAQIqhYUmo/K+okDcfky4ha3R4zIAA\n",
       "IVAUFArfv56Z4mGM0eqHG1TemWv2Z7+F7BL8jg7Dqx+LblqxGbIoy7JK6/afLw2bMsV8hD3Roxj7\n",
       "EEJ24OsbVIdmwsnmhaQboia3ig5tK1dY8MMm0vBtjbVeZ+yvuDbnvnURHzeHmE0pmeo6ygMFOF8y\n",
       "gyBXnK6GQQZX3QTLmCdGSaiFy2mhSFRlfv2p0btYWhdNPafT4ZtnADvIc/dQjoSzZmJFwU/n28jH\n",
       "gNDPc14mvgeHSrBb69cUj/xvRPzsgcX7Rt7DrXx0Y5ZwwyfrLoCkAIbFJczV4F30Gj4HfcJyxjdJ\n",
       "x59+tOnDKj8NE43Zn0j9VUNjotsVoVsG9/sIl1f2Qcf/2eEjMd+zXyGsxDC6M78OzwtCuRCv3aAz\n",
       "wA7r4t1ASS7G9cAfXna2cvY2Ti8UtTSWVDTW2fkux9ZaFPrzZDCZ0mSASgF30deesEyULw40OMTk\n",
       "a7nqIzu2Scqc/TiPAo2fMHtNxFBT+mnDEE4LP8diAfRRy5WNkhI25zKIYo6RaHan4UaMmjp6cI9I\n",
       "ee0hF7LFo0NYp9T7mj89kgGsZW/n4AvvhAQawZPSy7mXtgeNoZezRnxBOAcDLtJ7T8N9TsfMzF4+\n",
       "t6Ek9vyWGNPI3LyEKeQZtHChwqo44DNe/i6Eoh3T1W1kJQ8jdFzHpz2P9keP+xZqZlie0THNUev3\n",
       "krgLo1r2/2fhmzC97ZpKkSHtbGjzlD7c89Rr7VVTRAfwmNfMx2sY7nOeILUT5m8yPpfAsppCZQpU\n",
       "UpuTQohhu04qX5Lb7vPaFFEr3BgtOm/8tYzEn3eTaDyMdZGnJeyy3iIwd3Cjbsre1XZZ/I1F2Y8G\n",
       "c7jeHNs0SE2jk09xLqsFOWVaCvxvZuQjr+5hAiGDspWET2LU/tuTli9XrDCaZTxYh+lzoj2GeKUt\n",
       "AJjOA217KvP7aeWsa1meSpa6ysyJH69Uvg+2llxrnm4S+5ug+mojeLuvxovmuHMsyXBRSgEW2kzE\n",
       "5rJK89Jge/zYoSRfGZnWkCKOADHd2+IdGSuF4LC2zhPLs/0OFmUbqqmm41pO6KEf0160If7fQVxJ\n",
       "kq1tEXzwyKfbDRE/S6lYcdgkE2AE83nzE5Xe5bWJamADNe+RH49xLu+5Q9rwZ7BI7fN46qEHRhe+\n",
       "ROHRbpyQ4GiQ6dV/X7YPgSVreo09vfSqO06w4edzX5JnYNfR/skOGKFBfLP3sUZzIYfeJ+BaUQCM\n",
       "rQ4rX40fOXka2pwXJg+pd6cwNNni8Oq3lTbFTFZ4dcK6ECJCv4UGgqbq92Shza7D6rF6OqNuaxpW\n",
       "oBCJUUDgqEsp+Y20No+TfHuW1wNcX3Tf/wD7nD8Hgx3hCGgu24EvoPQqFIZFz3z/hnDLg6rKPlj0\n",
       "0yAcPrRYuBOUJqZ3XLO63Ze2uf2SvGhv5fPF6KJ1xQT45FSKD39Q20y5VguIhv0bgW/LNWhbVlbV\n",
       "4AmTvsQdi64EQbFj4I9OB+723AMjT2/fprK6cLiXr6HzK8qZ+biEIW2WTep7OvNv6VxgN7OCosPZ\n",
       "7CfZvqUoyyDcGfy/E8bT4UjqvJnt/zOf8EX8L/E8IKIfjY+RJ/cZcRHmsKkq3S8cqCguY0ZErCm8\n",
       "LKmFK8sf6SGUeYGqWtsxUQt1OZ5MsSphrx3UfX7WpfH15BfmvVkdfRh+YcdhGORZrgC9Dus1BmKU\n",
       "iBiH1gvbRfjadpmEphjVKUyCYMLSeSnJam9UrFnldlMAVNMX+ZXHDetRRVN8H9vIujaLovPN0m3t\n",
       "LbYjkDv5CWCp0Doaak8tvPcXDw+W4AhvIETGigzlteoLDOGBhEMgVLMo5Yjki5340Sd4+q4PRE72\n",
       "w//8zcmkNhOoBju8B3arrkZrQABEhgMO1o+jXb20VlPYD0BnEp+xtLJ+9W1qVBamsUpUc4KOh1P1\n",
       "di/3I/VqBbBI9bHrxeLZ1jzklrxK1mECiIltx8jJmjBgSE6IIHtUcn6rUwxtG4ymY+8w6MPqZ1Qd\n",
       "ZPznzQifXFgcJJ6CujClgahqn0zuDWZWZmblD15qCJkMPqqNkes5/5HtYw5Ij01+oAF/gY7PeolV\n",
       "J/HDQs/R5xGcbqOBHzrEniVZGWbC+WF5FiM7+54ppd3RY045EodqjVA7KVUQnZPIMT3ormDOqkjU\n",
       "jGpQtbCCHTRI/FUxATUI6fZ1qtNu8B9HID732QATlTXgAAv1aBYuAAADAAADAAADAAADAAADAAs5\n",
       "AAAI9EGaJGxBT/7WjLAABdxRz042n/u6cVVjdAFBX3p+sLSphotzGwSwqiTgG8F2pjQz2i5A8n2N\n",
       "E9HS9pPFzzmOcZ7G/+mNXLTw2+wPRs5RiZD7s9au57H5M5Ucql4eKwXYTVR7DMWEGRdefcAsPz6Q\n",
       "FMOuuoYztH5ubXrKpzwsw9MmPn6LYrjiwTftxesiyHw6lWZGhvZYNRvc/Ftc0pPcHpgFF0Q9APh8\n",
       "VrnomS6tKTtvq1HHV8pG+eRYfb4hvANfdOcsVYWTPWMuyURumzeAoPhEE5IpswhcuhcgaQVBIRvq\n",
       "+7uYJcXDU3nt89nd3LYex2HPXbe8A26BcUEAdMCukx7squpbzw+aE5QYUsdjWlXewPWxy1ViAH1N\n",
       "yJij2dTbbS3BT31An2XM3cCHHceHQp/sUV/gWX95MP9snRq2zTv0XMPS560FyaQMLCi9cf8EVcpv\n",
       "WynNGEt1NIsWWPWF3ZiyRlFguMQcrYvJaPgKIofqFqywkCbWse6Qgsefp11aFXhl8G/QDojOCIbs\n",
       "tDNbxeJbZD8Rvk1v/A2iWTQe43l1AiU+zKOvea9ae5nE/zFvw+lipP5XnUhrOjjQPfnbIKBzgOC3\n",
       "rl5Fs3Z5B+p76E3Tdt+4gops7Ry0u/+xUWF1TGNA0gBjdpLtMV/gOc5tgRFmOpNoS+XGtOfwxuHo\n",
       "BPrj4BYcznuUSoBWSKOZhFf4pIcf6Kj4ZMGIvYaUBIVcfinIqYbOUIe0yHcf2O/v0ldbbAM9hpHW\n",
       "EvI2PNh2TDWw5B+SLgMRicaQ+hzvVSKcAz/4yHTi7LtJ5v7tZANjSHLjINnceN79OUFJb4j2bJ57\n",
       "sPnZ5CV++T6Ot91W7zPA05qq84qSPvatuL8/p/t7DwAEUbV1y4DfepbLAqhrGs6syIOwv8YAHC8W\n",
       "qXHXpbhtGugaNnzNECFddwLQoOkbPp/9HYAxvlykZWimdenTS0huyxBcvUhmpdgyW7QiRADqi1Wk\n",
       "k6SzQpHN7PzjZ9qy7uboxOt1NTPeFiGDciYzEQd3JXy6kPNcQFhvD5fMaU8Yg3ES2fvQPjzbl7k9\n",
       "O5UCfSY52wSEiWPze31SEw7smpsikHft9Izc9RVQRvKNoJ/AEGtL4UvyhyPXWuTKw7C/pPvYTlLE\n",
       "4TLMatdyy2BgDWkOtl2twywKz0MEkJ/ZJcLag5OcektIlNIMLAE69ttT38zelEeSJpT/kh89Ir7U\n",
       "xw15GvryVq4umRCKJBmaYtcoy5BevROUM06X6sK1TKkg6Z2O+qmDYPDhB3Mzcfj3BfpHlxv7yxxj\n",
       "1bDwl4LEtGG3Xjgpc9S0kRpArwZZN0d3u3c7PB8P0hrtDmP70XT9kNDrbnwA0pw2lpo7UOynLRJj\n",
       "NR8ratwouiz/1oKtgatx2YqXkH3bRJW0TBK07z+4jqZ/2vQr/1Q+mNRadrxFCmkBsOZLrKWCkXw1\n",
       "Lh6oPPVzwFqu/9cqa3Ygnn8ohA44xYBMcUc9LQnhuLV30sYebuHSF1a2YughN515nyrsO6kPyi6w\n",
       "op9nuZimV5xER9h2uvJWHQmQw+bVlOZSbpd2tMxmbEJ4v1fWUXbWjKciREzu7l36qZNlA1RbduY8\n",
       "JqjtXvyajeN4a4KhFwho84HV42msopE1s+jPRL6EDoxXFGLwB/3SpCNTG4B2uKXyvFvDb657iaCP\n",
       "v0o0r9UNN0th7evbXp9kpiyRGGSQI0HEAzeLkO/GjEfBA8MT78r2pf/QM/3vhPB0ZLNSK8yMGK0J\n",
       "c+80ljx9bVOsFdpTFjwbYtwx0ECA5z9K9fPKuVaZg2oa/n6vzgRJ1794PdV4UNhNyp3sp7/ei+0Z\n",
       "tpYLGlLm2PZlBPk1lxEdWpqsYhUkEk86f2JALTEZ/p9Nu+N/cgWqlY61GXo9EmuyJgU61YwNQdvQ\n",
       "qVhErxB9GLy4RKvmSbnI9Bd4j+3wSquO/Dyl1BL+aSoJE/0Ujz4HbYGaGljIN127JsWRET034xDX\n",
       "Q2MqbQHglAKwp1c0W9EivDs8gHDd6E8HDTHOAk54aeICYnAC1auXLO5cYoIlvNqECww1dTEMuZSC\n",
       "eTM5PX2wyA1doPYIWGzO+SQk2kJuKn4JQ4G4+2aMoUuhGTje5ElenglMr2jDQS44JSHnw+dbQMgN\n",
       "rMSZuC/xADvEuPwlw2U/nxm6UdEGokzcInK2e8t16LqBPQBoyGUqeTTewJlhGJ8PZa7+6/wH/cMo\n",
       "CS8YlK/jtY+PTKGjlWba4KRyiGQ7tMGOSfaqUYRRiLTJfR7UFtkjZXrkM3URu5uN1pkTSjE1c2cK\n",
       "hZoJHsRg3xInNMFaXEy39j2q7AfrkMMb2S3/pLMP0vpty3lWpeATsKIT2pPwssUj1/AaqM//AuGs\n",
       "SED14tp7LersIRTwcYDAid9KMLG03/OKUBsBGkJJMEB/2NnkVhRmddYdnV5wOqxvuK7mQQAjhKj3\n",
       "OmBKU8InBctWlX0Jaqyse2xMqJjMKBCcQd6v4t/fh7KUX/ETqVD29AsCI28gtKDZRYewxBabHl9L\n",
       "MxcpmLm5o1K/R2bE73EM037AlPEqxRHpFyrYg8laJMJtL2JMmZLaWLLKJoz2iEa3NP4vc5TsZByk\n",
       "lauJ11iwzMB+uSOTEPnl63xvIPs9eC7jwLjchphlFCZWrAU9UpJUJ0YcGT1JP50Hw/hI9D/6aZpa\n",
       "AIO6H0v3zsGsdeL40KWUbY31zrkTU892KgRqtYs2Zvq5dJ7ZQotB6kES7UhQxS5+SPyI7GdinPha\n",
       "neaelj/RnHl2R82MXNlIkZJgUDL2wXADriFpakxaxMo6gC8ZGhCoQAYGn/ZeEUUmfQsgQ8q/y7Cq\n",
       "YjcVzIIffTJSYN71MuWGXx24UQSIxn/zXdAxnHpHWsLVRCX9jZ83hSOFz+536K77ue+AAfOYk/az\n",
       "K1QqWKHL2lt67uDez7qGeZlhbcb1Mw3fBBV2dYVGmAy6cmuUCBYYKrXFtnMk8gbXyg8y6KWVLJ48\n",
       "ZwFD4p5BHaXIOgbv0oLIIwCkaTZoc1QWn2S1tgWM3eAExwGhx44gAPtmoHUmhSNOrFqUzTSQlwAg\n",
       "pYu2kCaosa6nVmdrNtD35AAABQVBnkJ4gj8AAA7TDb7bzmC28ABuSVV9DTWof6Tr0g0A/Mshwn9N\n",
       "da2TJT4w+a/x+VWLYrNw/kqzPwLwzJBDiS5LwytYtYo07lyibdP6PL1aeSItdbiKwAR4GO/3MOTh\n",
       "rTXqUw2C06ZcH5Dw3SWee8XJQi+ookqoxoF9X8ybuLkDSLnt1bKG7HwH8PAkh+oVo3YOk+xFSSjD\n",
       "8tjGoDCiZ+WPi1kXbYnFw+nxX83pjTwvFIbNIaNIZ3bpLwBVQuO71YLXsuYxKQ73IS8Qw1Y0yYDs\n",
       "I2y5DoS7kpN40jgfrOjSAeE0UWK5uxpdisisPdvmp7CRltBeCJL3US6WX1pQh9SQpu73FRu4mb/a\n",
       "54TM0TDFDNf3GnbXg094kbzp3hrnMJk5wbvQIWJ5WQ3UAM4Q3kPgo4dbN7676PRIS+yWSWvEz53B\n",
       "VJwFsEiCfugwSXseHwQf9Sg9qMnIR5e5jRE43H0W25/Ng2yvwtHFoGFxj7NiQ8jqhX7Mr2kvc101\n",
       "TB2tzLK9aPJ/fSpb1zLdvhaJ+pQlwd06ASZRCkKCc+e4UNLMcZCvRMp/icTLf4meJWD0wzosNAeC\n",
       "jGHVoz8I2qdUw2CSEhyxwHrFZ/TthWoX2umabD4J11+54KZmYsQrSH7R28agt+c73KvRWoA5Dd23\n",
       "Njo4xPrNlGhjoOaa+PfhQGQzJdJqzlGmjohiWo+fjmSdKCxS9mw5j7KjVMHdzPJxgF5pm5jDTtH9\n",
       "hzxfxJZ1IShAxXqoruweWUIKVHdf/5wSs/YGAofirADLy1HeOiS2UQnsdScUN+u8D96A7YfTvAa+\n",
       "MPYvdHpcw2JoLywJyVyPxPOumW+Y2VrNmEJpmzbkld90eb25b8vybcfk8WwuhXU51FYlBwhfg2j8\n",
       "7NRXpV+LE6MiiudJJ8jnUHDfCnv/qhBvpPAPkbyTGNneU+MwHbo9OFpfP8DBt1TSwM0p91WV/bro\n",
       "k9Jo08mXC9qJqvfggHVDcZzwSPcXgL8c2j9I/XPI+NiRHGP5cl8RmIfLqlN3N14BiZ/BB25phcoT\n",
       "2yvNpv6vSOKTaOLsfN/asMmtdHOlzrFr4aapLLhPKwjdrdE/X7zD3kbTo/E2LfyTF2AteSNEEiqB\n",
       "ksjQkHUMESyX7erUy54Sc/vPThLXeIuUEtBUbKLUZMk1jnvoc3bOYrLgoLoW2OG0MbhlnXBVU2m4\n",
       "ELqlwm1pm4KhBILJIBHdOQq+lSTIi0/Y5kxXG+KRdC2SbmYeeuAYmNL/XVHrMatXtNUNZv20bXTI\n",
       "YY5csKiaN9HlnSIty1OwhZkgdL1SMMvY+USAXBI7Su2KQ6XvhC+iBS0oRf1K1bh+sFUGnG1l+FXL\n",
       "tjsGbLHTB1PpsvQGByWFTBGb/XPvS3uPQbRBd6zdeBpf1r8RsfJiTZc+SE3yt7hnOnvriDZ9ZGEM\n",
       "FIqM8/mL74s7iYnHq2jtFqLc8y3cObzcjTY4gfb+ck7Zaz4sRcq7CnsNtgFxq6w2JUgcUfOeWxob\n",
       "EA9d1tqrOIjb4kZ3z1+0XFTjdGymypGN/po71/IDAcbXH9jIYjUAIwL+Oi1AjzyT94eMyN27H+w2\n",
       "3WL+4KRswqUX5ly95tZwtY5K25CQOY3TsZFrDqj3QqqkyywUpSZ3kY0wDuIgQTMzHMylhbgsctpQ\n",
       "GyAgHV4oANQOvt55O/DoUNRG/C18lNfUSs2NdfF5Jtb2KmEQW3zVUsJgkj+9xIUK6AG9AAAENgGe\n",
       "YXRBDwAAHEyn03LgZqAFsI+Bsk4QWrReIGTj32gdr8RsQc5gVsqsHuxMBgj4x93pY9RFSiK4jCBw\n",
       "5ITizqvL+VTCGecnfl7bPLhApuEvS9d094tPqeb0+aibBjgH00m6yKNvD0HkprLuqS6te+XZ+3Na\n",
       "+ufuccSUv8hvDGNBaM02SRkXXIPaDg8ewfkUYw3Aqm+6ju8MO542N8JeZhGDpjKNXv8UhDdzGBZW\n",
       "dxKP3ZpbWqTduEdKZXOLK3qWUBUDh6YChhLO7gJE2V43fZVGmp7052WWh+3qZlsxALfemJBhjvx/\n",
       "+HMkJcY9gLPI/btD+LhDC3ZlgYbSsstfva0Evg30TKEnaRaHTFepuRjWIrZrfPiLVTC0F2rwOG4l\n",
       "e1FLWoXbj3n84dIGGjnN2b0stw0C9KxF6Ejp+Qlv/P3bNPAy3d5Gbdx7rJJ7eFLe43PsZfZnHfH4\n",
       "LJbJYPR/KamhDtfM4FEq5UYXnYTLZQZpKCwrRHDrtX8z6F+Ltnfa3ggZugrsumSoROeSk6CF5yAU\n",
       "YVTsr9p3pm3g89+BWLlSdDJczvyqvwLjTYAU25JiAe96aM9E8eBpC1D3+zL/aoPtqZVeddTZk/1A\n",
       "RzBU0490hum/WeT8PcYkb0hIfqhqMpaJ5Oa4UeD7gYk5AcH4sFxuuQ6lBH3arZ6ul3XiVSOhil6f\n",
       "/icY4jpwRV0ICwXxcMuHPQU/mFko5mATPTuAzzCoUE4c9atAIq6RQHn3SyE1rielyWOk12ONOwkk\n",
       "4KXZnswlTxRaDrGa9OC2Bha5NfaYL+iszFHy39jtqleBEoZzESCUcvF+J55IoP5DNEZbesTsBmmo\n",
       "Iuxqn4qEwFNJXJrO+5LLq/1kEBAmOUEBgGxVpKvNaZEOMZklA4uf4YnugMy6+6gfUwomQMQr2K+1\n",
       "0Eok3G1oOF0bHx+qdACBUocQ/KiNwyTWAAHVLt+gNVkMKTkh/vWUVHnL3Ico2T8biUsLb0EB1pnu\n",
       "TzE6M2ruuh9O+BVqSatv+CzbZlKzRQUJxbT7eaU0D4xlhe8Rm0DL0DjLi6AWj6MHHIC4uWCzX6Or\n",
       "aaI9QszTiQVACYXK4FE5P99sWl4VESDQjCofFj72LElGpkJJgExoErXgQDVbzZ7MGGQIca6gLiFE\n",
       "bWhIsnK8FiyO7Csn74XlIxhvBl8wdKYIYw9QDEpbp6xKLMsl8HnLS+pr61yE4vbXAZSo48TbV9zM\n",
       "Qo/jYigN3qHAgEuhWQ+UDJRyR+ShsV/6sWcUVAPMxaopvttwWQQk3I1T664DU84wUs76TmmWS5Nc\n",
       "+p24p7wnubYYA3lkhizpQ/U/j0FTXPzdCuCBfcKjyfnAXp5fy5gS1rN1NV7Wl3NnYsoZ+w6dkUt0\n",
       "uK/ru0LgQye/Q9JvCEYo4u6fw5KBBOHhDxkyLRY/3FnkNvtaZWY97UbVQC+MzwAAe0AAAAQKAZ5j\n",
       "akEPAAAaUfzWoAAulHwf4VBGc9f+hattRnqNWTL5GkrbGUQgzYNrjx1dg9BoouJs+ldEb1A5dsHQ\n",
       "2nNhmuZKhHQlR0NU+0t/5AFqw5Ibvy3UG2kfnB5L3Pdnrhax64RcCMYmP9jeudBOB0UmF2Uy+0e7\n",
       "RLk0saGbGxcaI7roqeFCGZTuAP8jQzVXEz9MIpV7XXTA+NRIQPLj/2gQn30lKB8I7O5q1IIM5SAL\n",
       "+/UFeLtmpEs6lb5/IfWgzZebEPO1+RhzgA9jQ7+KJkvuOAsxXergaRLyftlZaljATuKjZ3CPxtv/\n",
       "OnNXs3yB7gDgJTfyx7Ai3I1k30BeNzlKBsSToy71aF80tGqFsa/BFE1cITp8QajXYWrbA8tJX3W6\n",
       "rvBCuvA5by8wG8nu/5ngvLT/zmTAo90VSTDZzQS8ocSgQMknojuvqd+Ck+KyzHq3TMJj86YcarnZ\n",
       "x+/BULaZMj/yUngXYU6eBYrtJQq4FoLZtAMIbJo1SMDp9zHGYxF2Fzvwyd0SwHAX3VJn4Ajmwc6r\n",
       "/HU2lujYlgICdETImJaYrZD+KaA+4dYaCuw04+zotGlm8M04JyG69HQV+BeSYoaki6aHgxRyqazK\n",
       "qsskMYmlqJS93lXS0jWF58/5UG2rrL7qaQlyimBeZGmvKU6kHkLmykbp/JlztN2uRgdGuIeXA8gA\n",
       "XIv8/wWONwcw5uV2+5zwe9o18xzEQjmMx5LM2Of5pevXDGCWZkZvIZ/6fiMl50+GikBkuZOBKRgp\n",
       "xtg96si1ofOcXG4wRQIOMfb0+4qJRv28S76ncoWldxibLhYEVQelP05BP8ADdrtpA5BG68pFGK3d\n",
       "5z7qgRc+fQCdCTcItnywIuUuCJfUz8ZmAs+36FF1QYZ7gr77UCymOuwNEvqkR7592vSsVBmWu8XE\n",
       "uvpQptXoltBNEHUtlb+BMtuGSdyhkB16J9JUexkM7arDAvloUsVBwhpt/BaZ2pFBThDvovtSy+c6\n",
       "VkvyI/UpfB/p4+pD+Te9EN4G/9bccWwQEVzEgJklV6u3iELXbUN6hTeSoEYj+k9ZO1dsSQ+ha7t+\n",
       "A51onLeAbcaP9uX5/VMBvRThPfZWBkQeMWBClN324RRm6OHECkMNk4DwkORO3CCwS5oP/ZEXWw4g\n",
       "JyE90JexlDl6DQBXV+aZI6poU2raB/do8RDQPPGfsWVdkNkOkhattJS5C6DjNekx+yF6rUcYroEp\n",
       "tfOJufANjnv4JWQoB3CxyJE3u/183LYQjfDTPFOOv+o5CsHbOQKaHFgqSSLczcLUDmK3hEAkLrHb\n",
       "SAL0UybCfbRTXOM9XIlLO6JkD+hZMH4DwZ/+zLDN0BXonkCggH/1Gjvm+67Y5TDa5ordCHXrKfCz\n",
       "w0HgBA0AABNUQZpmSahBaJlMFPBT//7WjLAABXCzwAAWE7BpFHxbvFOfc6eJUgfv+XkIBqqs1fEB\n",
       "8Wpf9MmeG3691v0SZizE+rIZ7sWsV3Ap2HvgfgtEAmVUhSJKYFBdshFDYOtnbv0b7O/AEXTldnmN\n",
       "QD8XXnBIHf3AaM6wwrDieSFSL2L6bN6sUI8rYkpmfuI1+i0NCKWsQmTVpeuTVQm6B2BBo64nDmdo\n",
       "JBngblvTeKxYJvr0GiyS4hpTUFqy2gaVCieq5w+6UoWVX8l9jortGeq5o0Xa38fmwJRkmbzk4Pai\n",
       "p0v8eBd3gWK0bJBj/RhH8+9NGaGmZ9p3OjIrpJg8LWZ4clulLZtIDpWHqrTUxKmiRf5ilmfXjMHr\n",
       "zAA87A9jHUicM2YoxGCFumQHq5S2JMquAl0HCDqwxqS9WDpcIj9pnDvE9NcNzOW6dCndTNm9X8TV\n",
       "zGm9jEXv7CmG43bGKo2RqehDA9eO6nMmWL13pz8x1POIBlRRpJUXpF61vxrZ6BJFrBWA4qugiSzm\n",
       "RqT4GgsSKRCTOHVorDLeGDg6cu0xKX66H31BU2izQ1uZ+0DgXpVft0ei2XLi/mijRm6f1F3iG0JR\n",
       "GX/sBO9jKHR/lKGX6YL1oxpJb0bC1PEJ4ggWUnvErjDbELEs8d90/0mOwHj2P0MNTuhTloAj33nC\n",
       "j68l3+tDYnajq5i2H9hyO5GQKeBLXNwPgy6x7KYbx+Jk/Owo9GXJUnI8ngNXmtgmBvYS+rAYM+9y\n",
       "t/73CoBOlvCD3aVNTyJ4FUQkyztNP7Tmo783PkF+aD0xaBPIuovUdeo0z3gUWy+2vawHskXoKJsB\n",
       "vCPRQwCkjLBfC0DXwQjlR+sEhMw1g0k1dNtQYsH9zsKsTkNmC6zcOLF4TqgHe6dP81kO9TCjADyR\n",
       "0b6nSkNtfYz1cOQ/pGoqo/HFF7KXoCXHE15AhcuYZqJeufmUY5eieRXF7qsbq3YKNYcHESotxV6v\n",
       "MOMEK0oiV+ZOikehb/4bMJ08DGf92UA/GFWhKYk4x5U0beQ+bvKpxjV8oFY6y4uYKtSrBVfob5Nt\n",
       "718V/ArFnpE/h6JMP8hfYQyVRvkoUTCPK9JeBTSDnALos+dnQy6y3LUTjbncGGnZiEeNzQvT80x9\n",
       "hDO2vv/bJBiwZnSyOCZEQ4L6RcjnE/NbRJDhZv8B6MNzG2u8lGwCrfwPu6R3J7IVjFbxzA4bRXo9\n",
       "o+UtAgGNTdEduD00HPrs+Xey7VafXZDtWAMYQhrtSQAHs9ll9FJRi/mEkOAJ4QKcSps0ix7mTgyJ\n",
       "4rCWfXw7Obr8fyDiHa+mrvRuSy6oUyRYsdpzTpJjaYTUFbp8meA3wYQlZvjZO8PGkxgCWpKGKxAo\n",
       "7aSnN6Kp6FojB6IgcHNe9JByNBWGMrtHxueqfqG+DGo5cCr7fX1Bt663r/MlMonR51g9o/hV4/4C\n",
       "zRe02Ne/DBXr910DxIWCA5CWWHLAebEhz+FPVB0lLo2z79s5HfWSrF9wHTZuvn8es5fEmb+STUiP\n",
       "QOGlhsiXf/ZtZALX7FV/UYw70g+NacbS64fYVgOkn5WHFS5eesgAQv1K+qgfS9PEsVz4XRfHRqbw\n",
       "2snZuVLfDxxxA8m17oPXD6gFfA+5Tf9RaPwIdbdQ5/rE/8zrdOYuTyX+5vPTx/ESCdcN0/2E7Zee\n",
       "2YDku98Gzl+zvTrhzGqOH07/UyuGST2rD5LEow4fe3goNpAjUQqv6Cw+1s2smI74+jjTX7NpV6sx\n",
       "+lvuKurkYy/pP/TTs5lyX95BNjGXVROKnEKtLIvofL4fXlVCjzeC7i+icWQ6uOhp45RdQxOZxJoc\n",
       "3gbw7fPG+vFEYJMod6laWG5HItLMQFuNjRZE3vUTDld2+cLj7ZD6qFEEV03OSeTdJQOQ56aorBP3\n",
       "ItBISoNd7h55Zmdq7+NVcyOMNp35XeQRZVBFSaeXk5GSz9GnXQhwcdcsy2pdvsbG8Dqq/hZMhG30\n",
       "ajEo14pF96bfcWVaCTw4Zck67SHY0afKNSg+lwA+UfG5O00oM0ixCnTNIToCTsHfJQNb+Jc/9vb6\n",
       "JaV210UU9UGM7vzEoaT198s7VENb0uVMdiNN/Dnae/eXVnW6IX3bwNnDNMBOPmI8zWGH+4KUZdRR\n",
       "oZDC6Nerna9cIUjTyFfs1/mn/i4AB3MdHT2JgiwzTAyXI0TG5UNHhrK1D0S15ob7mzk1B/boGMxh\n",
       "a+MS+SHn5ogFfDzWtVqMq8PAXpxvOoYHBUlSDSRh+MPLSPByLPjLeAx3KOhHl82vpgeH4BSizskL\n",
       "jWUSfG7Vc0UiilvU5J9P7yqQ/uXPinCFQQ7oNqmcs3a+dWRTrklmoIA2LLdzaLxegbWu7g7jUOUW\n",
       "CGzYLLFbnqD91360nL3447VMgS/tiYiD9c4Qs26KZXkiALj2hFno1i6iIHMxjjuAx/TBsQSH311N\n",
       "IiofCgXF9O/9L17jP3MU4+TaVrjO+Scd6beefMGLOyOwrVKoA6cuI5MS7582kFQ87s6Dn1UC0sxD\n",
       "SlWKNCFN5J7JFgioVg/MQSV2WwJ+zhlqxD6/neoCUPZ09qk9bFqqBtYphZJAMxFb5tAcVw67U9r0\n",
       "7cpm9KgxzODK+waz3sC01/z+Ti3WkS7zrDE8EUK5BgeMEgo1kZUu8Dj2sHe1+WyfKu4VzANfmENX\n",
       "fbcSUQEvbS+ubWmg6q7RC67hxyss5jsazoD6BNZ3mlp1JFAgvFtB491v9vyjmaj+JR3uELwU7lbC\n",
       "oLjG3cdT9bwSa+dwPwoWQ0LuOxfoWDdjig50hGgINvZbikXwern9L6OoIGJ+C3r5CvZoYW++YQwM\n",
       "oKYUjxlsU8fxMoYqgEHuJCf+LYQmQE4QXYtiQd0c3GBiObscW5fMecibQYdU2pFEl3l71DhzAa49\n",
       "3c4LlO6vq0tqAUK4xJwD90fVNr87kxXuOvWZXaoXmo/kEjoyCbCE717LHHitO3z2FW3U/rVgvw1W\n",
       "C9XKshpLDdMt0gENDasMu+rhhbpXWgbAlN0AqjOjpf6uOEqsm9zc+BkQVivMG6j8JTQlKbUQjz/J\n",
       "w6f8b/X9c0RuTFunM0ZJYLnG5h4qopkKR+Ia5JPSTt1B3mNNVHYA3E4TtLVTRHTNO2qv8K7cu56C\n",
       "pVLy/Rc590w3mZSAdCsNNrAVE6T8vofLZ1AgkurIy2fAyQY4IAtCy+cJ41qtqWpIkt7Rfu5L4t9z\n",
       "FyulZXRdnUC8eflrJb95O4cx25zBMNqa6RYxCnarjJOa5g2VNkf/CGCp/QfoF0nmzaiNOQR8M8/x\n",
       "FRX53pmGfX/QwRsNTKDhYImRKLApfnQZnPVgXo3l3Z9ts5P40UEoow1LqsdU/SeMHVgMbyn17/YK\n",
       "0RKGY1Ni5ZaOGY30tWGfOjy631MqXdBaC+U3WyzjUPc0ALC8kvpMqBoLFKG1hXLt4JPjTkJIqWfO\n",
       "2F496zqK8hHUrwf3l/8uKZz7OoMwphIuP1kBcjFdAu+bhnpoWifzPAyFKlgQomJFkZKf9pLoti0j\n",
       "WaOoQ/qofWgYg85VKQCtEj65YUFLACH0AQZQja8UpAPf+0xOarJURb0GolM27c1iNNk3eTkMC8Vo\n",
       "aHpvYnludSn/DdsVmniYCb2JqrISoxJhQX1mO+/k+ZV6YQY69mj5DuLBLwjf4u1sserg0qIb8RSF\n",
       "GnQ3bTKXuhdsuSc8CGGwBmi1kE7CazVwLXhJ4Ir3QwBxDxKcguKC/Kf/x4vo1Z/9mK0BPlZ5jafd\n",
       "cn2jGLQXdUoUpU9xpLdXRDPKtJiqWNUXZFVX14Bn9F77N5VVAzOOrdWs5zQMB7Pl762AEH/F8eI7\n",
       "MGAsuL4L20wW2pOUbyL3jUDGAhL9xG36fC9nvKqa0f1GoeIKQgUyZIJHURfZwC0gmCfZAchlN0rJ\n",
       "3KQjgePsT7duKk5DlQMG7g7XIaHNs4UTM80TVSz91QCCEKDRWhHnuptegMFnFCxldH0AZPimZuKe\n",
       "dtTWmwnnlse5UBt3+QDK3h9ela6oeJQmqan14jmQbjR9R0TJcoCzbLX8E/YjP6chFvp+Xi+J01Q+\n",
       "5/OTe/FI77n13rwmCksLwcNRM+BcfXtmGviov/BLcbXc+7oP2D/Bgl8K4VQ2SSJvtTSBvMca6DS6\n",
       "SDX25gJ0bQXf8WTWAHlPOZ7mkI/cNZCMu3Rj4QXrpo08I+6eOeDu/flaHQoEcVgU4WYO54kpI56R\n",
       "KEJ3z2ej6AyeftjndQDfMtIrAk/nVbtpsokYR0LIo2Z2SB0JQNgIKxW2nP4iCIpYTQ4NBlCThmRr\n",
       "5PTOF5zjEqhU8CTQfJZ3XhVt5ODXroxt3SC5Wi2oTKtO86t2PlJ6py5QqiZfWjdckNhSS96DXRZS\n",
       "jx472udSu9DC4URCuCRLHIgql+9mpB++cE8O9w08esFbClu944C+ZaVL84pY13CgI9P2TFP6Pqbi\n",
       "pYNfXtXJUI3s/nE/LsH2Fmw2GVOaAIkJPmP6BzfnN9LYgtwna+ZbZiIuX8gHi+C4n94aH0AU/GF6\n",
       "hALVH9CMFXDQXcOYmfCnhpcgF4YQjtqzO8Je1LC7KYjTJBW+a7dRiXONgPuTEd7bII5XonFPM4bW\n",
       "WuZznmou1wpgRHmVlK2IZ0WyMaylqLiuyaMUuocExIDQvPVT+eWLZBCbFVojqZv2l80purruAm3Q\n",
       "w5v7usHWcTeF2mlYhNs3MonPwm6c7h+yG3SaUVSFrEbX9TZbt5MVhBSV22htTHwP38NH2HHcOJ0t\n",
       "V19hx0GYuhzsc/6sgoekUdzfYxgVQY++yl3IsxqFtbP/GohbiyMONjQEXOpVaWgq0XaA2h0znf8f\n",
       "ZlaGyotUpV++oPL7pW2KmhmqWsoNArjEtLzPbAVaeJKlnxifcfyBii0p9+iiWrLayhqbjTXRbj75\n",
       "amPlvTXt7srU3vMY3wBaP88mJJRzfkrjRReR9/Dm9070Fc/RcdH0GJb/3MtzU+3AX9A8hCXMywAD\n",
       "Wr6phOBcUtBh2xhZA+UG/XUyeUuQVAa57sAwBgGNnoPSNPVzqpoz4HaV4ShA2QDlF0JTadTfRS0s\n",
       "S3Uyxb853RMwepsvSKNodzfG+JUGWNqqoOQZTh3QTcNoZty8QiOUwEth/W6n+nM+19atWlZZ4DyY\n",
       "QT+P8+7ynjsa2PBgGjloiA6IfzTMPzayE/cIDbnmbl8MrrKi9zUlVUqDlI5v4Q2Y5w2pvJxqTPKI\n",
       "vrag27K0KD7IxpJFbNYAnh8GBX1YRnz/WDU/ad9yBRR7aMCFBXCUMdtTAyhRNpHuVBRSctAegmi5\n",
       "9SyW9kFIQvH6mWUGucR+yLBfdrZxtSt9EFEFAnXk7neKPKdmwnwHiXhbwB/41NeHAYbvj226DLJC\n",
       "2zYYz+//nemT/OYfeYHjvHQPUnryQhtylyrDs7ZkyDN3tbzw1rIWX/U4s1AqW566IZow9ZRbodTB\n",
       "8Qya09aMfImAFlLDFm7SgMgGnjQpGfXMUxmfXcN8UagEFK/VbxKAxL6xyf3jKyDUx/yO1Ix5GyYA\n",
       "cCW7rDhu6Oyabsl/vipmR0o43RSHheslwsFiUVDq4Gh+Wux8q+uBrBXb0RFuGTPWB8s3t3kjL2Nh\n",
       "pDT1f/uO8zWk3LWtzQeGR2tgO6hwihVrmMm1aiwE3T7eXQtLqFk4P80BnGCCnQaF0trFg8/7+H8a\n",
       "dUvqIeOk7iln8e//Qu2FE6rXBhW8UKUZPKoW3BNW7nOkGJyqF0TSgh4K5GA2qLTH1lBV0aZDloZa\n",
       "FmQJOOd5f5cKingoYUVWgAzv/M59UlOAXsB4/27i4XaSjY7WwCwiS1uI8prLexx/NgvlX3zEOTLf\n",
       "+VSdDlqnz8+4WRJuzj/u3mCu9lwB/IGyLni+DmwrlYVi4T3bR+ChChs34Q7UhLLApPh451JW8U3R\n",
       "xCSvUUszINGa+K5ecis1KPHn8qn7xj1ll/fGj1wa+wzYdyN+sg0ivwbjKD0VsrzP3exMOtof6Qmt\n",
       "+4T2z1cOuu19ZkbfnU+FGeU233Sq8eD/0yfcH8LHtK8pbt/Kz8O4EoG/rxbQHJuWY7SaWmvtarid\n",
       "ZXi2TrUs3pxaq97v8SkKuO7MWeWen7eLoX7g2T9B7sDR2wr2mw/ApGnyeYP4ZkmUgpOBZpDs6dSP\n",
       "7mjsH+GA2n7QjlbHsQVBB4d+mzvEMHt5sQ4c0JNXPDlj/NnmLsZfzgUWB+DM+zU5PBMMGEg5leu+\n",
       "kuWGKeK5/o+t/2FJJA63401iKDeUTqHeetf8GFzrgDQuJ6CXCyWB60NuSrIUWGIjHq6F5kjhjNK3\n",
       "Jy6zylETsXXwkT/KfTPI3rr2Ie23GtQBO6Og43+rBB6sKixmzSkEowcBMlbANVUp/FGh+xRY1k2C\n",
       "zl6yUrIq2LvN48gZqik1QAvpUs/bGFyLhJ/JxJ+UUBU1/708BcR9bVey6+HZcgUp56kR3nh5d8Kl\n",
       "dOK/F16K73SXsx+mw+uuucWU7WNBBdZUgjMEgn8wDCUjokcBD/W6jyQAMX2sfQB4uUSev8QGdwkD\n",
       "RSX5kFYdoWQ6XeYeHNta3QhZ2IaLeB0c8fuyMn7n7uDMbTnt/dQD/t614m8llE81Ko9JL4jDq9F7\n",
       "ehsNEVbEhQ+gUssWd8noDYIRs4DyvhuiL7GRPWCE25D8e8UocoClPI1rf4bvZ9Hi7refaAAg4QAA\n",
       "CL0BnoVqQQ8AABpnQwAXVeclSuIEDhCxE0h52t0LFcieY0v5azhxJdZdTtcfCkViEdqfXTBTuIwp\n",
       "5nJXYaMiaWbDgvTEvL0ovDorqEh6oo3zxVgo40ubY8ZZhNKRLIuZ27w4gU3mM8uN2IRg2JNW7obf\n",
       "y8it8WOx/rF5AnLwgykhrflmpMcaVQAHvPXP2/Ngntmn48Q3Fvf0HJoz/hWlnkw5BJ5n8t2I6jHz\n",
       "KBTi3G/933fkgjs6PFxgcbu6BQA74uDoSLiWg2HVGuxAf52jwy0wllO9zHXk/pTEtWfLyfZVNNhK\n",
       "utWUOGnvoQf/bAHcLy4ALZFvFPs2vB/OK7RbCxCoyip8jh+jVNUYjhoAmNGTmeMQiGHOPtI3Yc5X\n",
       "fhIYjLnMDKnokLI5vUk4sb0vGR1Logf/Qaq3aiUU0NAYOFpVf2zUduOP8jy3gS1HSv3pyejb2wUB\n",
       "b7ShrdlnSgCPFg4OhGeLy1ArYZQzJ3FGT95S3UzR5LXWKU7qCNwmq0AK5oHAvkf3neSz97TC8Qgb\n",
       "7xgDISZBw+wPkZPf6Vt4xeq7gP77DveLcNLnUhM51aQUsm/nw8mfJsM3MXFfe7glzQGMXbQaTOA1\n",
       "aTbFNk0vRU6oGK88Mb4TilpBr8z4uwA0BgiaO0PYwsJEaSwwaounToqhtS+aMR16GfNXzjjubsmi\n",
       "b5LjyBaWBnQke53+/fOGOMEEd4HngMAyWq3xuNb/znQhnRu5gE1SflxpEjAS+6uhIJbUZYgFMtaf\n",
       "4Vc0hxRP/OTcy6DfOrM1JAfACIIi4bV1+fmziKpbN+asDQ0kAfO89WX/dS2mWPAydVC6wqdg1yJn\n",
       "ynM8/KdObMapTZlVQtErtHjLODIntb5+DTZDh9OS1NenGeqeM0CcpUl4JI1qRhBFlHOWKGNVnHRn\n",
       "kcxRGp+EtraKpgN+buiPlL2X9PJ438yV2QxGxxOH9OeYHaAeb5uYhADQm2DtdaUoVpL5v52t60xb\n",
       "qd3k7pxpyXvDtVrpjTot6JaVTmT/wLGki0gAxS53Z2CoE+8r1gSktq5w3MUOjpd3gFNHboLMSX1g\n",
       "e7dH32OT02TPLmVH3m89VePK6jzupHPazmxvQKoGZqdE7cQCtSr5jYTcKNIodizx+ju5ypAOzPnf\n",
       "iodWzripsLPLCoJbxICSFpg47VwxoXpQbCcTOYZecnc2fkDY4k6UE00KMg2rr8BiequwYdPSDRam\n",
       "Swk/fPwMQ3T/kb5Z9zlyzMBwuuQGvc77s6AcAJ4dO63Ts1ZMb6WMynPXmSVP2CSNoYbMVxTREUwd\n",
       "51zeZoiOnh5k8StCoGgXvHVODSd7b3PANqaNUv0J01goFNKK0BsoTDGSHWX0om2qlS5Qr7SGRZh2\n",
       "eaeL5+m7Z75LZW+X0V1kquq1dkBbU96A/lYt4X+nmiLSjmApWpAD9ghUGo6Uco3borBDfoaOFQ+X\n",
       "6vOhaYNnN5+DmY0fYlZjjWE+XjXH6bv4e+5ckv1zujSneowJhStsvbxxsfrE/NauNDqaAnIMSbor\n",
       "Bgc7YmG7Ao7rTwUZQkjoq0hxNY2QVbQM+G1G6gaA8EB7C4L7Q0RcyvU6KI4HUwSE/Clnlyrz7waS\n",
       "ULhVvATwQN+A+3JAIPfMP9B3JDDwa/tQSpmO2i+YF7EO/1tn2DnmEobfDXzIh1w8CLTaLp/kK/pE\n",
       "qtXEAEj5m3UKLU/JpyL7I8yDUm8D+Ei8//W8dLKoyHUSmQtUasOgLhuOlwzhC6CYOEykDO9MOsgK\n",
       "1SLmzHB5hwdeKbJXxplHB8owfD4cRaQg6ACfdewzAfgO4iAqVfIC1mcNwde7MhzWeV3r52awjcaU\n",
       "VCqV67zPQk48JaeNWW7cmISvBoOFZ5EJSvXvNdSVKIDwTFmkbvNnle892GI1tVjxW2BUjeTNzMG/\n",
       "Foe+ok/qy7k0KIUedSHtJbAcCN0C4+EWJrUcFoqn/tK7BnBZfJR06bLeNFWwTn6wvyN7uFsKIjDm\n",
       "jn3VmkQuNFJf3P08Gcufv/BDmZ1sJPWyHBTzTcMf7wE3ncsDqTFeQMAzC/ojB6Qkwmvq4X80DJUG\n",
       "o2GeCWxrTaqp+ToIgq0BATvi//vT1N6lf05lE+hWQ+dCGmlBuovi8+E7hj2hI2e0U+5Rzt2fUzgP\n",
       "+1wjij6q/CY4XrpPIeqJH7xDHsTcMN40+dx+g1kMXnYmsl3ALTKCzNKxhPThGyHdJijM2IViA6cB\n",
       "5b1tgXuT7cDt5FaP8gaSYPx45Jt9XGwm7EAMnEgqpcC07jIWA4EWAhSGu2SFj4qBjMYUt2wu2ZPt\n",
       "vczQE6vLvNCajm2pzwr33LzJUFN/aYjOsLwj1GxW3YNRUEgS1GxNcGSY0fwQfQF9EtdoBGEjqFQX\n",
       "Atq/Y1sO24jwdWFmRu1Je4zFKECYuE9v1xps4NjjdErUuwMMCuh/yPeTW3m3hQgSt2aUM48aOaZa\n",
       "APggsK41UNb1t2/Y6O9LQatgktW34/g/4yNPsfRyO34oua9Ft6yNCax1KzUXrnu+JeFcnt3xlAsB\n",
       "TN4zhX/BnZbcxKxFvl18IikTg8XtrjfRBAhawEKky0irHLv5AqL2TlsF+ycHxjhwegahZMjz/dlu\n",
       "j4t951hZiknHNOTEsaV+o47NDiRnqXfPLeVnUuW/fxGvXK+iumsKAbeU4PD7sj8VD/XiCVRpK12o\n",
       "XyNlM6wYyLHPZfXM3I0phMYDk5o5oCtLaMHK2LJOFtgvLeQCGaa3c1qysDXeqjrXirA2I5Kw2NYJ\n",
       "d0AtQNXj9+tbkUTHat/ARKnci/anOvDf13DPs6veOEIYPXUzPLj8OrV2PdkYsraU8XS+2I88J1I8\n",
       "xcsqAFhsF/wFAlAzVx5S3l6PXtg/nzRCvaX2pPSEU6Fv1w3hKOeRHRrQrfjEF4Brzi8YN9kOK9nL\n",
       "ZVb/wpZtmz+FjcpeuUZIy+DAP7huLe6MBOOJl/9KZknFXdXD1fx7+FNqRrp1+VIEzMHb3hJZVPo1\n",
       "5GfAxTPEv/fbPL0KjAADewAABSpBmopJ4QpSZTAgp//+1oywAAV0ezDwAce8oxWtOH07uWXs63h6\n",
       "da4AhtY7tCuk2aBd9TT37FN1uMkWnHAxPt8fTAHeUAOiNu458VlqGJfLA7RpgeeSz+WGfr2+9Wmp\n",
       "DTvP8mn0kp3h1z+oFwFSPHdgNB+V7qHIVJz9K6SQY62g3uNeM90teVMDRjJqrbBqHKvIuBdZOu5U\n",
       "eU5A8rrY9QG/+aEJi8flixlB4aQVLTtQlv291Devnz6CS+5ry0UYgp5+Jj7IC2KZCRj22QoohsEO\n",
       "JUomLiqWkiqgZyrEUKfJMEJwOoBqbPGXYIBpC+M3DTbGjdOIow6Gbe+5NZzPk7mQBjYgkIoJwZ/W\n",
       "SjgQm5lCRVm8JyQi7NzM6nJR4Cymmm/pzAMmgLKkXbBZOenSyDJD7DO7yd7APWXgefEOlcnma0JA\n",
       "NG5eszCFNCfWSXskIQ5M2pmgfQAzHyd8RoUc5G2sCN6LOltxV1ynNuOLHm1bezcofLo2NgqhDwAK\n",
       "69FsGSRw+Jqbq78NIviu0beaTJI3zMocL6P6dVDluE8HjHkzaqFgkA/EMWO8iIv3onEaAH9oZAId\n",
       "Y7m3uK84FuzMPhOigRAN2NzbmZxvWvWTWqCY/SJyk8+V/9cldt7zqBQvGonR4232yS62628Ot7jO\n",
       "SwjK5qUms2YoXyNpLruYwXViFSCxRs/UjWTmcnP/axfNiCpjH4VtDIhyc4NrhcEGEdSVz3X5ChL/\n",
       "JF+lmsyYEOCbg58AITGlJ/3NMkVjs7blN7XUhybPSYhhOoTnj2pTob32qIwd2nS85N8jzZOUdRKw\n",
       "koePKM6vTm13ySTJnOil0U/0ZZRR7EyMr9PQKoGlXCIoOBbYVIIJaRqtmW4H5sXL4Z4DXq/wlFaa\n",
       "EiyBOr6o+BMGi3zFQ4dK/ULh87//RRwBvn+mn7VD+sgIXUqoX395ubGkAjQJEzefWmBqRIb5QJAL\n",
       "zIiY4HWEuWLkUbP+C1Lmztf66Kdxi6CNdx08+E5X9KNoq5SZUNfx37pgxJQduANO2In+D5KYZEAL\n",
       "6A3N6sJC2dZ+o/IvvPcrlpOLrDF+HaZ/pTKD6bpy420le1SbIWEAktJpBh4XNqqqEFg1oFcXI312\n",
       "ApYkBpe/jV9fGY4f8Gn4U/g6hBIQu7DxOPuOq+zLnORwdu0TPYEuj+2/bX/Y3v9uSb/jwYXZV4YH\n",
       "vo7uxqskziAiwvlL1GlaGwimnBU8aHMtQ7yE7uRZmOTfGxfZngFAuYIDZ99uMFKhSGcE9giuDnc0\n",
       "EHP2dNV2LN59axUna6mx2EjAhax55NOETBUzA1g2xlQHYpe++lRI4i+lMVktmIOjDe6yZASmU0BX\n",
       "n8apfSpz3xRA+gcfrz4VqLBp2D5fyiuTP2Io5+YrnHeo5IFNORVhKNaSHG6cQsD7QH3T8F8DkxJl\n",
       "39CNUsDkDn7yp/rv7X8hP4rntJkn/jEBqQ+Bf7ts1SfjJBTsCyQwRKo0osZ21lx0FTisRrRK5EW9\n",
       "rA8CsKpL/tWQVLgwt880pyf5rTLlsbD5K7eANtJI7vxY+HRbkJ0uEnBTbzo7ezfUG4uAmlOZso5K\n",
       "ZgNHyeQRZL/SExo8mTyGVDLOV7OGu2yuP4FivyzW84sxahi53mE94j0NYzWW+1rP+po3Rhtka3vb\n",
       "sWnbqvwsedheAG9ng6yxBPWm7p0mZxA4jiEl/FhJD6xzsW4g1Ua8K7CVU+mpOiXnfHWmscdzJ8Sa\n",
       "bCG6RPH8T8/5IB159DmGwT9meC34aPK7ADYrx0+6QQAACKtBnqhFNEwR/wAADdPMACt/SssC9Ftd\n",
       "TeJsDzOk0p7G4/eVcj0a18c875mDqwcZtiqNmQvMh17okRv1aLFMTTrfleTGqONF2y4Yof/GKXrZ\n",
       "+p35MEw0DGqyL48TTk+9cteihBCgqvwZYTW7WRq01uHUoD4TM8QO1dxkWKSMRMmn+RSDI8W5GBBC\n",
       "zfUz7WmSgskJnOye1Pf+9yV68YIgVXqiNePsmiiILDZ73SmBSYeEvLD9VuTITL39ct3ci9AxYdrU\n",
       "4eFshCw0e4Xel1sNaX2NaUFVsKPkNn/gzQXTeOPmVPepz6WwVVEaALXfYlCXvfsBg6smX/h8WKmC\n",
       "yNioSyG97MsrdV9JSD2J8jFM8mYOzCH2jvs4v6ARQMJFCoMxg8uxUI65BSscLgDeCRBzcVJoTp1m\n",
       "R17nTkUMr4gaw7hx5Jn1V3yADhy2Qo7N0lsxwYw1iONlbSHIo69DCTKktq5lE1I4h+ix+d9OhI+D\n",
       "HYN5t0fSgi+e9nPbx0Iv23sJP/aG11p83xcLfHaPMVM9w9BxatIQN0a0RkxVDqfe4PET8ZMDnKRr\n",
       "sSl6yrtEuOv4hE4InN7Ayo/JNDpoPhZgIYt+ryKybm3R5+q3dwCN+ozKhOdGxNPzuw1uSQ7kcOA0\n",
       "cGyKtd+eNbQoRB6yfAM/C021yE21LbteW4xCC4zL0nb6SR33XuPskp52Nfr1SMulZ9UdpLjn7yKf\n",
       "A41S0TFt0WFrMse7NEBuR1B3vxZBBB6Vt31I9wPS1j7zfLF9YG2TaIMiEkseprj27Fp4iJrNn8Pp\n",
       "mZwp5Zu/euSjDKbjn2oV4aQGblaMnRsnTJ2vZJjfj2V8fzD1XlYq1vsyeFrCgiofETMffEmSsvRC\n",
       "sK8eG7uzphaW8fOyRmpVOD4n8aw+r0r5ehcE/ys6/+1Kt3kDou8HN0c8lagqiqt/n+y3z9GcZ0D9\n",
       "b3s0yOWe9hDJD41tXh6kl9cxL6YcH1TaRvlzu8x3PF+wEMTNZafA+MuzdAPpeQyst4or98a2wjBg\n",
       "bMKLfC+8CsXV5C8TlCxuBDJSPk8jDMy2Uh1HgTHypdPf4+xx5cdN5nOL0FIQ1OHcZWhbwcvXBbE0\n",
       "IgTVKzqQjfcEjGwnNtKXDH5qbL8FqcMkW/x7Mtaoj5Z05j89+LNsKdhMcIo4Ytq+QQQfxgPF8J7k\n",
       "bU78LY1fibWwNfpCSOHAhrCJsoYKgEXbI68Osz5sXcrSImT7pviXesnr8oahoj06M5ol7H7dzh1p\n",
       "5K2Cc8Ev2sWq3t2GyCBJdGMPwCALNhqjFA2PKezHz+kuSflPBCs8F9KmQ7QPdytCL/lclgvhgjlP\n",
       "fz3rU5XccsXlGUga03wA5IkSiRWS0KOtvQAkQfSiKOlUXejbsRC0YZMTzyVgkNtbrI1mYu5C+7H/\n",
       "Y3oIhlXJeuBU3pD8ePdMr8TBu7a6qdWD7+p9aKbvNPFkfvjFj5hq5mnsN4UcAzzOQrFYkqu+SJ8K\n",
       "K/y9dCRqfonmhSQiutt8r8SqU6H3r967lMPpYG68vPCO6V2SeQ6cg5/2xiNTZUeM8EAsTiTrYRNy\n",
       "Dwx97d4ttjjNL/QkM/6ItQCehqtn+COYtwsejAocl8wIhtaiENVaF1IKlQT+hXPfqwyrovmjETjc\n",
       "L32vRmPFQCBMlpdpQwPY/1OtbRuG0XSiWMeKSzkcvmV/9ACg8iOwKvMygebElmSLF2tm7lsBLClX\n",
       "rMk37tFPkNb/dvOXqPqn7NEta67EQH1QcCEwNIC8X0XtqsZU9XfLu+22KOb0CkxaC5DPy/RGf/QE\n",
       "WqW/yTB6ptjz3mHfpcn/Oge3zCS2YwwOaklL4Rxhj+WxaqlLlaEnhVDK5CrfyV3cEX0CGCFv5EP5\n",
       "rUCGAFCrys4v3HKvvlRMAA8Y6xhGvubTjReAVy/BT9OcRYIohEFC8YmuhZJQR3txFJuujrS/kOnx\n",
       "zYf2IOeunSDcDGfCgset23whQujV/3tZMCMvBXkGY9RcnA7UieN1Fefky18FXYnU3BzmZycLH7iC\n",
       "tPpkLocoISI0FqP0574ntkC0KF01XLCLVyELa3poeyuT0PyFa2Rxmg8g+RC/dQJOc2d6QK5842h3\n",
       "yzJ/1MsBaNc48p8kVSz3w8ZbfKbpxQ5coUWD2X76DxZymXAm6iEaEzSxAHI2isNv/PwlonE8xszf\n",
       "SiGSnHbTKXkCMvz3F51oWCDOa9aZT0rCI1Oa741uTSlgTFE9tdry5fFfEa001N4ekh3kdA3v9ccy\n",
       "2RNi2DZ+DW7+8f/vLa/DRGQ3c634pw2cwjQcKJ8yN6EzlqQT8Al8wLc7NAWxqjS93wENJ9u4Nk7Q\n",
       "ztyKaP2Ql+6PR46M2uGK/Jaw8o02KDad4TRqHuSlqLadCP/4ecfZkkvnsjGCUMYZoChJf+Ozgbo8\n",
       "uztzU60YmyN5kgCes1CZ2SRPV2sG1n4jGUWmxF83NG6GOACDvij78wsb8R7RCksxUs8U9PfZv5oQ\n",
       "0rhmshSostEdD7eY64OiSJLi2Lz5atce/QkAE5ql1IFhSZosPBKhBtG+TkiXC+PZAsVml0Tjkdyp\n",
       "IdTuMA15/eHunjTlS8uwdSzzKXq17ko1mj8gS3NkBYnsb25uKD4/QyWIFdCP2MgjhRwGk9p8aSoR\n",
       "BBFWGb+PtnMo6bnaR824yry2l118QO+0rqDRl1hthQVcKTgSeq/dN3ON//oY2P+l4pYezyByj0qL\n",
       "55V9V9ZFFns3PBqPYzZi65h7RXtWBBVIXU1MDuOhd/YyytDwTkk8FFDlYDrbzTNJ37gTM4cHUhU2\n",
       "L4xKVLTE5sF2YwyQ9fbtWnMlOdiUwn7Kf7O5OQpkBisA+9jgvDebHEiz+4B+/L4/pu2MTgMhtbh8\n",
       "7m21G3IJP6K/q8VSCqlacH1jAHUhIDesUHCIatu0inTiRhE0kXwBiykVqEp7shfvT1JijqHiST65\n",
       "mVzrlFKHTuLrntCiholcUtwHTXmxEpIHLZkWQABBwAAABPYBnsd0QQ8AADtZU3d8I/+QAJY54pAz\n",
       "SWZL/oW5aKNiOG/+T09Cfu58qbjl3VzYlr0411NFz2Q0UNPgNsWFBIDWOL7nwAmYz5HlOdgTyJ2n\n",
       "fZGy8KhgjK9xaFXvmxvW+bj+BUu2MZpVlwQPWRWZUOAv7ZVgwr1ih3LHQ+hjx8ugk9HSsq1frIX7\n",
       "MhKpFqcnI14u0819T6gC4rKdr6hhT7WiDYDuLcknYryOhZAcOa5mFOh6YperCDcAIkOoCyhnuDsK\n",
       "GWNaBj61DgbgNRkoK514c3PDggXWel5JUF5aJAT7AwzYXfVLdBbo9SxiKIh3moSEaNm0R38e9Doo\n",
       "5J7A8K8P+BuxApU7ATLAubIxhjfd25kNfEICPKgkVfcLvUj202zkPLl6ssaRn8B/kBvF/PWITKZO\n",
       "djPs35ZA9u2hZ3qu7VYTZyDs9tz8iG8/F1a7iAwh4TKgluaVAxB0pblgDOOX8c8cCnAK+tnDxOSz\n",
       "ritjhelLVnH/yTaMutCuJWrYUNCohr8OwwpAUb+Wt/j0MlTSb4AhrB8nhmpBJMmoR3C3AdQiC3aM\n",
       "w+ajN4aexoQp2PLiWnAFu8WZhih4Q9sTFR7/5SwVMv+dQC8QutvC9oUOP4+qKxIxJbLZO0FtZk2h\n",
       "fVtHHYYdKrEoAujvB9GNb7eJqCphODTNl7IytNXiArBLZ1x8ODNeNdyWVzG6868RByJcXCX001zM\n",
       "sQynbqVtq7uHw4MNjU1yG3xPOruy0YrQimt6Mq6dfoeubcqtZcmGsxbR+Dxn4nAGCytXIaPh5AmF\n",
       "Y4IidAAcCe3uaACT+IqK7HpSCtMXPC6GFV9dd0Ud8KiH5eNq9k7OSpR6paFlAiK9B1e5NZ9jClyp\n",
       "Q1ExsxVJlca7pBUWwM2GKxWfQCgtafPBlJlzud/FSwGhmCe+3Qz0QAgatR5KsORDyvMlhA3Qqb2A\n",
       "EWh0Cfsx+ynrPnw8FZ+QXZcN6MC20yDJcs15NztCL5DEY4Eqk5WqWOVdVueddtAzTX8vIlR5rNYk\n",
       "aRv4+PHUHRu/BS2p/4OYItJBdg1jObkevFqnj6uS3iaWdJ98D1ajgCe2KSqbIHvDpAwxFeWv3uxy\n",
       "AOLcx+1YvXL8KBc/nBQE5SkWPQK6quXxWvMpDui7yJbGSqijaNZoEgv08CAPc7kfiQ2NgcaGkTPt\n",
       "LJFDodog+ByAqpHfSpoDORVlenY5ugE3J2QKTgKdjqg8AdOMZ6eQqMgJJ1v8rw76GP6wD00KQyg8\n",
       "7+NolOFvD2rTIppG+ykigz2BhYFBbIrolD3sBB2ctDAx0n9RfNbZCUMiCJVj+smp1O1rbq+WExnZ\n",
       "U6cG3pObFhQq+T9ZWiBF3uzWUZk4Q5r/XvPAg1RVSHXNEEImIMyRS65XWKNUF3RPRzyS1lbbpSb9\n",
       "90hyKGOzu+vVlv4dgfVXaFphFKF8osmxaVTqOGXr9VCiJLEUSujHkhNlRNwwxr8pNRQvSV6Ucm+a\n",
       "kzdIIhzEIanh/3DSSEcy9Q5wsu9Cg97ro7zrWgwjFBNlvA3/HXaZCjLWsRaMyU39sT77wIdb9dOT\n",
       "YBlYsZwhQqgNLBtaa2A9v3IJVILWJabt/p79lkysk7X2lusblO+NxUb0HEjO9Iu1d3ddAyBCNjtz\n",
       "WuYEOFTZ9c0/mihHhZbsueBfFmB0DC63OXKLKpUJfUg16HvvPrOvj12D4SacCGLeAAO6AAAEawGe\n",
       "yWpBDwAAO1Ph32xMhgBuyLyVKT/bgUGl72ArNtHBX/KU7jH/150/k8OFnUfKzVqTcq7JnyaMIOcx\n",
       "X5+9xKg5jZN5cTdaoHVVqrj+YFT1eu2j+OOiT0tSypCt+OXQJFMYASlN8AkX3osGtmI27LXDusx6\n",
       "cLLbFZK1XIFyssfACK4GYVTyIS55yepCt8LJ0dmwyIPAuFQs1f+kGBzJ9OHhGfkFeYyJydOxDYNm\n",
       "InlTLY+QF9bhdKYHUDKPfrWDIaqrKd3J6Q1Gh0PdpLC26hMeRv5rB8sylSW4uRT18AwdUL/o3tyv\n",
       "7tsleW7uDTdq/gBlclfgz+8li/X3cmr1vUuDJG1svDeBYHUfoPsjodwL1ULDGzfH48eftEespuyF\n",
       "R9yXolMKZOLvr5es0ENA5N8a/AjLIMVfmlKkGuKljuliDbwd7kyJKnf3MxFxN5qbK5BYAq7ZCvDC\n",
       "tqILX7Rcp151xAwHf+gvrlMBQqbhS4vOqJJmNQHFjgNB9w9WlE1oU8A6tOFhXOEQoQkF2kR9b0xu\n",
       "JgvcMviu1mcsPUMhAANAQrpcHqplA23XEskdyDYwaz6nb6S/FKiSDA6k7QRFRULvpyYJhaT3EWzF\n",
       "ro8ZwKO0AjTh6/p90CzniFmSGDDx3uAydT7fl94SoJ0XX1eg/P70REbsO7ir7pQXsWFq0P2roBq7\n",
       "WRGXO+k7dDlJGiUEtfQf73aLDtnuOMLV/jJtzFXhG5+CI6HNO4+RQqU2oga8Lv7D7YhQvh+PxO6v\n",
       "0KYaG75mQ/mNV9c9WbNUcj4j2aRdMzbONWHIaVhzipong0B5tQvBuyT0OHGMQwh2zkdW1m7BBNvO\n",
       "k0nDgsZnW5KLyjG7Wgj4V4Oe/8eG2eoF/TrlH3aJ4doMCQDE27kPSpOqq+lvJJe0phF866Ac3awb\n",
       "Hl30KoeO21fS23ct1G9gCwMzPXkCqnE+3fEriAUUeO+RK0sYniq02hlYD8rrR/txxzwUIjsL4AY+\n",
       "tbcHG+McDWS8uLufPqscogJiPoSTkdbJNqgDpBaQTE/Xf7XI4IzFMdTOMuyrC6Qk002IqsgFPz4C\n",
       "bqEWN7fHBWoe3hPatyaRE+fdiR0km+vKLHtSqyuFBWeYlXAcEVm40rNjShcCCrAqCJhwyunA/Q6t\n",
       "kjTqk75uRqKWd1tU5cEbjhp6GpuFWDbqUwVtqI3j1ulODFftNjh01tZIQqtYtLpkfbmx/DKGDZ9+\n",
       "St/fm6j+zMex5vRG001UBqqjFFUpMSGf82+POKhb4X6x9WAA0ZZ/GbJmPP7dNf9MeAKQwiCD/b5/\n",
       "k61ZKNR4dpqZvVhTjoaTe/ts3kwxZPDnuBakTHGk/3pXZg1QKL9qm1ObuXjCvFGeu5PBMpH2hYGv\n",
       "b4MA8oVH60luY0rWUvBNv2aDJS7SMP/LmwIMVAX1H+da2RerlFM2y09KZbpJdd2NI97O+2YM6NO5\n",
       "9GsPHRm0a6Hu66/DQ9Tn/rKkhL4nQXrl3yibU1v7VQCK8TiqQ9bxVj6YywAD5wAABQlBms5JqEFo\n",
       "mUwIKf/+1oywAAVz4Oh4AOOkRLA1njSjCK5klAI39uFcgGGmOGqjfoRtpahbolTtjOJAH3y7/VvY\n",
       "/TmajJyNcac7Z+ehgJ9u3jjjYcBmIwzPKC2g8yiwUu7fTKufa6kqbFjFY6pu5rQzB8e04QGKTs4O\n",
       "XNK8Mfqa+L3cOiaPnu36GSreY0zFjTgKqTo2yhkSzJ/Ch++fRVXVjPtDbVZZcajWFM421UIA2VoA\n",
       "+ufu06AclTR4xXJieLexd2niERt1rbBJxM0nH1FF1fexmzR37T22s+Qz/CM7tgmvkaesWeLB1bgU\n",
       "B+9uLFzM8oufGPvH0tElW1ZgOLJ3ez6WJn/C6sTy1F8bFd2xlsbu7WaTmVekwVzakOa5HywimJqX\n",
       "f9Xk9OcTq3Msmva3k2sSVfL9/5O2sAY4bn3dHN9Qsm5UHkXl8aeoNG0QcI/UAQy7FXDetfmNyhiJ\n",
       "XmekSBQpiqBquJTI2KdKjEc/uV/i8Yl5dMnoE9VTF//caCbtX7flFhaLfaOe65E/saNpDTJdwS3s\n",
       "m0468GAmTktY/r40DBzf4jDC4ULKZGpQa1SwxJWFLzONSL5uOjcgND4ibfnE7Jlh57Qv3pQDM2MK\n",
       "pfeiyNNyOolxjqDLso0ZDHKjnNQSLu4FGpYq7RYNTt4mmYIkW7nU9tFThhNdEVdh9HSnwbHtUhqp\n",
       "kbaQMPnkIxJ576yyAniiSTDdBVQVDjbAhPXouL4Ww30ES4o2hUxmMLI8R3M9A5VZEuTt6BKlEk2H\n",
       "z84dtcNcO1JULWswJB6bvNx7lGndeZ1RjgRcSf5tuvKpHDQEkxDwB1LTi+RhXyJI9IazYy1/uSKi\n",
       "bmuDiHWGoUozEuYG13/Q/hJhfD15e23MAWStPYvS1mwH5u9lV0hTNINyEnzQFJ2kA0YUo4yDPCzv\n",
       "PB+Nv0FhBFzukIZAaH5S/SnCnonEBH7PMzudWXXi6dYU3kQbYjcgBt9FvKMpyfDkn6ea8OlPdfGD\n",
       "hWS6Om4a1a26Zm0Sj4tkjNRvDKDRv3g0Tkbsfccu9CSrZlkC2+PAcDRh2FBSdsXEwIGMlKiv8Rg2\n",
       "NgSzd6mgveI3Muov55seOEtf++TPOCA3yE+qZ9x7UQi9sQSANEdZeDa5XMgfMIh57nkoMOBjL5u1\n",
       "xyK42lTUCz/vuwGJSzk3d+pajFhqCAG5gqIGEVeLqzl6u/aC+vJ/NS2BiMWsa0uHMY54nIf0PjKY\n",
       "MUdiFSgYOAEj+/BzcCGZp/ukB4EFflG82JM5PTTCQTELb9NRzKgoTLY6cyTvDC42N8nKoERmWnSZ\n",
       "RnTO0Ddfoamb0zU4jHs/+pasWAmLyy16KqiiMl4YgjKCggd7Ti1pnU7m3j1F6U+yyW4eMtcOq4BF\n",
       "C7Q9Hxm0KPL2kgqZ1jmgYq9+QDt5ZmYnBbvgAWM8/B6/jN1d3TRp5X7HSlYy30h1th0xjcgCAVL5\n",
       "ixdfYpp0jmSZpxfeLFwKca/nzGb/j3jbWXTvZ2dOEDzSYKomnd6qORXFNrY8RxSrHcHNNt9g63R6\n",
       "J5Bd3+6vdJsPOKsqu1yNhmIj+tyzC0XSwkTAs1PoOsCFFYn7LNswHP5Ts4HNbX5ha8cH449NKbcd\n",
       "hRer0hYe7GNVQWccOjk3vdoHHnJNsQJh0nOrZjP80dcBwa9Z21cw67MKv4L94Q692mGqw8kUEZ8c\n",
       "HD1mO5xfrdDLAxOXNxeEW+pibfpljcqWz6Xh8AAAA1tBnuxFESwR/wAADahdd5GDACMhzWezZDjE\n",
       "R+ZiQxSGT8VdIXKglfU/WZmaBnSyKhb59H/0QnxuV6GtgETNyPu4Lqrqx6hGXGW9nuoBep+VM8gG\n",
       "44C97VusrUqexnJ40mu+Gfr6r1ZuHCWc6Lq6O66vQ35IaDO6uj2m8KusTbjjGhjUxX/Y0Rx8FIXH\n",
       "cipokOknT+QaiBPY3/Q1zeN38N0Xr9mbXFV0DYHR0/mESf8beFsZh/ECzhOwymbLm9EzYplU5TAY\n",
       "Z8M6KJ58ODpYLxeIPwZr0Bx/fKum4tajLEgIzEN1EQuhwKyaXRxItg8z4vetJllPd2RcqllYPKHl\n",
       "ik86UxXTZeeSqVSW8YGl5pdkK5HSybr/P2EtCQZN86ccbYjwNHaECX4CSaEbhbC5LVNYD6qLpZWP\n",
       "nsU88Sk2xEk2iFipcSm/x0QncleJx7NEH+C0n7tc7GyqDn7P97eIp1yHOP33DQ/n4yUAMPpmh3vq\n",
       "S1wpgSanymNwnPm2C1t6gOK0dxWl/oFBT4+5cLrK2dcarfJbqgCXObEmdAwqGciNGlR8Ubsg7lWR\n",
       "0+y+ganMpFOCJsAuC10qhWwSHiowjAwUiK4Ed2zXupmQBNHK5SmVykjoCk2GY2yYJBx+vBz1G4nu\n",
       "6x7AeLU1quKJZ3zrRyHAr+ONtDf62Ft836zLak60bucaOtPENEZY0CkiktmRZfOCMqbhLKeMSVHD\n",
       "7YwavnrXMM+LAjajuZ9mEs56tcO5tqpFET30zIIOX4pHjCmyCRBOMow3TDDDSQhjXG/vruRi8f9H\n",
       "okO3CTjqFNgcMNqW+T78qhFOmahDn7XDA4BqJV7RcEKAndBmgjR9CSLy0CBvnokRjrPUOXyYrvqS\n",
       "VahnGerLDQQok8OUGCSKYmGB1NRKtxrERd6cLWg0BBfw7Ey2eL/9e7koHr4Ov7PfZj0Ov4R11Tdj\n",
       "fE3INoRyWQgVXt+YwKhhHH2sJCwRGY3//wUFsdVhwDUKkrsJD8uMQGQbDdrBLHEP8NrrRVvmjttr\n",
       "dnzQ1+QKTWxaBF8ETAmvW8n0OfgeQ1nelAwayURmyya72Oj3+QUSKnupc8vm393hTgdWpVjroq1o\n",
       "WlC6+9Bh7a7TpwNDM1nUmQ9O80mWawV1C2QauzFemI7QANmAAAACPwGfC3RBDwAAGly3jABdV5yV\n",
       "KT/bMs8XzPq8uGaLp/4gZBkfMuIQBMNurclUTtyJTEz5R/1nNCxWQzxBVQgSJvLygewPK/WpefzA\n",
       "nhcbqi6Py57PNZJoPH2rLUb1PrYn5Cz6bQBgRcJMsA/edrrv3rOKbnsfp90wTZr1cIkq4fsg4g4V\n",
       "8ySXVUdOvzHCQQwKHOXTe6YjJbByIwyxWCIgcCXxXrF/IERwmhnP6R01MH5gOX9Nsi2vS0s8+ggN\n",
       "lH5qlfp6rter7t8LFjQjkti0ozEdWpsJeeHoaV4TW79jaV0H2JVbAx377zdFYlQaYGQXhTLiOpoZ\n",
       "CR7N4FR7jRjx8uaw32qj5ViI6XD/hEURoEjwc1efS5kLjzffs5pPqoKqUaw+IqTHCwCtX1f2X+Sy\n",
       "o0KM47sPICUVskxNGU8KjkrXpIWV7DffHAYYRddkDkCPVtq9mzcpTQYQH76t7iQ67ybMoGQ4AlfS\n",
       "oBgvLzedrOwrTcNmFgJG2CtvBEDaT+KCRA0356/6PJM83zAEzBu5kDjYVBC3SwtCTsNaxbo/tYeL\n",
       "38x/IIrNKc6qGAX7zihmsS3sLZCIIC87tDxFU3agxNNwi3JzhmE+0+3ghH5vQ14gAdPPBn3A+vWP\n",
       "EPoMC+HbQInvw1BDQMsZ+ccYUQIYxukAXnU5TQcYbykZleEg0GzZ7ZGvC7TKTZXQ9im6TjXqBBql\n",
       "6g0xjLebVXwdzmpFzXVWV7+gmZDNuk9YGl9XoS54wCf1mCDOiFloJigAAApJAAACqQGfDWpBDwAA\n",
       "GlH81qAALo5PP/I3b2/cWrbUZ7HDH/Dxb2d+fKvWqG/D66sF0vjuOuG9e7bl21zQSyZpYXHUH5G7\n",
       "3zUPssFRqQ5CUP5FFXcXLTzaAZuFt009pVKMyx6xV9qmY2KLgnajxMeDFQUvAoWCSKT2RwXAzcfq\n",
       "4vWk6m/psLBQyVtSfUmrP6CigXI2d7gBffxO9iuCjg9Ru64o1LOjVCy/nV7ASxU6Mt0n92xq+PTO\n",
       "ToeMbYDxSzfUn4Ox2XkprrhwBbrFLpR9anNzDcSQpAEKiGKk3CHfNneaPFX4kxiqyJkSZQG+9Bmt\n",
       "DhUpKFKD4fKVaNvU154r+B0jrAhaGWNzyzAW32SKoJ7iePFnPD00c5lcVQ0acjP2zCf69eIsZQAC\n",
       "dsccxFuTcEARBCE4xgYJ+qXaYgMryvEh9OywwQXFuhisUfvl9SmwyNaj6EYiWIQf/q9FHUSfPdcY\n",
       "a3B0ECcmluVjOUGejSb8xcb1tba6C5zo7jNQ/t/UqkROQlWsRz9IK8bfw6fGbfPSGW7bsbH2T/Yu\n",
       "+v9NS3uqYGAro1FdnvAgQORaiAFscp+0XzQlFpHS2JToPywYeD9ztn3Bjq7t/IVNQ3wJ7YyJMXtJ\n",
       "ukKDXOgblJcA586CAllZrovd2nEr80x5KV9nyF67V1KUJTqvyg2raH+2QtcRhrf9KcbIPtHTBu0o\n",
       "eOgls4RjPybDgTwJ/q497u4vu40Xwd7WUyUGhOO2RhOpr+XhhKoDqkJN1XXg75b6ZBBHVMVHC0wI\n",
       "jVEAdyI8eAf3W2E3IoyxHSSJffvIRzA6vpJJsWJwW3iMFh4hx0Jcy5P7r5uif7JOf5y0rCVtRV7h\n",
       "9SMmUthBDli8Ze2yjS7QTSGvyxqISE2HpjEoAE1eU8YbjNTAnQ6bgFlAAAAOmQAAAtNBmxBJqEFs\n",
       "mUwUTBT//taMsAAFcPqkPkAR9XM/rsBL6UK5NNpA3a/OQ6RCj5mX3gUxvbKEW+73Q3NznpAnP/vN\n",
       "MhHQ+Gl8nw+JldMNaQtq8g8QhnqsWA0erDjBSN+EYFmKsGH4C2L8sEV4obMV6sufXJApK0uZEjZO\n",
       "kVImf0ExIhmXcpHk3qIuV1sZxYiFa/emMiCcJezsq7+8flnHJxm8+LMVBt5y6wATbVHxTKJg4CjU\n",
       "DM/SfXQcIlQMmPkdjF2w5xpb2l7gwYhT0jeUmkDWr3KVyl4iU7LTVpD67ldLEuG8AAlzwIp+lXyJ\n",
       "D8Gtj6qkSHG9E1HeFhVXjiz4GhTfMYnuseDULO+9fUkB558rZZnZyG4TCca5tRizWh4W4XiyDL+0\n",
       "TlkO3aMfTk3Ogf38d01tp2saIkS/zOX8F1tDjw/54Sfrz9VJZCsGMaXYAaL3FCdPOz2u7pi9XOJF\n",
       "cV393xWD8Gzvaqp0gMQ2WLZ3RkEIieFgsWN491vGSsguEkevLceTX+HuhI0LlzC2zA9kA6txbGaW\n",
       "FQ6addtWOTf5cP3et36qCh3OWIE0cktpa1uq3yvhafarBCO+QK/O4MqB4iYevifjgK8aXcXX2gff\n",
       "UNyfuleT7yWRERzy5EpQs6Jvl2LZXWdgseo9sw7HCR5jcDQfsy1mKneyUlSevV7tsAFXgwaKsxO0\n",
       "nYIATIg0LMBIGy1jmSfc/ReEN3PhYGAu5run/7c+vBnvt6C5evZS2jrR/tgRKiVfMuWfX9zG/TL3\n",
       "YgpcjIMyupQ7s4qc+HmREJexxBIYigxLU5aioZJS/zITHJULTU9Fuv4KtBUUKLSDKYF1HrRQQT1U\n",
       "5BrjtFwKDTf3HRjuXot+wtGjYGdlljpUGzCHkU6U/ZzoMqJhsakIuTSFoae670k8SGkmKv/zuSkE\n",
       "YD80s4Dqt5Zf1Oh/4VNmpc+ttw97UhXl8/tzV0LCx1MAAALxAZ8vakEPAAAaXAPgAEtXnJUriBA4\n",
       "TaY4iJpRYzRdP/FNzPb9P95khYs2opN2cXkv6XTzeX2e0Z7v051D3rfj5ULv8NGm0uO7LSH/ptDx\n",
       "M3HTeN84dYmM4TG66S0OoSxhakez/CUFuSRMmDDUH7GRE/Jz8VshLxSsn846KBkCpIpByNRwHDJX\n",
       "DmctOn7mBS9bWniBwf7F7q5KyBFt2+Z+7Ej4XCG78F73n11RVCU6VEiAiQqqC4Le52TZiTCa6opz\n",
       "kEZJYMh+7W4EE8VJpS6s+spP5dxwXHMW3kWu9cFHH0hs24UqgnmQc+YOtZe3oJjvfMVtkE3FJm9h\n",
       "LWJ7ILst1z6NtdPWPA619peQQwhMx5zenVBN7mAAD7c5Ncw56+mcaXhm0h3qst6nH/U6p3dva9ES\n",
       "1vI08YEecA9v+R4gXMWblYz7csqCCKfyCNLGOIO36ND/BFK3WCpnWOMx/jr/CJZdpNZ4bjy68ALM\n",
       "7NgD9KFtGnCEey+++vQgSevz00ONbKfoRB0/lJSK/HUpnrZThrktGLhtQKbNDY7gEn4YJPg0xRtc\n",
       "l3V1qmSEDbTje8YaK6Ey1qoc17ZOst8p9kQPfYC9ButfdOEZajludFJqrjspQ2Mzg2SdVI9gLOPe\n",
       "YS+21Yyuyc0H187A5ZzaUdYVOi4Q5Heud7oGDNRylpXYCRMEHPsNVbYmxRrxfXJ6xWzw6DbIOAhp\n",
       "YUs/FFWhBpZ6RC82HFMAd2tgchJ65Qfx9QLqV8M5jCXNMce0eYWstcM4pD7aLkqiW0EXYF+k8avF\n",
       "2p3qddM3qua4sUJs5srj3u7s8W1nfLhcL8ORlzuUNDA9HV3do9/EpY03WzopMODHABB1xwwOTy1c\n",
       "MTiLU2H7qK0Es+sh39LoDLTmVyDBn611qa+Rp1ZmMm9pLu5Hi74cPLxs8ND5oP9R6gJsydYIYTq+\n",
       "BZVzagbFUSrPvr7XaTJeDnpHxurVYeK08rNW1Wuqj8Rj9U7n06fr0oSg/4mHAANuAAAD+UGbNEnh\n",
       "ClJlMCCn//7WjLAABdyY56q1ixUKeAArZ1SUAsFXnL9UILZx8CWLIp4hNkxexixodZJYTP6BTw3y\n",
       "bPthimKzApGU9Kcfar1KJtRI5fEdhiPHQNvPtdhmunn6kKL2FaX6Gp990POYSECCIPvP8zGvGeP/\n",
       "8HpEbbAQCvhQix5chVkO/UWyjHIPl4IPQVG3iA7sfMdZoCHATWlTkaaXOA6shBPfUN5TaTxtUyJE\n",
       "VPS69uMI8umPolLCmL4bdRvu7FzcDBmqKjaHyoYm/MOgOsx7rdtGJwDc4VfVcMl8KVID3evIQ8BW\n",
       "OkYboa7YDAs1ZS7ffNA9kSQXG13+/eBHTg+kXJBxTvW9ujjDYkg4YSACFBtcGltMIKgT2blMBzOP\n",
       "Q7ejMRWjrFpoK+qcgVaD5umSqTgveStBkjvyqoDeSYLADO3genBOmRMwK+akUkOm9ouVwz7/RVC1\n",
       "yImMdJMmsCRu4UAVTUIrDFIBRRwpm7nPDBc5/YIn8EhcCF8l32cFfCDhtFm2fFBfPCKM4LEX8DcC\n",
       "++xt3XNzi18Dwwx+PPZtSC0pzfj7csk48CjmhoklZnwv+3v7+sI59qLTx2ku90A9K9JQE7zo4idJ\n",
       "aB/3JaMLlW4jvvPLRc8Fr6hi+C4jLo/IMffbfNPtq0jBuac16Vu5rrEP51Nd36Zp+Kt/0ZqsgUJA\n",
       "wpRhS9k8tOs33qAei33uv1hB2tjycPzivI1gNp0aRfvuFznl3ZMW6s/frqFq5m52E6X23W1r8tPe\n",
       "ORbKPykt+qVnki2Lbm/T7n7UyzpUlfuDstfE69UAgIshL+xF2vSrFnB93GSqdiAcMzNJ+ObwaXLZ\n",
       "99/t1AHZ8KWow6jQTRUZLhh3F/cQkSq/lTKo3VLbe9gM3j+GV7PnpyTkafMQlShClIY3nSep9Dxd\n",
       "Pkai4vlwKygPOMlcvIfuBFtmhd/npuew8e1lJk+xjoyr6e/4Jk6wrSJL76F1w/bgy3T44jxAzDes\n",
       "XtKrTaLmGXE82+AFJAtludV0f6cSTnfRsPZv2A1xl43uSzk0bHmIzpx4+kY1Z0d8hvMZAuSJibbu\n",
       "QwWCSJE4NkRdpWnr5j4S0v0N+VwQUqgGsCCPRL6xofEsXNKUZm5nuNoRJfbfK7/lTzcrwFsE4YDY\n",
       "1APEyeklWmXPI3KDPc1RCPKtclOnKkP0v9eJ29FHTf7Bb3S9z/YEr9/XJLIKtzvLsshzrjJ35j4e\n",
       "zhIEhMpJ0kE35WtBCjGtEijfM7Wk86psDOJkGnTsucYZI4oz1L8QW4cjZ4gUKREuqL9Z8tT/atat\n",
       "aUS1xQubJufMrIV3ISDL/vkk2SF06zmtVrXM9f0LKoUCHmir1Qa4mIAHdAAAA5RBn1JFNEwR/wAA\n",
       "DtSJR/Q5nLIAFb4I+1/6DcCAcB/3kv/SFmJ8gWAT4mQSN3NAlri0Tt40eaw36g+Ixlc2gmKU4KkC\n",
       "vwa5JZ9qL0a9zkjNeEDQsrz0j8f5Z8KG9cvBYRXf9xqNo/qLnUxYmoFv8fR6JpHIlzRULse3omDI\n",
       "lrapuz2q7/hYkBwl5VclHrfMOOrBm/AeoHEfLHR1pqgQOxMyJrVpyzGMlGDVecBLXgtupGIqmi0N\n",
       "gVgyu7GyVizMdi+8oXtoyp/ionU4vVPb+9TxLlNH6Cf7YbnFWlOiEDUj0d5ITZ0od0obfxNEXm+/\n",
       "Y7zsmIxWDuLY2Rr0wN5pg/UdPobbG04B2G+16SB6Ap2ZriSEV297J8lMulDYChHal5Kml4DEQ4OT\n",
       "4kuWhPrEfSBC8R6y3YG3aswLCdq1dJNksh3QV1ydhoud64zJSr21xluyT7vixpVzp6y7L3HAhCJm\n",
       "lRluqN6ojTkeFpsgE8A3/64H8GdSOoBGV3Txt2InjwJZT6yy8SspCMttNE+wMPA2N/0MfNdfYfc5\n",
       "C/bfmy69hxPq27nYuRds0zR6Ndk+GfLFq2/ytUrUn5vhps7BAcAMnUx7NRA3FL6QH3JtKP7Tgzde\n",
       "ozKe2NnJWYr5RiRs1PjBP0V3ScS/FiWwyZp4mfz9w+B3CmOFYfm60OkGkjJoJwstGjsmF+raJgZ4\n",
       "1w12bZ+U8uPm814R4hh13yNCu96Km8qhGCQGsri/xM8Zjh/x0VKmo6aqXsvwjXgWsDABj5IOQZNg\n",
       "doqwNihidUbBwFIqYaomxsbI95SpLFC/LNkYRyPS41DoSK8CvBY0QOcRf8rr6qh3uiekxcF89/JM\n",
       "RZEkNyoSCvZ0Pj30VT3LBInvgB9oLGEBKlZKqKQvWInRYtp+DJlR3I6in9ga8GsHbaleh5h69U8k\n",
       "1WuwFayyyJqdSwE9CAfLQEq44D5K4xXcgFoD4wpSrn0YxlDNN9qK6p19U0NH8QmWtEjqbeRtHVfb\n",
       "FWWU9fXUkwIqGM02hhfgjhgBkZszmWOWjEKbpIwiavtentnf2KOKyfRdEKarwBu/ill9seh6/3vX\n",
       "zWTQgozx7437lbju/hLbkpXtjjRl4J4xnzlU6Fd/oqCMnLlnDRwYASxvXQyXxqSTQOXvSwShjpFW\n",
       "IhqKUX3xW8ZimIOXFYBCXrzGvpnOR4dIewtgMSf8SJuIbItTNYvWoKGhEXiKQG2AAAl5AAABoQGf\n",
       "cXRBDwAAGly3jABdV5yVK4cf9z6feayZfwVZo4IqI12m6y4iB5eYqEK5B5XYgxVtoKNTlmBZdSI9\n",
       "D9zQIHCm6AYzC0y/q+2eIWe0ic3ECKGh4irb0AWRq7naNirak0pBE8cqwKjVDTDMUdhdEYfAEmSq\n",
       "OMTgg5qvUuc5RYH0ZWMPDCxuN1REKA8eu7TgkwFQml7Ve1dm7Qf68PG+2PNguS37J4RUtBwO2aYl\n",
       "eKqC/wtYshIyKrbt48t7jtn2X+s4PW4PRyl7TyH5RT9v6h6nHSklpefvXNWPGVX6S11Lg6ZI9foE\n",
       "Iam36jismwCed0G1YbWPRUk8gFrC2Qd6oM93XmkF8yXRvFrKauToa9/7YWSc1b5zVe6t38zw1whA\n",
       "VSlJ69u9Hx8ifKYWHAmNgcClmBeEa4SJk7pL/GOVrtFl6JlFvNcJeQ3wwg6IlNfhZOhXhBCsx0/i\n",
       "83yUNINcr6ewW8WjrQnAQAxTqrTvKa/uUng5Sn2CCNlbPy5NTAL/vtel5JFiLVblZfaJwulSWhWh\n",
       "KAPXdN0HgYhJwnoigAARcAAAAo8Bn3NqQQ8AABxL/KVQ15/GAFuoxiJifFe93fBLDnYJ8mLinUZw\n",
       "OKBoYBIsU9ubxX7QxuN7vp38utcFychITJn9Wm6uZ4eloMixIcTHQm6lKm5+P+2PV3XGZ74ltJl1\n",
       "Dv9Mz4ilQYno8DxfwaXs0BBeouMU89JKB4JHJSWsbnaQzJsB5zo/VI+QesuuI0gDMHSvpt8n/Cgm\n",
       "oyPHaC0tf0yGn66afdOe87fbPfdpUcDMeRXOTOwy9/wmQ2vvkdN8igLQqm1/mC72M60Rat1WmvoV\n",
       "Q9UjkKn6Y8UcbjCetK/LKg9pWqwLAA/pKbECVsSJkbiEDtMLPkU2Me4Rqpah15x7sgx2LJPv15rT\n",
       "Z/u5xrBaL77peSgfMqvcvWtoaCUEKxo1XmBx917ObrbG9V5fBjeleIZtOOWPoAIgCSvibUJoKwxV\n",
       "M0c9KUvszcr1yUQIRNP+zzQAbIxXHJLzCBJOsgU4VC/j9bH3/StfYwSwInFDRJtKkjhPOL/pUyYt\n",
       "9kV/mQGBND0HMVNdbv5PT0F4jKpY/ALVVFBMV9U+wORhGQY8XjLFkozzX8frna1n+eZ4UWjo7LB+\n",
       "yJnY4ckgurZ7MOyUmmKrUsM2JDMqn40ICCsXCPqr0bM6C1hSTflYiWPQwp5OF7/zkx+AhLy1lYm6\n",
       "OEd9gIMkHOQTZKIFwjZhr+eqnDmHJ6Fczjg7+THpBgOyLMlHUvIPFaszn20vSt2vY3MYkhPJz32s\n",
       "JFoK6GKU4aa7Nsr+mT7mEqpkRiN6wbPyf2lJahMu6//3/Og/+Cf+Z6RkYkvhWlvp7zSaKwawJO4J\n",
       "Nk+iTy7/5zrqorj2u/RPfDEQ/Dilxd3NkuQvzTSKA6JdsfRJ2edV6eZRAuIcAFpAAAAFTkGbeEmo\n",
       "QWiZTAgn//61KoAAFUD93gARK47wVE9gbfg4wTicneeSkWNbMjrUNCRXDJ/4lsaUhuPJF0npU82u\n",
       "kD1QwO9gAN7c2Nxma22Io1M0yZamLSqjSVBsK59aD3tjTI7wFPWm7QUQAx3qhe4iaqcsVXuTeFJG\n",
       "sCyFY+yla/vE7StlUIhBQS69CIPSuW4Rx7NqzdHXR2cF5Ie2m5zDEKDK/N6qrRa4Q2wCSE6mrMA3\n",
       "jFRY8V3zqIGdmAO/xzqrXy6PI/UEZ7km3JBtslFct8h7HzrrL+I4Edx6VHn7G/0LjGrmvt1JekJI\n",
       "IWd0ts455NGP/vhjVL7+Z8ZzABPRxi2Oc3RUVRmGo14NhfSwLO5E6BPPoVsAjXI06UkuRr5tlYz2\n",
       "BJ9UYXBVLUWj6OhoH/5flupTygwf8DeIqZb+rFOoLDexpLhDONNH+bCQg9DrZPpVIxK/S9P3zvEQ\n",
       "ja+EmlGajvKqvCEtU1L/ifpt/Nl6zJ+UQXXCgCHqChrIFT49kUIb3w6j2yEy6mhvBhUw/XtcLoOk\n",
       "T4+qGaGrpLLHk07RoiBJWEFDKOUYkyP8vTZvtRvoerJQLjrhvGlflYuNMHJVklEZIdoZplBnlbCt\n",
       "8vZlsYi4v3V7gziO3rUZ1eVzflr4BGnA19cAvEw+8JhOcxu45/A+4WNLifCzdXUgYvfQwHOrGWH1\n",
       "vdTE45s2EOF6U95+lbDFFmlQWyWS/0yZHmTAVqHe2A+wDrIei8hmOTtjZsSmTO1npk65904F6SEv\n",
       "d0R8mqc11qWy68giWecvcZ+m2Z+rZZi3KTpDPGLqOcgOsClPzkzzTPKpNRkUu6VfdfSs26SjzMPu\n",
       "CO3uSATr8qVGD4jwcpUC6t3NxfAbWD+PJqno3+Ww7xoIVH/Fycy4A/ToXkO3uRaWfgBRvi7Sar03\n",
       "caqcaZl3MsB6Q23O8iCEdhl/di/lxrGtzTz7akhz/TBLsHdagOGDS/lCWlUx4yNmPQmgLPB/VU7s\n",
       "kp8hSrI6JK6lJ3UN1NE15MSVin3viJ/dxq1kHqb0vSYu0X+ldRxTB2TV124EWjEbUk4gZ9jXzRK0\n",
       "fV6x9neM8X3AQeN2FFXjwn0ji6QLYljHrxtcC1xttnzyUOpVU/6fCF23fX3hi2k9mnYIbXRGOaKi\n",
       "BYWeiLnUMsIX/3iy21PLDoNAuGhGiZcz+9sgnH1L9fGD3/KFxCtC6wXroBiYUglUqDtiHoWD+0aQ\n",
       "coM8kvDoxzEQ8QS4RtsLgMdi00cQ+Mt9VIftb5jgQdYcuh3o+zV27DfZQVFkXjIKyrl1txeomVZ7\n",
       "yB7kSzzNAV+qaeCLTpj7faZM2IvdDtiKayWL7q3eCMJy597hC+xnbznCpELLmrxmEn3lyN8B4zPh\n",
       "F8EfoUeKuT1ZG9wK7E6asXyG/tivXKDbCuBDwqgr4XekH8M6wqSrF4+JH86ozDkRljwnnqU4C7gO\n",
       "/HSfeZ15EjVZxkviDTJbO7oR60jTPOvTF6G6j8jSBThKE+USfWG9SjTfOtPJ63RZWKLuiPnn83AB\n",
       "LaiSJq28gb3tNCc7NcXPWepBvkZlc2Rylv2lU0RiYVxM0y4oUgi/BIw3h+yeY8weScXyq0Ux0c+z\n",
       "QbKLVa21r0V2KXFfocUK3a0hnIJpnf9hp2qYhioq9XWFlABiVzBARURcA10x8OyOcnRUmofHAL3V\n",
       "Hg8alDWtJbNSdQjD/WPtyy5ouYLDz/afW0QzrBUoEufeBkG5MLL25jk692d5cmSlwTfkXy1CCL6B\n",
       "/ztplgnY8aPmdOWIithQQAW6sVaK+VuYpCVgxX739DEChYmEBi37XF35AAACGkGflkURLBH/AAAN\n",
       "qrIES3AEXwLDLAMG2M3c50XCO4fduh69YgDYrvE327Y1npIIFu/hp1Qnc9QjUwlaiC7ASEknbqVb\n",
       "KeLcTc9ShxPICefkWlP6GpgpsbkUDNpHNWCK8tER1Lm7B6aq56H/m5aucpTWP4BoGCS4SsTz6enn\n",
       "ePI8hRYOs+wdd1Rf0yMiZEd7vK0Rg/kWZ+O1ZtPofvEapFLOq1S0ly92tyVIi7uqqMeAi3nznbph\n",
       "TFS/Yu5gVvVaN6TciPbNihRdVpAGpJTeACHgqSeioU9JD5Uu3kYhmDi36M1UocpVpX767wzOVILY\n",
       "/Vwwj9wOsZrCv0Up+fFlvTOtP26vbWsSwES5BgNGrNM1KkeIal16wlfVvQQhtUOM1UbjZvhC4mrL\n",
       "JQsnMDvV40kod2Y2dRlxpsltJCtSVdd5ZGtgm245u+YkH2zU57ot4x+ARnswPL5DEGJ+jmgQBpLp\n",
       "RzoAxXF1AWXL2EsVpUcMLBpaKsvRiQRCNWM1wfw4EhvXKEb9YaDzgqh9sWpbbkoBomNFegXTFZNg\n",
       "j3nT8w5oF4HC+NoXuhcvw29adlY2q4WsLlGSgv0RLQmVjogz5C6vuVLxqWWkYCh9+6KyoQj9/Spx\n",
       "A8FYnzaSR3LisB1vSmnBeZ4VoJILp9boNE9Nn1h8BYNDfAoY+Ek6ejTJtHgHZGwPP4stRR4m/kBs\n",
       "Rqv73JVk4iWBAAADAoIAAAJ2AZ+1dEEPAAAaXKacVIAABxbQI6b5Ho5HyA++aMmr6116P78Pgrs+\n",
       "82HY9CQ6h0OlZD6UbAzKA20cjOM3OA7epaAWFdyV88VdzyUNImdsB8VYH7OE1+EMzXTZODONymbl\n",
       "vzP9zCDTqASAOOa+gGQHDDOrxeWQSWfvRopeWS27XHeYYy1ysbYlFpaiqP6/bd3ql+hTXQocGSvK\n",
       "oPY/tlYq9ifsRBGTx9vfBzqLhlqExCw49NUZtQjvGPbhBnUEfMSY7aLgU9wEEsBfBqCRWNLPzd95\n",
       "hvegEfiEugHGf1vGfHTYC1Te11ldcV+Nx/lKWLCEgz0pHhIYIIKhESANaGdxhpm4S3vUBy11K3x/\n",
       "xgeMmfA+8r+kYnyQutQ/j3NUun89ej3CRWfPsrZLlBC+jcJcJ7jUujPRMbosb0MaLwn3bxkLSKRr\n",
       "1R6eTFlp5n1MM1LRjKaEtrTKKSlVw755Q/q63ULV4XoCxIhoxbmLVv6axOnRv1iZLWQwaJ5e7P1t\n",
       "iQsO47sG2TutLVzd7QDrQLBM/T42Ej6m10OJAj57nqt5u+RHb801E/ijNLUxBcxdWBQR8EpRcJ9u\n",
       "cKvxCX+8vcS03oql4y2jiQkPjhIsUgQHW16HR5M93fk9aWGLUe93NVYdRPB1YT3NpcXQ2hcUAS23\n",
       "AXFcv/mFliDRuoUIjNr3O0NCckE1GhziWzqQc2JmtDn8MtbaEPWxums+vchzByRKCDQC50EaAjBG\n",
       "pC9DHnKzIzQ5UQJ6HuKWsZNZRWzseCC3kXD/wNdaibTLFTE9cVflXNdIKMskKTW+4HT9vjzfWuwm\n",
       "82ZvBLXoDYEOC+UodlHsFIqAADwhAAADiAGft2pBDwAAGlv6DjAQkAC2EXDRvbCxEoprbQymj+fz\n",
       "SYfh4/trqeOhtjLPNanowa3dhEgo04lJzWmKm1+4ZOKVTXAsGUlMK0elg0QCytaq6W9fMxXE62/v\n",
       "/9qyvrnt/Q+v5LKEzH0DR4BH6Twarfjv5Ci9BQ3tGHaoIvIiIF3xlYvR55BCXjHgn1XSViCnVoX7\n",
       "dpx+VWtKjWqDolsrZPn8jxpqIHDfDe31O6Sgpzge5KmM+H99THQUinLRFmeiC9jg2JU4MOgMg0c+\n",
       "BarBGc8g5NfBmJN6VVfgCQ2IGS5Dril8s19V0tuEru6pJmnKC9DJlYgAVvSlUsKGrNEi8R3O1Ll/\n",
       "VNF0xCu6fEhCElvpxcYsQzsXThNEosGASNBdC8mSxmporJE31YSpq0cZr4BeUlynWtGl96ws/HbI\n",
       "rIhUlDGrmjkBSSUi+X2HZUZn8itHZXocYd3hEqO7t3r+7p56J0hQC5hLb3sze1VPPBQE/XIIVbIX\n",
       "BiB+bXRoDhgeWpUFK7dITuItIwx013LaZ9EOIsIZPzRMf+jzHLziTFICUjEbphAtbFNDFg91VRAc\n",
       "5DgBG8Nw1VXIH6ARiiNYXMUB05ux1niZQnZTefHU2xCk/8K9b5TaRh8QOWrrfmBw5wC6VtlpEoRO\n",
       "26JkNq/MuTyWIi76+tmQ0BNyvvOlsbrb6xSe9Z2yVJGVTuvf+kMOUYXabjB9hlzwIOlwW5ilBZpy\n",
       "WzXfJovzzhd93hGUpgoQo+GZvwA49+xU6y5di/yXEhoINH0P3djbul3LVDTeykVyJPpZqdwOMRPN\n",
       "EgLXz0taTt1bLOxoVmfcC3PMPs4gaB1n0WHZ2MnU8KHRPnNto5vpEw3+j6qGmYa67JoYjx3HSw+G\n",
       "LI8X36ykY6JOOj9CzIqZigo1bHOyruBihIfbo8i9GHEzlNCZEEXIffCcmGtUCi9xnVxCSqw1CqTO\n",
       "oDXKzcaVmwPEMiWoYL/LdKnRKrXlU6pI6MYf45x3GutufY+XBHyiYV1gKFh3fAEtKGIOaEL07qs8\n",
       "RTFxjORpH7vrgUCjc6evc9uc8mFrrKDOOQp+ROR+s38MbGhYJQyHPLDeTC49fS4QUSoRdLiNbaea\n",
       "kR0DXk6QVo+5O0MLEq5p1Ii1MgBuXCs1thRrO3dyNLc03GNdCasWt1pKhnQNGIt2C7WGDsgsG0L6\n",
       "tEcx46igsUdighekBAAAG9EAAAJbQZu8SahBbJlMCCX//rUqgAAVP8komgBYTg1yAngN83IJdpH+\n",
       "dpHhtJLoVn+YE7E5kyv3AvHj31apXjOQFhc1aRZCPaRjCQyTa2WnC5x/q7xyLOQ+tk04hcP7wv2n\n",
       "tWPNZV5VYL0V73R8/ZaXazbIRqiOQo09vC1RXc32Uc6DQ3IDr7LEKHNYK9WpImnN/9V/sT6V9Z8j\n",
       "nydz56dfpzUOTrIUTUQNim8+68VSlSLRCgGPCphfIVDCLwnEusSWwkrdwcf5PfT7C0y3nNUH1WWh\n",
       "eI9njtcrTYW0WI9oLTr7IC+SnCoUDDCCrWtMZDa9U2dHRoPsHZuUdCOPutzKHCLzio3doWem+g1O\n",
       "9/GItzI3mCH/a1E50ewamxekG+s4XsbNrzUQAbzXwctugS8kEq2/E3V43O99oEEEBoqg+xfExFA+\n",
       "/zmma5D8YmCajbkgkQCb4VZ/OI9sZHw6DsA430ZLeMO7bjYC6UWp92ofEGGY9tK9cPaMt5/usLsB\n",
       "8p3hVG38VVtrb/Br/IjYCvyYhWKU85hLbYM6htyB4E9w5o3owTSE794k5GhD56xEpsWQo1ZqiN/f\n",
       "s5P9hjfRK1Zd388sf5QXNoREWmlNsmzVxhM8icjUJxzbBoolBPOcjHilOHoSnLCKTs9yXIsZEO3P\n",
       "3N7m9LtZOqcaJE9Kt9gaIkJz0Sup3izVEfmWAlSAGvrUtUQ/AfW8qXHsuX0TtMSWrjDM/GZhzXa/\n",
       "H0CEDkPNu9kkoaybKczU8HQK5ZRDJwBptEKu7WlY7ZdDwchmuO6XZHUWICipGJLKZFYsAAIeAAAD\n",
       "m0Gf2kUVLBH/AAANzJIU1I1MaQloC/4gBIUICeRcpbvU70KHnI5rgmtdIQtBc5PUyIKcoqrOIWuh\n",
       "R5egG0v0FqnsljlmQnujQDRZpBJdiVJ6J3/Ekm3OwkkQQUdbOLj84uEc5P+DNZJZRcqHefYKdryF\n",
       "0g/wRHTt1lBGUJ/BZyO28Pz4GG2S33eJiFTv4GVfEDzS9kM7XvxOCg68vZUmI+tqyfhHHlhwFuD+\n",
       "01Rq2K8hSfI6T09LfiCwXaMgZQke9yeW8Zy8C/D8C3OWLC5C26+ndl4v4fjjW61WC2yRvt5oU7zy\n",
       "JwVjwOQMp/9+v3FMtM5SEzMt+FOCtZ2PK84JjGB/iZLqkkuZ/3WrTciUkYDi1UA4q3ERchABu/Vk\n",
       "nILFZP+7iORfRF9RZtLaqhoCiCZazBOibVLJ7uBl9H0GPwldgufgL5AEGsSBfMDDW2frrTip7VmF\n",
       "GgxprZrpjcU+39RepJb5+PYLr6GuDJ0LKCIhuaqf1mUlX1RRdSodSxzSnnyV300w4vjHw2hODzJS\n",
       "42PBGhBOL2shNZ5zyllD0Er7au2JJ12KmdBMYIjDnCcyPLU9Za8ju5+ZNuaT/U9OI3EndLH3fJva\n",
       "qh9gtEGcIkC8EugWfbBbZXHqokg4w9pYS4mB3GsPMKZhewYFFC6wZJx6+/7ouMF4MoawXJ6zTcpR\n",
       "LUdHiHyiLUhwrPUZJVpKBjMFwjgOJTA43KSFfINBbQMR10N0KUEk/d8U/+Fu1w/V4aZv87APjFzw\n",
       "kzkrCK/sOosX2x5ieOUVn+j3Vh6TLddjq5fUVvxOrbWYoaS7wPjyAloevF/4JvAy5hrHryxFwouZ\n",
       "4yH+71t8YAbzaqb9CAdHUW/ORxWr8PI8+osVD/qpvJNVlYhLgDZkkZJCdqNDVMIzMY+jwhyiSm+R\n",
       "oESCfRMtc9HAmRBoAmzByCfuiQVWDSk8tc+ds/LO3++XoxxLf5ziBm5H5ZF1S/18EztJuvA5+WqE\n",
       "p+foUatjnZVTXGyT1TokZDYtLQzcKdKFomjiifkw1qeR5Efx45aGTadyLic8dRm6oHmKVaGJxCtC\n",
       "6wZv1nYmFIJVKg7AsRivhDALfFQsbny8RuisZd9/PRkVe/ojSIjMwzSu+BW5pq2Ps8y9u8H6c5Oc\n",
       "LSjc2/Jj6M3pYNKVCTRWXY6sPpauv/lmt3wzIMGufdrxTHFDhaJ2e5vjfzrq9PF5MJm+15VK5ZgH\n",
       "5zBPvdGJCoIAABSRAAAC1wGf+XRBDwAAGcw0AAboi3/+Q33orBLciH0Q9ecf8wsnX9nPY5ONOMvJ\n",
       "FsUJyM5Apu2249UDGHCw2HKGD8Ym//66Baj7F/AuvxOUGoVCddFnm44lttIrHYeQcTjfvgjNe2ZA\n",
       "l01iIyf3b70WcDOkaq6dwr0LDpjtl1faQkreOw6z8Abzr/ZM3v1CVEPG4V0YJic91uprVPjF/NmC\n",
       "tZOskOwEa7unHTZEZ3GFCxki9YmUUqTat9oPwbhxx89T15Bvd1gYsgfefe6yGf7COGWQorzDUkva\n",
       "BLspQeRCquJQtm0AsIs1FCZQoJMoj0cGQvLN02sYrzl0Ar8I/3xkdmsU/nZRUMdqrmImuwq9lFAT\n",
       "nnBJeDUU90+oiM4BwNrZlcSZ9mOv13GvYjcqZI9wNhYcZqPGy43/sS9m4F5GEz2Icb8u2igdOWzF\n",
       "4xX08arGAREPzPwdutAkvM0BQQLfJM3gYNACU/v6HGSCXB2iLGJS/Av3XArRYXKiEr1GgsPPPCHl\n",
       "IBGNgKxBElqXbIAAH2+qoUDkA4o+bWzGXQITk9Dc9fLA3Wa65cnaWby2deuV8XlK2YfsegBRVrTG\n",
       "xuiYPTtD4HyMZqu9x27qZvYpbnxiygevlyj/84ORMNfMkuUplW9pFN0x5DwZ8kG3Wi6gee1O9xs3\n",
       "RZ2wG5Fx8UP3oBQJ0vDGYI3PqqIoxnOq351xX9zujsBXKPwai7vb2JfW2mqfAJh6NF3x2iX64jzS\n",
       "meXhAFbrvLxWA4TU9ghhxGUvARL0LHQGfjx1RKNnEYWvijtxJe6B071fly9TufbEEzdfvVmfT9M9\n",
       "n79ckNMG81nmPIRCNreLXRUDYvn9PdhL/qjMCEqjRNObuID1P5iBzf+gGI3yiBrLyyW7gbgmuZ63\n",
       "foz8xMoj2MJjzUQ1mLKetFyWEEedd7v60oXILiAZCrBVwJvQu+3kp3GhnETRMGQH2XyyZ+OdGAAA\n",
       "i4AAAAMiAZ/7akEPAAAaW/s2iYAboi3/+Q33orBLciH0Q9ecf8wsoUgl/Rv32zSnI5HVJN/F2x5G\n",
       "Tqsu3E2B+1sApce11cmmczFwISE8TjeFi81iIqnoN2JAG7hVYqUdk9vlpZI0tJsxNEf+fJu/gKvp\n",
       "17mbgLiP/syRIUj5NR9ZLp0eHBptLgQQXNQBQL+r0M/a6HRBsaf97Q/Xht7zIE4gGpI/gmd3zlo4\n",
       "24JD2yxiHL/pyoxPpvqHup2RyO1DWoqiC+/XnwwjIcUa7N/9HhS+3BJlPEtWhlNMZCKef4b1uiCy\n",
       "DXw9Ww1hOTbaYqh9YJc/OYW+EyjOe2KW9tDZODIn0vtSRDVCyIouOiiPHKxQD9XJnCugRabCugPW\n",
       "643dcIz6ZTBFxqvZx7pwcRxCdSfv5gAPahyq9ci4A0XFwWG1WNC1pvqQENj1ykE7smFMsORsoa6S\n",
       "yOXf1baLFjejV6ZkqaDTr393DXBSYTdZmsNneALjth2tdMUGgPYXVbN1sW7LNcbZilhZqrRVDBfm\n",
       "YZeLmJYcZCCM9QqbVsuoB06CT/A9OZkCCW+nnj4e/kAckDlfxRanUMMU2nSAi63EhKpCMEMPfe4b\n",
       "Wlz5GNFAMpE3y88DQVwvgy3bMwgM+ToHZE3jMoSLjyLJqsyMLyWGHS1/hM+2kvXnJagB4u4EjZuo\n",
       "tn+15oGD5KyT06p5pyxAM7/6aKq7Zy44zYzT/tMQJEqfuofd0m2qVz3FzoHuF27GT+VCT/jqGNhW\n",
       "Pp5IO85h2piaTEg+Ac4/u5bxwbTkHn6GjMU6EsBoKIKwBWYdLFgQum01i4s16as88VvGMSikEzCr\n",
       "GMJE11ysQDsvPzdj5DI/WloovCrfM3dSMHQD+aTtIPsFLIwohf+UBxBXL7F/hdTUJJXwW9vYtree\n",
       "SBDDk6EdnolJAEB2GhCv9Faxtz+MUu4ECJ0K0dbTPYBHKKTB+aXH0LmNVfMd5TCjrdOHaP5JwZO2\n",
       "cAmj1lKnFMHHSvBbUHF56Xb3nzeHuPt8kfLjhAmPzYtV7F5T1Y4Ua8kbHCM4jLLEoO3hY7jhM9sO\n",
       "iVG5MEascAAGLQAAA81Bm/9JqEFsmUwIIf/+qlUAACpiIYwAXRzxSnUHmaIcyzc1Y2GGb2kTxtj9\n",
       "tyJ8qln8Jyn+BPu7SZyswNgEM010N6+7WBEIUMj0urok9gE/JbqFO1hFmZGcR/qtZfhtUgjfPzx7\n",
       "kpEkJeG2Eey60MozhCNyeXWyn5M0K9c9AQYIwBCltXH2A53tEvjoZ1YlkXdmRCOKE54NMSvgTzL6\n",
       "Ep84grLRVrZTV+9vgFFyXd+BDXH5LCHaTW4b0g4K0gjRyIqnNaeIbVtI6z1Ryd4C3ftXUrF18pn5\n",
       "4gh3OZ4u2U21xymlHh2L6DevAV7t8SOYMfsOyD56JLan3YhFOJWt3RSzNXx+uFD/HibRVEhSmLg/\n",
       "MHuCTrM8rKg2L0JnSQXd2YRwDumJI2pTrU0VMV05Zt7ViabyQ55DkVbDE1y+ED2+xDbuJAaWxsWk\n",
       "kmfkki3xJysGa/aci0H1dyOe5ijz0V+eYH1pap9Sjgz5gC62Nd7RftU06GyMUxRNqsTKyeOG+fjc\n",
       "+PJywQTVqSgTRVc6e2uwEcRaMlS8DdWRQ6VFMSCXna15nMxN0wkAcqR7/WyoCKNgBEkenrzrmnM2\n",
       "iTSldxhPHo2izrq1deun2cc5ZJD2bMCW/2KXwG4GDlzdKr69OHkxjvJmo3qivEGKatuPNR/9S1/C\n",
       "LavqX8m19sIuiylwMY0WEtHDZyfd07NEKja1rHKhpHpYyAotqEXemQGE7USt88VIlzCKTr65+SBE\n",
       "ji4G7QpHw+wwIttmlfqbo/jhL2h6uDA4vjWCAnZuUcv3tJ+TSEfJvTgBuFTiaM/FUG9VMrXn9pR7\n",
       "EoqXKxTuo1zAOfIxT/Lf0xYqQwx57yCz5A57sUOrGD0uCWqwAdzH+XIQIL/Vhoc9CkAtTxGk/rft\n",
       "4x7ndGH601sUb726K0k6JBTQtzazsgrkJrb7ZnBzhcmOE6rIYrUX+hfDnRRY8rNt5iDvRURELC+Q\n",
       "r8sad3wRdx2pVICgWY9i6Kdhus23GlxktR8ymG9L8Br2dNuKigPBxrVu7sUjoUxRFnnosc5dhayq\n",
       "tFIdBzIvB2VuqwRYnVoOBdtR0T6oRLqnJgtAs1sxpeE35/d9eX5qzJx7KlM7wfdIynZmEcH5XhSj\n",
       "TcO5SeKVwdHNVaJt0GwUIg1CWVHxqrcvtoCm0J3J1D0XZzfNGLy9COj78n1o7eyl9RnvLu47ZCSn\n",
       "fGAWA1j/BXSSVcdct1jDt0wTAyxrLVBoAWrheEXTgqRm2N/bscFl6lZFqs5v6AjC5e4j/WLlEznI\n",
       "m2TLihAY0yGComsKjFgDQ0NBAAAEfUGeHUUVLBH/AAANzJDABU8ThPOMJwpiCmoX8RfclABO2/9L\n",
       "6fYl21qT57fCJVUorTraJF+9BSZhNf8CRHUH4YJijBZFGV7DGlHWS/rwatnnkvrjvc9Jza2h9Z0c\n",
       "tX6a/HmoiAhzHwhMoPf7fIRSTii9tgDl33hpfH2cn20z9FVlqGgsYE3azNpgBlz8uYsrPTepRjzH\n",
       "XvBpsErmHWQEE09+aIUjoQlFZFok02Pp65P7yI6pjYPfMxaoN/BErxwgr5gP+t4+PvvBATsAMSz7\n",
       "VHuDpVCcanNKjWxTsNBdA7HnGZeWHYBokQRhuhkdDKMlE6ttVsw+5STDFtFTKmjJA/R5Gc3YKA1B\n",
       "n+PiziXZrBlfAo6XTOccUjFy7ZnTb0MCmKvR7WBvWSx9SYf3hmpIR6szxa7nI9j/a3FssTXeFxKL\n",
       "LK/5GaH/o1pYj08AL0BPNLH98iHXme+ZXZsXdJ/BROXxw6xIdIka3la8aXqJ6QqgIG0aVgtXu2Yc\n",
       "RjBC3BdiFyMjYQMue+F12ZMQ6f/UKxTcODzbb6NPy9ffE8Rps8I4NrBw2O1VHui7SdIx+N4mtXyj\n",
       "vGGEwnCnPSiE5JhToIuxqCNtON/7JmgDVZglkNFfZJXIztk5gKrIAkIe2DP15gi1ICE62GcjuzMC\n",
       "/nf6xt9hv4Gtmg0sqU0gKuaWuG/9b/Rte4GkmFsK79gTZebqaAZcoq9NWqWxQxsKiWAA3+YM65md\n",
       "pblJYczxapQO2ub/3kmQ09DBYovkAL5hAXNc/u0JQAD8rOszyKzfnKAUKFzeRMXOSdwMMwq1cqS3\n",
       "0PVw4AXBYarwNQRwl+u15h8DzmAMOjwiSPAHdrJYzAkR0I3cExB2j9O5rlueKjZzPy2IDudXiHJE\n",
       "IN/uep9v0taTkJIfnPmFgLcb7+k0NsSZpeIwBXdLSwnWbgDvN8Q5dkYBzmTtjFBS0K2M8Ppc4Rko\n",
       "nZ0T8ineuxaD27nac8ERTc9pMTA9lUyHthKo4vxan34ehvTUy4NFzW9nCda1o+bdDtPJBmq28vcJ\n",
       "9EfNqJ9NRVERM2iKIxURHIF3hvyE9psCYve9OeBCd7Tz21JfC/JUXF8W93+5jXKuHfTVxgZZ2WFj\n",
       "7uEombxR9NM9Ld9BOtjRSZWRSwgsZ5DUguib0Z2Nc3dTrzfmgoz8p7BWInek8hpY9rYiTC1gDFe7\n",
       "Ye2DLADaUheWooOT5Vc+1Y8/tBMOAm4+Xvu5a84SrsYjcfdExZLm3Pg6b3kb6/OYolm3KDNotp50\n",
       "rv0erAvBt4hjlUVxTvPuErfjdx9iub4Y3N4Guwm0lRCq4GvsDV2Hf6RmQu50DrHkIGX1CN20nVQS\n",
       "eSI/56X284KuE3sN8dBYQqf/CsVmJlfMZSRF9+4ySNyMGaNgMcJ5VWlRAZYPkFcj0jRuI/avJcm8\n",
       "4veA+3k96BCN9lQBKzxhvcRpyYC2OiWaegQQTQU0NmpJhGuM6g9GDQ99mw/V6eys/V2MmwHQTJBZ\n",
       "ynri9i0S+JKe/xoqEZPxxx0EuqSE4AkhClVnAAAg4AAAAR0Bnj5qQQ8AADtX96HhOEyg92QKIowA\n",
       "AhcHIMrqOyLTZhFGbaVl/UJ1jWYcg7HRZh95Syg4KILzHEr59YNgHk32t9XqLbd+B4gaDOYNJ4w9\n",
       "K1WOyhi8CKaF12DbK5kF3/EAeCjK6yGtTZEhhcoPJFmxkG7lmHLtls19uy/XwAesrvghpkHWiqKm\n",
       "AxJAzfNTvqPVY4sJA2TfBuBck1O3haB67IP29YdJ7cuArN/onAlcK8hFSb4jnK9n1QzIyc/sOCGw\n",
       "6DDro/UUzmnO/Zsn54AfJ4nNxbKpgTJ4lxyxxxfo6QcoyEmLx3YpVfSSkl9kYr+gQvvH9qUsyF+V\n",
       "zz1KUA+wNBziGNzwANIbwIFQnNQRYvFDMfEkwHtX89gACTgAAASobW9vdgAAAGxtdmhkAAAAAAAA\n",
       "AAAAAAAAAAAD6AAAH0AAAQAAAQAAAAAAAAAAAAAAAAEAAAAAAAAAAAAAAAAAAAABAAAAAAAAAAAA\n",
       "AAAAAABAAAAAAAAAAAAAAAAAAAAAAAAAAAAAAAAAAAAAAAAAAgAAA9J0cmFrAAAAXHRraGQAAAAD\n",
       "AAAAAAAAAAAAAAABAAAAAAAAH0AAAAAAAAAAAAAAAAAAAAAAAAEAAAAAAAAAAAAAAAAAAAABAAAA\n",
       "AAAAAAAAAAAAAABAAAAABRAAAAKIAAAAAAAkZWR0cwAAABxlbHN0AAAAAAAAAAEAAB9AAAAgAAAB\n",
       "AAAAAANKbWRpYQAAACBtZGhkAAAAAAAAAAAAAAAAAABAAAACAABVxAAAAAAALWhkbHIAAAAAAAAA\n",
       "AHZpZGUAAAAAAAAAAAAAAABWaWRlb0hhbmRsZXIAAAAC9W1pbmYAAAAUdm1oZAAAAAEAAAAAAAAA\n",
       "AAAAACRkaW5mAAAAHGRyZWYAAAAAAAAAAQAAAAx1cmwgAAAAAQAAArVzdGJsAAAAtXN0c2QAAAAA\n",
       "AAAAAQAAAKVhdmMxAAAAAAAAAAEAAAAAAAAAAAAAAAAAAAAABRACiABIAAAASAAAAAAAAAABAAAA\n",
       "AAAAAAAAAAAAAAAAAAAAAAAAAAAAAAAAAAAAAAAAGP//AAAAM2F2Y0MBZAAf/+EAGmdkAB+s2UBR\n",
       "BT+WEAAAAwAQAAADAIDxgxlgAQAGaOvjyyLAAAAAHHV1aWRraEDyXyRPxbo5pRvPAyPzAAAAAAAA\n",
       "ABhzdHRzAAAAAAAAAAEAAAAgAAAQAAAAABRzdHNzAAAAAAAAAAEAAAABAAABCGN0dHMAAAAAAAAA\n",
       "HwAAAAEAACAAAAAAAQAAUAAAAAABAAAgAAAAAAEAAAAAAAAAAQAAEAAAAAABAAAwAAAAAAEAABAA\n",
       "AAAAAQAAUAAAAAABAAAgAAAAAAEAAAAAAAAAAQAAEAAAAAABAABQAAAAAAEAACAAAAAAAQAAAAAA\n",
       "AAABAAAQAAAAAAEAADAAAAAAAQAAEAAAAAABAABQAAAAAAEAACAAAAAAAQAAAAAAAAABAAAQAAAA\n",
       "AAEAAFAAAAAAAQAAIAAAAAABAAAAAAAAAAEAABAAAAAAAQAAUAAAAAABAAAgAAAAAAEAAAAAAAAA\n",
       "AQAAEAAAAAABAABAAAAAAAIAABAAAAAAHHN0c2MAAAAAAAAAAQAAAAEAAAAgAAAAAQAAAJRzdHN6\n",
       "AAAAAAAAAAAAAAAgAAAWwwAACPgAAAUJAAAEOgAABA4AABNYAAAIwQAABS4AAAivAAAE+gAABG8A\n",
       "AAUNAAADXwAAAkMAAAKtAAAC1wAAAvUAAAP9AAADmAAAAaUAAAKTAAAFUgAAAh4AAAJ6AAADjAAA\n",
       "Al8AAAOfAAAC2wAAAyYAAAPRAAAEgQAAASEAAAAUc3RjbwAAAAAAAAABAAAALAAAAGJ1ZHRhAAAA\n",
       "Wm1ldGEAAAAAAAAAIWhkbHIAAAAAAAAAAG1kaXJhcHBsAAAAAAAAAAAAAAAALWlsc3QAAAAlqXRv\n",
       "bwAAAB1kYXRhAAAAAQAAAABMYXZmNTguMjkuMTAw\n",
       "\">\n",
       "  Your browser does not support the video tag.\n",
       "</video>"
      ],
      "text/plain": [
       "<IPython.core.display.HTML object>"
      ]
     },
     "execution_count": 21,
     "metadata": {},
     "output_type": "execute_result"
    }
   ],
   "source": [
    "HTML(simulation.to_html5_video())"
   ]
  },
  {
   "cell_type": "code",
   "execution_count": 22,
   "metadata": {},
   "outputs": [],
   "source": [
    "#simulation.save(filename='sml.mp4',fps=2,dpi=300)"
   ]
  },
  {
   "cell_type": "code",
   "execution_count": 23,
   "metadata": {},
   "outputs": [
    {
     "data": {
      "text/plain": [
       "(32, 2000)"
      ]
     },
     "execution_count": 23,
     "metadata": {},
     "output_type": "execute_result"
    }
   ],
   "source": [
    "spec.shape"
   ]
  },
  {
   "cell_type": "markdown",
   "metadata": {},
   "source": [
    "# Time series of synthetic spectrum:"
   ]
  },
  {
   "cell_type": "code",
   "execution_count": 24,
   "metadata": {},
   "outputs": [],
   "source": [
    "time = np.arange(0,spec.shape[0]*5,5)\n",
    "nt = len(time)-1"
   ]
  },
  {
   "cell_type": "code",
   "execution_count": 25,
   "metadata": {},
   "outputs": [],
   "source": [
    "from fit2gauss import fit2gauss\n",
    "v_r = np.zeros(nt)\n",
    "v_b = np.zeros(nt)\n",
    "w_r = np.zeros(nt)\n",
    "w_b = np.zeros(nt)\n",
    "\n",
    "amp = np.zeros(nt)\n",
    "\n",
    "for i in range(0,nt):\n",
    "    \n",
    "    t_i = time[i]\n",
    "    \n",
    "    dat = spec[i,:]\n",
    "    err = error[i,:]\n",
    "        \n",
    "    res = fit2gauss(ll,dat,err,chi_thr=100.)\n",
    "    a2g = res[\"a2g\"] # extract fit parameters\n",
    "    a1g = res[\"a1g\"]\n",
    "\n",
    "    #calculate Doppler velocities and wavelengths\n",
    "    line = 1402.77\n",
    "    c = 300.\n",
    "    freq = c/line*1e3\n",
    "\n",
    "    amp[i] = a1g[0]\n",
    "\n",
    "    if a2g[1] < a2g[4]:\n",
    "        v_b[i] = (a2g[1]-line)/line*3e5 # in km/s\n",
    "        v_r[i] = (a2g[4]-line)/line*3e5\n",
    "        #w_b[i] = a2g[2]*freq\n",
    "        #w_r[i] = a2g[5]*freq\n",
    "\n",
    "    else:\n",
    "        v_r[i] = (a2g[1]-line)/line*3e5 # in km/s\n",
    "        v_b[i] = (a2g[4]-line)/line*3e5\n",
    "        #w_r[i] = a2g[2]*freq\n",
    "        #w_b[i] = a2g[5]*freq"
   ]
  },
  {
   "cell_type": "code",
   "execution_count": 26,
   "metadata": {
    "scrolled": false
   },
   "outputs": [
    {
     "data": {
      "text/plain": [
       "(0, 60)"
      ]
     },
     "execution_count": 26,
     "metadata": {},
     "output_type": "execute_result"
    },
    {
     "data": {
      "image/png": "[encoded data removed]",
      "text/plain": [
       "<Figure size 1008x576 with 1 Axes>"
      ]
     },
     "metadata": {
      "needs_background": "light"
     },
     "output_type": "display_data"
    }
   ],
   "source": [
    "plt.figure(figsize=(14,8))\n",
    "plt.plot(time[0:-1],v_r,'r',alpha=0.75,marker='o')\n",
    "plt.plot(time[0:-1],v_b,'b',alpha=0.75,marker='o')\n",
    "plt.ylim(0,60)"
   ]
  },
  {
   "cell_type": "code",
   "execution_count": 27,
   "metadata": {},
   "outputs": [
    {
     "data": {
      "text/plain": [
       "[<matplotlib.lines.Line2D at 0x7fe66beab210>]"
      ]
     },
     "execution_count": 27,
     "metadata": {},
     "output_type": "execute_result"
    },
    {
     "data": {
      "image/png": "[encoded data removed]",
      "text/plain": [
       "<Figure size 432x288 with 1 Axes>"
      ]
     },
     "metadata": {
      "needs_background": "light"
     },
     "output_type": "display_data"
    }
   ],
   "source": [
    "plt.plot(time[0:-1]/60,amp/np.max(amp)*60)\n",
    "plt.plot(time[0:-1]/60,v_r,'r',alpha=0.75,marker='o')"
   ]
  },
  {
   "cell_type": "code",
   "execution_count": 28,
   "metadata": {},
   "outputs": [
    {
     "name": "stdout",
     "output_type": "stream",
     "text": [
      "est params =  [9568.521523718246, 1403.2757798140074, 0.1, 111024.29127982001, 1402.9101187104475, 0.1]\n",
      "single peak found\n",
      "only one peak still\n",
      "new init params =  [9568.521523718246, 1403.2757798140074, 0.1, 111024.29127982001, 1402.9101187104475, 0.1]\n",
      "a2g = [-1.82980285e-01  1.40343805e+03  7.59510910e-03  1.20595065e+05\n",
      "  1.40293913e+03  9.88279812e-02]\n",
      "a1g[0] = 120595.2643767031\n",
      "chi2g =  0.003781943126167707\n",
      "a2g =  [1.20595264e+05 1.40293910e+03 9.88270599e-02 0.00000000e+00\n",
      " 1.40293910e+03 9.88270599e-02]\n",
      "chi1g =  0.004263658670294518\n",
      "chi2g =  -1.0\n"
     ]
    }
   ],
   "source": [
    "spec_fit,error_fit = spec[6,:],error[6,:]\n",
    "res = fit2gauss(ll,spec_fit,error_fit,chi_thr=50.,verbose=True)"
   ]
  },
  {
   "cell_type": "code",
   "execution_count": 29,
   "metadata": {},
   "outputs": [
    {
     "data": {
      "image/png": "[encoded data removed]",
      "text/plain": [
       "<Figure size 1008x576 with 1 Axes>"
      ]
     },
     "metadata": {
      "needs_background": "light"
     },
     "output_type": "display_data"
    }
   ],
   "source": [
    "from matplotlib import gridspec\n",
    "# extract arrays\n",
    "y2a = res[\"y2a\"]\n",
    "y2b = res[\"y2b\"]\n",
    "y1g = res[\"y1g\"]\n",
    "\n",
    "#plot \n",
    "fig = plt.figure(figsize=(14,8))\n",
    "gs = gridspec.GridSpec(1,1)\n",
    "ax1 = fig.add_subplot(gs[0])\n",
    "\n",
    "# spectra\n",
    "ax1.plot(ll, spec_fit)\n",
    "\n",
    "# peak 1\n",
    "ax1.plot(ll, y2a, \"g\")\n",
    "ax1.fill_between(ll, y2a.min(), y2a, facecolor=\"green\", alpha=0.5)\n",
    "  \n",
    "# peak 2\n",
    "ax1.plot(ll, y2b, \"y\")\n",
    "ax1.fill_between(ll, y2b.min(), y2b, facecolor=\"yellow\", alpha=0.5) \n",
    "\n",
    "#both\n",
    "ax1.plot(ll,y2a+y2b, \"r\")\n",
    "\n",
    "# single fit\n",
    "ax1.plot(ll,y1g,'b--')\n",
    "    \n",
    "plt.xlim(1402.5,1404)\n",
    "#plt.ylim(0,3000)\n",
    "ax1.set_xlabel(\"wavlength [$\\AA$]\",  fontsize=12)\n",
    "ax1.set_ylabel(\"normalized intensity\",  fontsize=12)\n",
    "fig.tight_layout()"
   ]
  },
  {
   "cell_type": "markdown",
   "metadata": {},
   "source": [
    "# Fit:"
   ]
  },
  {
   "cell_type": "code",
   "execution_count": 30,
   "metadata": {},
   "outputs": [],
   "source": [
    "def u0_fit(t, *a):\n",
    "    return a[0]/(1+t/a[1])"
   ]
  },
  {
   "cell_type": "code",
   "execution_count": 31,
   "metadata": {},
   "outputs": [],
   "source": [
    "imax = np.argmax(v_r) "
   ]
  },
  {
   "cell_type": "code",
   "execution_count": 39,
   "metadata": {},
   "outputs": [
    {
     "data": {
      "text/plain": [
       "[<matplotlib.lines.Line2D at 0x7fe66c7d2490>]"
      ]
     },
     "execution_count": 39,
     "metadata": {},
     "output_type": "execute_result"
    },
    {
     "data": {
      "image/png": "[encoded data removed]",
      "text/plain": [
       "<Figure size 432x288 with 1 Axes>"
      ]
     },
     "metadata": {
      "needs_background": "light"
     },
     "output_type": "display_data"
    }
   ],
   "source": [
    "tt = time[imax+1:-16] \n",
    "tt = tt-tt[0]\n",
    "vr = v_r[imax+1:-15]\n",
    "plt.plot(tt,vr,'o')"
   ]
  },
  {
   "cell_type": "code",
   "execution_count": 40,
   "metadata": {},
   "outputs": [],
   "source": [
    "a0= [55,15]\n",
    "popt, pcov = curve_fit(u0_fit, tt, vr,p0=a0)"
   ]
  },
  {
   "cell_type": "code",
   "execution_count": 41,
   "metadata": {},
   "outputs": [
    {
     "data": {
      "text/plain": [
       "[<matplotlib.lines.Line2D at 0x7fe66c84e690>]"
      ]
     },
     "execution_count": 41,
     "metadata": {},
     "output_type": "execute_result"
    },
    {
     "data": {
      "image/png": "[encoded data removed]",
      "text/plain": [
       "<Figure size 432x288 with 1 Axes>"
      ]
     },
     "metadata": {
      "needs_background": "light"
     },
     "output_type": "display_data"
    }
   ],
   "source": [
    "plt.plot(tt,u0_fit(tt,*popt))\n",
    "plt.plot(tt,vr,'o')"
   ]
  },
  {
   "cell_type": "code",
   "execution_count": 42,
   "metadata": {},
   "outputs": [
    {
     "data": {
      "text/plain": [
       "4.938446317034022"
      ]
     },
     "execution_count": 42,
     "metadata": {},
     "output_type": "execute_result"
    }
   ],
   "source": [
    "popt[1]"
   ]
  },
  {
   "cell_type": "code",
   "execution_count": 43,
   "metadata": {},
   "outputs": [],
   "source": [
    "H = 0.6*popt[0]*popt[1]"
   ]
  },
  {
   "cell_type": "code",
   "execution_count": 44,
   "metadata": {},
   "outputs": [
    {
     "data": {
      "text/plain": [
       "111.30320202814696"
      ]
     },
     "execution_count": 44,
     "metadata": {},
     "output_type": "execute_result"
    }
   ],
   "source": [
    "H"
   ]
  },
  {
   "cell_type": "code",
   "execution_count": null,
   "metadata": {},
   "outputs": [],
   "source": []
  }
 ],
 "metadata": {
  "kernelspec": {
   "display_name": "Python 3",
   "language": "python",
   "name": "python3"
  },
  "language_info": {
   "codemirror_mode": {
    "name": "ipython",
    "version": 3
   },
   "file_extension": ".py",
   "mimetype": "text/x-python",
   "name": "python",
   "nbconvert_exporter": "python",
   "pygments_lexer": "ipython3",
   "version": "3.7.4"
  }
 },
 "nbformat": 4,
 "nbformat_minor": 2
}
