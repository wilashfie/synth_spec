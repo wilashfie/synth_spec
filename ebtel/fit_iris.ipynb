{
 "cells": [
  {
   "cell_type": "code",
   "execution_count": 1,
   "id": "quantitative-clinic",
   "metadata": {},
   "outputs": [],
   "source": [
    "import numpy as np\n",
    "import matplotlib.pyplot as plt\n",
    "from matplotlib import gridspec\n",
    "from matplotlib.ticker import MultipleLocator\n",
    "from scipy.io import readsav\n",
    "\n",
    "from matplotlib import animation, rc\n",
    "from IPython.display import HTML\n",
    "\n",
    "import sys\n",
    "sys.path.append(\"../\")\n",
    "from iris2gauss import fit2gauss"
   ]
  },
  {
   "cell_type": "code",
   "execution_count": 2,
   "id": "difficult-safety",
   "metadata": {},
   "outputs": [],
   "source": [
    "path = '/Users/WilliamHenryAshfieldIV/dat/iris/'\n",
    "filename = 'raster_data.sav'\n",
    "fn = path+filename"
   ]
  },
  {
   "cell_type": "code",
   "execution_count": 3,
   "id": "competent-eligibility",
   "metadata": {},
   "outputs": [],
   "source": [
    "ro = readsav(fn,verbose=False,python_dict=False)"
   ]
  },
  {
   "cell_type": "code",
   "execution_count": 4,
   "id": "random-ebony",
   "metadata": {},
   "outputs": [
    {
     "data": {
      "text/plain": [
       "b'2014-10-25T14:58:28.730'"
      ]
     },
     "execution_count": 4,
     "metadata": {},
     "output_type": "execute_result"
    }
   ],
   "source": [
    "tm = np.array(ro.d['TIME'][0])\n",
    "ro.d['TIME_CCSDS'][0][0]"
   ]
  },
  {
   "cell_type": "code",
   "execution_count": 5,
   "id": "authorized-handy",
   "metadata": {},
   "outputs": [],
   "source": [
    "sttime = 53908 # observation start time in sec.\n",
    "tm += sttime"
   ]
  },
  {
   "cell_type": "code",
   "execution_count": 6,
   "id": "outer-slovenia",
   "metadata": {},
   "outputs": [],
   "source": [
    "import datetime\n",
    "import matplotlib.dates as date"
   ]
  },
  {
   "cell_type": "code",
   "execution_count": 8,
   "id": "scheduled-speed",
   "metadata": {},
   "outputs": [],
   "source": [
    "dts = np.empty(len(tm), dtype = '<U15')\n",
    "for i in range (0,len(tm)):\n",
    "    dts[i] = str(datetime.timedelta(seconds=tm[i],milliseconds=3))"
   ]
  },
  {
   "cell_type": "code",
   "execution_count": 9,
   "id": "excellent-lotus",
   "metadata": {},
   "outputs": [
    {
     "data": {
      "text/plain": [
       "'14:58:28.173000'"
      ]
     },
     "execution_count": 9,
     "metadata": {},
     "output_type": "execute_result"
    }
   ],
   "source": [
    "dts[0]"
   ]
  },
  {
   "cell_type": "code",
   "execution_count": 10,
   "id": "occasional-pleasure",
   "metadata": {},
   "outputs": [],
   "source": [
    "tmp = np.array([datetime.datetime for x in range(len(tm))])\n",
    "for i in range(0,len(tm)):\n",
    "    tmp[i]=datetime.datetime.strptime(dts[i],'%H:%M:%S.%f')\n",
    "tm_d = date.date2num(tmp)"
   ]
  },
  {
   "cell_type": "code",
   "execution_count": 11,
   "id": "wooden-mississippi",
   "metadata": {},
   "outputs": [
    {
     "data": {
      "image/png": "[encoded data removed]",
      "text/plain": [
       "<Figure size 720x576 with 1 Axes>"
      ]
     },
     "metadata": {
      "needs_background": "light"
     },
     "output_type": "display_data"
    }
   ],
   "source": [
    "ty = np.arange(0,len(tm))\n",
    "fig, ax = plt.subplots(figsize=(10,8))\n",
    "ax.plot_date(tm_d,ty**2)\n",
    "ax.xaxis.set_major_locator(date.HourLocator())\n",
    "ax.xaxis.set_major_formatter(date.DateFormatter('%H:%M:%S'))"
   ]
  },
  {
   "cell_type": "code",
   "execution_count": 12,
   "id": "important-reducing",
   "metadata": {},
   "outputs": [],
   "source": [
    "Int = ro.d['INT'][0]\n",
    "wvl = ro.d['WVL'][0]\n",
    "err = ro.d['ERR'][0]\n",
    "\n",
    "data = Int[69,:,:] # raster px=69, the one we want.\n",
    "error = err[69,:,:]\n",
    "\n",
    "# trim:\n",
    "jj = np.where((wvl > 1402) & (wvl < 1405))[0]\n",
    "data = data[:,jj]\n",
    "error = error[:,jj]\n",
    "wvl = wvl[jj]"
   ]
  },
  {
   "cell_type": "code",
   "execution_count": 13,
   "id": "floating-manitoba",
   "metadata": {},
   "outputs": [
    {
     "data": {
      "text/plain": [
       "(387, 2040, 197)"
      ]
     },
     "execution_count": 13,
     "metadata": {},
     "output_type": "execute_result"
    }
   ],
   "source": [
    "Int.shape"
   ]
  },
  {
   "cell_type": "code",
   "execution_count": 14,
   "id": "sitting-engine",
   "metadata": {},
   "outputs": [
    {
     "data": {
      "text/plain": [
       "1402.014467867996"
      ]
     },
     "execution_count": 14,
     "metadata": {},
     "output_type": "execute_result"
    }
   ],
   "source": [
    "wvl[0]"
   ]
  },
  {
   "cell_type": "code",
   "execution_count": 15,
   "id": "rational-gross",
   "metadata": {},
   "outputs": [
    {
     "data": {
      "text/plain": [
       "[<matplotlib.lines.Line2D at 0x7fe7d4830c50>]"
      ]
     },
     "execution_count": 15,
     "metadata": {},
     "output_type": "execute_result"
    },
    {
     "data": {
      "image/png": "[encoded data removed]",
      "text/plain": [
       "<Figure size 432x288 with 1 Axes>"
      ]
     },
     "metadata": {
      "needs_background": "light"
     },
     "output_type": "display_data"
    }
   ],
   "source": [
    "plt.plot(wvl,data[1426,:])"
   ]
  },
  {
   "cell_type": "code",
   "execution_count": 16,
   "id": "desperate-spank",
   "metadata": {},
   "outputs": [],
   "source": [
    "it = np.arange(1000,1600) # subrange of time (in index) to fit\n",
    "N = len(it)"
   ]
  },
  {
   "cell_type": "code",
   "execution_count": null,
   "id": "israeli-startup",
   "metadata": {},
   "outputs": [],
   "source": []
  },
  {
   "cell_type": "code",
   "execution_count": 17,
   "id": "ultimate-medicare",
   "metadata": {},
   "outputs": [
    {
     "name": "stderr",
     "output_type": "stream",
     "text": [
      "../iris2gauss.py:12: RuntimeWarning: divide by zero encountered in true_divide\n",
      "  ef1 = np.exp( -0.5*( (x-a[1])/a[2] )**2 )\n",
      "/opt/anaconda3/lib/python3.7/site-packages/scipy/optimize/minpack.py:829: OptimizeWarning: Covariance of the parameters could not be estimated\n",
      "  category=OptimizeWarning)\n",
      "../iris2gauss.py:93: RuntimeWarning: invalid value encountered in sqrt\n",
      "  sd = np.sqrt(m2)\n",
      "../iris2gauss.py:35: RuntimeWarning: invalid value encountered in double_scalars\n",
      "  s = mvec[3]/mvec[2]**(1.5) # the skewness\n",
      "../iris2gauss.py:38: RuntimeWarning: invalid value encountered in sqrt\n",
      "  dv = np.sqrt(mvec[2]/f/(1.0-f)) # estimate of separation  v_red - v_blue\n",
      "../iris2gauss.py:43: RuntimeWarning: invalid value encountered in sqrt\n",
      "  a0 = dx*mvec[0]/(np.sqrt(2*np.pi*mvec[2]))\n"
     ]
    }
   ],
   "source": [
    "v_r = np.zeros(N)\n",
    "v_b = np.zeros(N)\n",
    "amp = np.zeros(N)\n",
    "\n",
    "for i in range(0,N):\n",
    "    \n",
    "    t_i = it[i]\n",
    "    dt = data[t_i,:]\n",
    "    er = error[t_i,:]\n",
    "        \n",
    "    res = fit2gauss(wvl,dt,er,chi_thr=250.)\n",
    "    a2g = res[\"a2g\"] # extract fit parameters\n",
    "    a1g = res[\"a1g\"]\n",
    "\n",
    "    #calculate Doppler velocities and wavelengths\n",
    "    line = 1402.77\n",
    "    c = 300.\n",
    "    freq = c/line*1e3\n",
    "\n",
    "    amp[i] = a1g[0]\n",
    "\n",
    "    if a2g[1] < a2g[4]:\n",
    "        v_b[i] = (a2g[1]-line)/line*3e5 # in km/s\n",
    "        v_r[i] = (a2g[4]-line)/line*3e5\n",
    "    else:\n",
    "        v_r[i] = (a2g[1]-line)/line*3e5 # in km/s\n",
    "        v_b[i] = (a2g[4]-line)/line*3e5"
   ]
  },
  {
   "cell_type": "code",
   "execution_count": 18,
   "id": "unable-semiconductor",
   "metadata": {},
   "outputs": [
    {
     "data": {
      "text/plain": [
       "datetime.datetime(1900, 1, 1, 17, 6, 19, 813000)"
      ]
     },
     "execution_count": 18,
     "metadata": {},
     "output_type": "execute_result"
    }
   ],
   "source": [
    "tmp[1420]\n",
    "tmp[1430]"
   ]
  },
  {
   "cell_type": "code",
   "execution_count": 19,
   "id": "superior-debate",
   "metadata": {},
   "outputs": [
    {
     "data": {
      "text/plain": [
       "(-25566.287890243057, -25566.287270682868)"
      ]
     },
     "execution_count": 19,
     "metadata": {},
     "output_type": "execute_result"
    },
    {
     "data": {
      "image/png": "[encoded data removed]",
      "text/plain": [
       "<Figure size 720x576 with 1 Axes>"
      ]
     },
     "metadata": {
      "needs_background": "light"
     },
     "output_type": "display_data"
    }
   ],
   "source": [
    "#plt.figure(figsize=(14,8))\n",
    "#plt.plot(it,v_r,'r',alpha=0.75,marker='o')\n",
    "#plt.plot(it,v_b,'b',alpha=0.75,marker='o')\n",
    "#plt.ylim(0,60)\n",
    "#plt.xlim(1420,1430)\n",
    "\n",
    "fig, ax = plt.subplots(figsize=(10,8))\n",
    "ax.plot_date(tm_d[it],v_r,'r',alpha=0.75,marker='o')\n",
    "ax.plot_date(tm_d[it],v_b,'b',alpha=0.75,marker='o')\n",
    "#ax.xaxis.set_major_locator(date.MinuteLocator())\n",
    "#ax.xaxis.set_major_locator(tmp[1420:1430])\n",
    "ax.xaxis.set_major_formatter(date.DateFormatter('%H:%M:%S'))\n",
    "ax.xaxis.set_minor_locator(date.SecondLocator())\n",
    "#ax.xaxis.set_minor_formatter(date.DateFormatter('0.%f'))\n",
    "ax.set_ylim(0,45)\n",
    "ax.set_xlim([tmp[1420], tmp[1430]])"
   ]
  },
  {
   "cell_type": "code",
   "execution_count": 20,
   "id": "heavy-message",
   "metadata": {},
   "outputs": [
    {
     "data": {
      "text/plain": [
       "[<matplotlib.lines.Line2D at 0x7fe7d4d030d0>]"
      ]
     },
     "execution_count": 20,
     "metadata": {},
     "output_type": "execute_result"
    },
    {
     "data": {
      "image/png": "[encoded data removed]",
      "text/plain": [
       "<Figure size 432x288 with 1 Axes>"
      ]
     },
     "metadata": {
      "needs_background": "light"
     },
     "output_type": "display_data"
    }
   ],
   "source": [
    "tm -= sttime\n",
    "stm = tm[1427:1435]\n",
    "stm -= stm[0] # put time array into seconds, starting at max velocity, for fitting.\n",
    "vr = v_r[427:435]\n",
    "plt.plot(stm,vr,'r' 'o')"
   ]
  },
  {
   "cell_type": "code",
   "execution_count": 21,
   "id": "breathing-greece",
   "metadata": {},
   "outputs": [],
   "source": [
    "from scipy.optimize import curve_fit\n",
    "def u0_fit(t, *a):\n",
    "    return a[0]/(1+t/a[1])"
   ]
  },
  {
   "cell_type": "code",
   "execution_count": 34,
   "id": "french-lesson",
   "metadata": {},
   "outputs": [],
   "source": [
    "a0= [35,15]\n",
    "popt, pcov = curve_fit(u0_fit, stm, vr,p0=a0)\n",
    "vr_fit = u0_fit(stm,*popt)"
   ]
  },
  {
   "cell_type": "code",
   "execution_count": 40,
   "id": "affiliated-spanish",
   "metadata": {},
   "outputs": [
    {
     "data": {
      "text/plain": [
       "[<matplotlib.lines.Line2D at 0x7fe7d57cf290>]"
      ]
     },
     "execution_count": 40,
     "metadata": {},
     "output_type": "execute_result"
    },
    {
     "data": {
      "image/png": "[encoded data removed]",
      "text/plain": [
       "<Figure size 432x288 with 1 Axes>"
      ]
     },
     "metadata": {
      "needs_background": "light"
     },
     "output_type": "display_data"
    }
   ],
   "source": [
    "plt.plot(stm,vr_fit,'-')\n",
    "plt.plot(stm,vr,'r' 'o')"
   ]
  },
  {
   "cell_type": "code",
   "execution_count": 41,
   "id": "behind-philip",
   "metadata": {},
   "outputs": [
    {
     "name": "stdout",
     "output_type": "stream",
     "text": [
      "Stored 'vr_fit' (ndarray)\n",
      "Stored 'vr_iris' (ndarray)\n",
      "Stored 'stm' (ndarray)\n"
     ]
    }
   ],
   "source": [
    "vr_iris = vr\n",
    "%store vr_fit\n",
    "%store vr_iris\n",
    "%store stm"
   ]
  },
  {
   "cell_type": "code",
   "execution_count": 24,
   "id": "extended-saint",
   "metadata": {},
   "outputs": [
    {
     "name": "stdout",
     "output_type": "stream",
     "text": [
      "H =  106.45466696761606\n",
      "tau =  5.137937459823468\n"
     ]
    }
   ],
   "source": [
    "H = 0.6*popt[0]*popt[1]\n",
    "print('H = ', H)\n",
    "print('tau = ',popt[1])"
   ]
  },
  {
   "cell_type": "code",
   "execution_count": 25,
   "id": "correct-infection",
   "metadata": {},
   "outputs": [],
   "source": [
    "stm_d = tm_d[1427:1435]"
   ]
  },
  {
   "cell_type": "code",
   "execution_count": 26,
   "id": "preliminary-efficiency",
   "metadata": {},
   "outputs": [
    {
     "data": {
      "text/plain": [
       "array([-25566.28745703, -25566.28739406, -25566.28733145, -25566.28727068,\n",
       "       -25566.2872083 , -25566.28714522, -25566.28708446, -25566.28702253])"
      ]
     },
     "execution_count": 26,
     "metadata": {},
     "output_type": "execute_result"
    }
   ],
   "source": [
    "stm_d"
   ]
  },
  {
   "cell_type": "code",
   "execution_count": 30,
   "id": "excited-advocacy",
   "metadata": {},
   "outputs": [
    {
     "data": {
      "text/plain": [
       "(0.0, 45.0)"
      ]
     },
     "execution_count": 30,
     "metadata": {},
     "output_type": "execute_result"
    },
    {
     "data": {
      "image/png": "[encoded data removed]",
      "text/plain": [
       "<Figure size 720x576 with 1 Axes>"
      ]
     },
     "metadata": {
      "needs_background": "light"
     },
     "output_type": "display_data"
    }
   ],
   "source": [
    "fig, ax = plt.subplots(figsize=(10,8))\n",
    "ax.plot_date(stm_d,vr,'r' 'o',alpha=0.75)\n",
    "ax.plot_date(stm_d,u0_fit(stm,*popt),'-')\n",
    "#ax.plot_date(stm_d,vb,'b',alpha=0.75,marker='o')\n",
    "#ax.xaxis.set_major_locator(date.MinuteLocator())\n",
    "#ax.xaxis.set_major_locator(tmp[1420:1430])\n",
    "ax.xaxis.set_major_formatter(date.DateFormatter('%H:%M:%S'))\n",
    "ax.xaxis.set_minor_locator(date.SecondLocator())\n",
    "#ax.xaxis.set_minor_formatter(date.DateFormatter('0.%f'))\n",
    "ax.set_ylim(0,45)\n",
    "#ax.set_xlim([tmp[1420], tmp[1430]])\n",
    "\n",
    "#plt.plot(stm,u0_fit(stm,*popt),'-')\n",
    "#plt.plot(stm,vr,'r' 'o')"
   ]
  },
  {
   "cell_type": "code",
   "execution_count": 31,
   "id": "authentic-radiation",
   "metadata": {},
   "outputs": [
    {
     "data": {
      "text/plain": [
       "-25566.287457025464"
      ]
     },
     "execution_count": 31,
     "metadata": {},
     "output_type": "execute_result"
    }
   ],
   "source": [
    "stm_d[0]"
   ]
  },
  {
   "cell_type": "code",
   "execution_count": null,
   "id": "complex-survey",
   "metadata": {},
   "outputs": [],
   "source": []
  }
 ],
 "metadata": {
  "kernelspec": {
   "display_name": "Python 3",
   "language": "python",
   "name": "python3"
  },
  "language_info": {
   "codemirror_mode": {
    "name": "ipython",
    "version": 3
   },
   "file_extension": ".py",
   "mimetype": "text/x-python",
   "name": "python",
   "nbconvert_exporter": "python",
   "pygments_lexer": "ipython3",
   "version": "3.7.9"
  }
 },
 "nbformat": 4,
 "nbformat_minor": 5
}
