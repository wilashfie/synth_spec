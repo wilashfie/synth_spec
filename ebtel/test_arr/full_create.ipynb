{
 "cells": [
  {
   "cell_type": "code",
   "execution_count": 1,
   "id": "earned-tours",
   "metadata": {},
   "outputs": [],
   "source": [
    "import numpy as np\n",
    "import matplotlib.pyplot as plt\n",
    "from scipy.io import readsav\n",
    "from scipy.interpolate import interp1d\n",
    "from scipy import optimize\n",
    "from scipy.optimize import curve_fit\n",
    "from scipy.signal import savgol_filter\n",
    "from matplotlib import gridspec\n",
    "\n",
    "import sys\n",
    "sys.path.append(\"../\")\n",
    "from fit2gauss import fit2gauss"
   ]
  },
  {
   "cell_type": "code",
   "execution_count": 2,
   "id": "overall-botswana",
   "metadata": {},
   "outputs": [],
   "source": [
    "import matplotlib as mpl\n",
    "import matplotlib.font_manager as fm\n",
    "# Rebuild the matplotlib font cache\n",
    "fm._rebuild()\n",
    "\n",
    "mpl.rcParams['font.family'] = 'Avenir'\n",
    "plt.rcParams['font.size'] = 18\n",
    "plt.rcParams['axes.linewidth'] = 2\n",
    "\n",
    "clrs = ['#0051a2', '#97964a', '#ffd44f', '#f4777f', '#93003a']\n",
    "\n",
    "plt.rcParams['text.usetex'] = True"
   ]
  },
  {
   "cell_type": "code",
   "execution_count": 3,
   "id": "optional-making",
   "metadata": {},
   "outputs": [],
   "source": [
    "tube = readsav('/Users/WilliamHenryAshfieldIV/dat/ebtel_l85_h369_5min_gaussian_test_nolimiter.sav',verbose=False,python_dict=False)\n",
    "frac = readsav('/Users/WilliamHenryAshfieldIV/dat/ebtel_l85_h369_gaussian_nolimiter_si_iv_nei.sav',verbose=False,python_dict=False)\n",
    "#tube = readsav('/Users/WilliamHenryAshfieldIV/dat/ebtel_l85_h369_5min_gaussian_test.sav',verbose=False,python_dict=False)\n",
    "#frac = readsav('/Users/WilliamHenryAshfieldIV/dat/ebtel_l85_h369_gaussian_si_iv_nei.sav',verbose=False,python_dict=False)\n",
    "log10T,log10G = np.loadtxt('/Users/WilliamHenryAshfieldIV/dat/goft_1403.dat.txt',comments='%',unpack=True)"
   ]
  },
  {
   "cell_type": "code",
   "execution_count": 4,
   "id": "satisfactory-scoop",
   "metadata": {},
   "outputs": [],
   "source": [
    "t_n = tube.tarr.shape[0] - 1 # len of tube in time (in steps of 0.2s)\n",
    "line = 1402.77"
   ]
  },
  {
   "cell_type": "code",
   "execution_count": 5,
   "id": "requested-sword",
   "metadata": {},
   "outputs": [],
   "source": [
    "# set inital values\n",
    "line_cgs = 1402.77*1e-8 # cm.\n",
    "mass = 28.0*1.66054e-27 # g\n",
    "#kb = 1.3807e-23\n",
    "kb = 1.3807*1e-16 # cm^2 g /s^2 /K\n",
    "#c = 300 # Mm/s\n",
    "c = 3.*1e10 # cm /s\n",
    "h = 6.62607e-27 # g cm^2 /s\n",
    "flux=1.0e3 #? why this val?\n",
    "\n",
    "ll = np.arange(line-3,line+3,0.01)\n",
    "\n",
    "#------------- john \n",
    "gamma=5./3.\n",
    "k=1.38065e-23\n",
    "M=28.09*1.660539040e-27\n",
    "c2=299.792"
   ]
  },
  {
   "cell_type": "code",
   "execution_count": 6,
   "id": "316a8e79",
   "metadata": {},
   "outputs": [
    {
     "data": {
      "text/plain": [
       "80.00000119208985"
      ]
     },
     "execution_count": 6,
     "metadata": {},
     "output_type": "execute_result"
    }
   ],
   "source": [
    "time = 400 # 390\n",
    "tube.tarr.time[time]"
   ]
  },
  {
   "cell_type": "code",
   "execution_count": 7,
   "id": "completed-ghana",
   "metadata": {},
   "outputs": [],
   "source": [
    "# define arrays from tube.tarr\n",
    "t = tube.tarr.t[time]\n",
    "n = tube.tarr.n[time]\n",
    "los_v = tube.tarr.v[time].T[0]\n",
    "sm_v = -los_v\n",
    "los_x = tube.tarr.x[time].T[0]\n",
    "n_e = tube.tarr.epamu[time]*tube.tarr.rho[time]/1.67e-8 # number density\n",
    "b = tube.tarr.b[time]\n",
    "dl_e = tube.tarr.dl_e[time]\n",
    "\n",
    "vel = -los_v*1e3"
   ]
  },
  {
   "cell_type": "code",
   "execution_count": 8,
   "id": "e31ed10c",
   "metadata": {},
   "outputs": [],
   "source": [
    "# xlim\n",
    "#i_lim = np.where(vel>5)[0]\n",
    "#i_lim = np.where(t>t[0])[0]\n",
    "i_lim = np.where(t>0.04)[0]\n",
    "\n",
    "xl = los_x[i_lim[0]]-0.25\n",
    "xr = xl+1"
   ]
  },
  {
   "cell_type": "code",
   "execution_count": 9,
   "id": "choice-challenge",
   "metadata": {},
   "outputs": [
    {
     "data": {
      "text/plain": [
       "(2.0722007967489575, 3.0722007967489575)"
      ]
     },
     "execution_count": 9,
     "metadata": {},
     "output_type": "execute_result"
    },
    {
     "data": {
      "image/png": "[encoded data removed]",
      "text/plain": [
       "<Figure size 720x720 with 3 Axes>"
      ]
     },
     "metadata": {
      "needs_background": "light"
     },
     "output_type": "display_data"
    }
   ],
   "source": [
    "fig, axs = plt.subplots(3,figsize=[10,10])\n",
    "axs[0].plot(los_x,vel)\n",
    "axs[0].plot(los_x,vel,'o')\n",
    "axs[0].set_ylim(-5,50)\n",
    "\n",
    "axs[1].plot(los_x, n_e)\n",
    "axs[1].plot(los_x, n_e,'o')\n",
    "axs[1].set_yscale('log')\n",
    "\n",
    "axs[2].plot(los_x,t)\n",
    "axs[2].plot(los_x,t,'o')\n",
    "axs[2].set_yscale('log')\n",
    "\n",
    "axs[0].set_xlim(xl,xr)\n",
    "axs[1].set_xlim(xl,xr)\n",
    "axs[2].set_xlim(xl,xr)"
   ]
  },
  {
   "cell_type": "code",
   "execution_count": 10,
   "id": "impressive-redhead",
   "metadata": {},
   "outputs": [
    {
     "data": {
      "text/plain": [
       "[<matplotlib.lines.Line2D at 0x7f85de301950>]"
      ]
     },
     "execution_count": 10,
     "metadata": {},
     "output_type": "execute_result"
    },
    {
     "data": {
      "image/png": "[encoded data removed]",
      "text/plain": [
       "<Figure size 432x288 with 1 Axes>"
      ]
     },
     "metadata": {
      "needs_background": "light"
     },
     "output_type": "display_data"
    }
   ],
   "source": [
    "te = 10**log10T\n",
    "gT = 10**log10G\n",
    "plt.plot(te,gT,'o')"
   ]
  },
  {
   "cell_type": "code",
   "execution_count": 11,
   "id": "continental-accent",
   "metadata": {},
   "outputs": [
    {
     "name": "stderr",
     "output_type": "stream",
     "text": [
      "/opt/anaconda3/lib/python3.7/site-packages/ipykernel_launcher.py:7: RuntimeWarning: invalid value encountered in true_divide\n",
      "  import sys\n"
     ]
    }
   ],
   "source": [
    "# nei/eqi arrays at time =time\n",
    "f_nei=frac.arrs.f_nei[0]\n",
    "f_nei = f_nei[:,time]\n",
    "f_eqi=frac.arrs.f_eqi[0]\n",
    "f_eqi = f_eqi[:,time]\n",
    "\n",
    "temp_fac = f_nei/f_eqi\n",
    "np.nan_to_num(temp_fac, copy=False, nan=1); # replace inf values with 1 (due to zeros in eqi)"
   ]
  },
  {
   "cell_type": "code",
   "execution_count": 12,
   "id": "trained-sauce",
   "metadata": {},
   "outputs": [
    {
     "data": {
      "text/plain": [
       "(455, 3.391472136556945)"
      ]
     },
     "execution_count": 12,
     "metadata": {},
     "output_type": "execute_result"
    }
   ],
   "source": [
    "temp0 = tube.tarr.t[0]\n",
    "i_hot = min(np.where(temp0 > temp0[0])[0])\n",
    "i_hot,los_x[i_hot]"
   ]
  },
  {
   "cell_type": "code",
   "execution_count": 13,
   "id": "available-heading",
   "metadata": {},
   "outputs": [
    {
     "data": {
      "text/plain": [
       "(310, 510)"
      ]
     },
     "execution_count": 13,
     "metadata": {},
     "output_type": "execute_result"
    }
   ],
   "source": [
    "#i_min,i_max = i_lim[0]-50,i_lim[0]+50 # define PREFT cells to interpolate\n",
    "i_min,i_max = i_lim[0]-100,i_lim[0]+100\n",
    "i_min,i_max"
   ]
  },
  {
   "cell_type": "code",
   "execution_count": 14,
   "id": "1a080530",
   "metadata": {},
   "outputs": [
    {
     "data": {
      "text/plain": [
       "(2.178575714564568, 13.830871234346061)"
      ]
     },
     "execution_count": 14,
     "metadata": {},
     "output_type": "execute_result"
    }
   ],
   "source": [
    "los_x[i_min],los_x[i_max]"
   ]
  },
  {
   "cell_type": "code",
   "execution_count": 15,
   "id": "italic-terrorism",
   "metadata": {},
   "outputs": [],
   "source": [
    "#i_min,i_max = velf[0]-10,i_hot # fixed interval for averaging in time (for n=200)\n",
    "interp = 'linear'\n",
    "\n",
    "#sub arrays\n",
    "t_s = t[i_min:i_max]\n",
    "n_s = len(t_s)\n",
    "los_v_s = los_v[i_min:i_max]\n",
    "sm_v_s = sm_v[i_min:i_max]\n",
    "los_x_s = los_x[i_min:i_max]\n",
    "n_e_s = n_e[i_min:i_max]\n",
    "b_s = b[i_min:i_max]\n",
    "dl_e_s = dl_e[i_min:i_max]\n",
    "f_nei_s = f_nei[i_min:i_max]\n",
    "f_eqi_s = f_eqi[i_min:i_max]\n",
    "\n",
    "#EM\n",
    "A_pixel = 0.029*1e16 # cm^2 -  pixel area: 0.33 x 0.167 arcsec (as seen on sun..)\n",
    "vol_s = dl_e_s*A_pixel*1e8\n",
    "EM_s = vol_s*n_e_s**2\n",
    "\n",
    "# interpolate\n",
    "N=10*n_s\n",
    "i_s = np.arange(0,n_s)\n",
    "ii = np.arange(0,10*(n_s-1))*0.1\n",
    "i_length = len(ii)\n",
    "\n",
    "int_x = interp1d(i_s,los_x_s,kind=interp, bounds_error=False)#,fill_value=\"extrapolate\")\n",
    "int_v = interp1d(i_s,sm_v_s,kind=interp,bounds_error=False)#,fill_value=\"extrapolate\")\n",
    "int_t = interp1d(i_s,t_s,kind=interp,bounds_error=False)\n",
    "int_ne = interp1d(i_s,n_e_s,kind=interp,bounds_error=False)\n",
    "int_b = interp1d(i_s,b_s,kind=interp,bounds_error=False)\n",
    "int_dl_e = interp1d(i_s,dl_e_s,kind=interp,bounds_error=False)\n",
    "int_fnei = interp1d(i_s,f_nei_s,kind=interp,bounds_error=False)\n",
    "int_feqi = interp1d(i_s,f_eqi_s,kind=interp,bounds_error=False)\n",
    "int_em = interp1d(i_s,EM_s,kind=interp,bounds_error=False)\n",
    "\n",
    "# new, interpolated arrays from tarr/tube\n",
    "x = int_x(ii)\n",
    "v = int_v(ii)\n",
    "T = int_t(ii)\n",
    "ne = int_ne(ii)\n",
    "B = int_b(ii)\n",
    "Dl = int_dl_e(ii)\n",
    "nei = int_fnei(ii)\n",
    "eqi = int_feqi(ii)\n",
    "em=int_em(ii)"
   ]
  },
  {
   "cell_type": "code",
   "execution_count": 16,
   "id": "9f7114b8",
   "metadata": {},
   "outputs": [
    {
     "data": {
      "text/plain": [
       "[<matplotlib.lines.Line2D at 0x7f85de54ef50>]"
      ]
     },
     "execution_count": 16,
     "metadata": {},
     "output_type": "execute_result"
    },
    {
     "data": {
      "image/png": "[encoded data removed]",
      "text/plain": [
       "<Figure size 432x288 with 1 Axes>"
      ]
     },
     "metadata": {
      "needs_background": "light"
     },
     "output_type": "display_data"
    }
   ],
   "source": [
    "plt.plot(x,T,'o')\n",
    "plt.plot(los_x_s,t_s)"
   ]
  },
  {
   "cell_type": "code",
   "execution_count": 17,
   "id": "molecular-inspiration",
   "metadata": {},
   "outputs": [],
   "source": [
    "#inter = interp1d(te,log10G,kind='linear', bounds_error=False, fill_value=-1e6)#fill outide vals with large, small number\n",
    "inter = interp1d(te,gT,kind='linear', bounds_error=False) #fill outide vals with large, small number\n",
    "temp2 = 1e6*T\n",
    "gg = inter(temp2)\n",
    "gg=np.nan_to_num(gg) # idk why they come out nan, but we do it anyway"
   ]
  },
  {
   "cell_type": "code",
   "execution_count": 18,
   "id": "superb-plenty",
   "metadata": {},
   "outputs": [
    {
     "data": {
      "text/plain": [
       "(2.0722007967489575, 3.0722007967489575)"
      ]
     },
     "execution_count": 18,
     "metadata": {},
     "output_type": "execute_result"
    },
    {
     "data": {
      "image/png": "[encoded data removed]",
      "text/plain": [
       "<Figure size 720x720 with 4 Axes>"
      ]
     },
     "metadata": {
      "needs_background": "light"
     },
     "output_type": "display_data"
    }
   ],
   "source": [
    "fig, axs = plt.subplots(4,figsize=[10,10])\n",
    "axs[0].plot(x,v*1e3,'o')\n",
    "axs[0].set_ylim(-5,50)\n",
    "axs[1].plot(x, ne,'o')\n",
    "axs[1].set_yscale('log')\n",
    "axs[2].plot(x,T*1e6,'o')\n",
    "axs[2].set_yscale('log')\n",
    "axs[3].plot(x,gg)\n",
    "axs[3].plot(x,gg,'o')\n",
    "\n",
    "axs[0].set_xlim(xl,xr)\n",
    "axs[1].set_xlim(xl,xr)\n",
    "axs[2].set_xlim(xl,xr)\n",
    "axs[3].set_xlim(xl,xr)"
   ]
  },
  {
   "cell_type": "code",
   "execution_count": 19,
   "id": "thermal-onion",
   "metadata": {},
   "outputs": [
    {
     "name": "stderr",
     "output_type": "stream",
     "text": [
      "/opt/anaconda3/lib/python3.7/site-packages/ipykernel_launcher.py:2: RuntimeWarning: invalid value encountered in true_divide\n",
      "  \n"
     ]
    },
    {
     "data": {
      "text/plain": [
       "[<matplotlib.lines.Line2D at 0x7f85de7d5990>]"
      ]
     },
     "execution_count": 19,
     "metadata": {},
     "output_type": "execute_result"
    },
    {
     "data": {
      "image/png": "[encoded data removed]",
      "text/plain": [
       "<Figure size 432x288 with 1 Axes>"
      ]
     },
     "metadata": {
      "needs_background": "light"
     },
     "output_type": "display_data"
    }
   ],
   "source": [
    "# factor to multiply GofT by to get actual emission given NEI\n",
    "factor = nei/eqi\n",
    "np.nan_to_num(factor, copy=False, nan=1); # replace inf values with 1 (due to zeros in eqi)\n",
    "factor[factor>1e10]=1.0\n",
    "plt.plot(x,factor)\n",
    "#plt.plot(los_x,temp_fac)"
   ]
  },
  {
   "cell_type": "code",
   "execution_count": 20,
   "id": "dominican-adoption",
   "metadata": {},
   "outputs": [
    {
     "data": {
      "text/plain": [
       "(2.0722007967489575, 3.0722007967489575)"
      ]
     },
     "execution_count": 20,
     "metadata": {},
     "output_type": "execute_result"
    },
    {
     "data": {
      "image/png": "[encoded data removed]",
      "text/plain": [
       "<Figure size 720x360 with 1 Axes>"
      ]
     },
     "metadata": {
      "needs_background": "light"
     },
     "output_type": "display_data"
    }
   ],
   "source": [
    "fig, axs = plt.subplots(figsize=[10,5])\n",
    "axs.plot(x,gg,'o')\n",
    "axs.plot(x,factor*gg,'o')\n",
    "axs.set_xlim(xl,xr)"
   ]
  },
  {
   "cell_type": "code",
   "execution_count": 21,
   "id": "qualified-harvey",
   "metadata": {},
   "outputs": [],
   "source": [
    "# process to create volume given per flux (per Maxwell)\n",
    "A_pixel = 0.029*1e16 # cm^2 -  pixel area: 0.33 x 0.167 arcsec (as seen on sun..)\n",
    "volume = Dl*A_pixel*1e8\n",
    "EM=volume*(ne**2) #calcualte emission measure EM"
   ]
  },
  {
   "cell_type": "code",
   "execution_count": 22,
   "id": "flush-sodium",
   "metadata": {},
   "outputs": [
    {
     "data": {
      "text/plain": [
       "(0.0, 0.035)"
      ]
     },
     "execution_count": 22,
     "metadata": {},
     "output_type": "execute_result"
    },
    {
     "data": {
      "image/png": "[encoded data removed]",
      "text/plain": [
       "<Figure size 432x288 with 1 Axes>"
      ]
     },
     "metadata": {
      "needs_background": "light"
     },
     "output_type": "display_data"
    }
   ],
   "source": [
    "plt.plot(x,Dl,'o')\n",
    "plt.plot(los_x_s,dl_e_s)\n",
    "plt.xlim(xl,xr)\n",
    "plt.ylim(0,0.0009)\n",
    "plt.ylim(0,0.035)"
   ]
  },
  {
   "cell_type": "code",
   "execution_count": 23,
   "id": "material-marker",
   "metadata": {},
   "outputs": [
    {
     "data": {
      "text/plain": [
       "(2.0722007967489575, 3.0722007967489575)"
      ]
     },
     "execution_count": 23,
     "metadata": {},
     "output_type": "execute_result"
    },
    {
     "data": {
      "image/png": "[encoded data removed]",
      "text/plain": [
       "<Figure size 1296x504 with 1 Axes>"
      ]
     },
     "metadata": {
      "needs_background": "light"
     },
     "output_type": "display_data"
    }
   ],
   "source": [
    "plt.figure(figsize=(18,7))\n",
    "\n",
    "# t0\n",
    "n_e0 = tube.tarr.epamu[0]*tube.tarr.rho[0]/1.67e-8 # number density\n",
    "dl_e0 = tube.tarr.dl_e[0]\n",
    "vol_0 = dl_e0*A_pixel*1e8\n",
    "\n",
    "n_e_s0=n_e0[i_min:i_max]\n",
    "dl_e_s0=dl_e0[i_min:i_max]\n",
    "vol_s0 = dl_e0*A_pixel*1e8\n",
    "\n",
    "EMII0=vol_0*n_e0**2\n",
    "\n",
    "\n",
    "#plt.plot(los_x,EMII0)\n",
    "plt.plot(x,em,'o')\n",
    "plt.plot(los_x_s,EM_s)\n",
    "plt.xlim(xl,xr)\n",
    "#plt.plot(x,(factor*gg)/np.max(factor*gg))\n",
    "#plt.ylim(1e40,1e46)"
   ]
  },
  {
   "cell_type": "code",
   "execution_count": 24,
   "id": "f131e2e4",
   "metadata": {},
   "outputs": [
    {
     "data": {
      "text/plain": [
       "(0.0, 2.0)"
      ]
     },
     "execution_count": 24,
     "metadata": {},
     "output_type": "execute_result"
    },
    {
     "data": {
      "image/png": "[encoded data removed]",
      "text/plain": [
       "<Figure size 432x288 with 1 Axes>"
      ]
     },
     "metadata": {
      "needs_background": "light"
     },
     "output_type": "display_data"
    }
   ],
   "source": [
    "plt.plot(los_x,EMII0)\n",
    "#plt.semilogy(x,em,'o')\n",
    "#plt.semilogy(los_x_s,EM_s)\n",
    "#plt.xlim(xl,xr)\n",
    "#plt.plot(x,(factor*gg)/np.max(factor*gg))\n",
    "#plt.ylim(1e40,1e46)\n",
    "plt.xlim(0,2)"
   ]
  },
  {
   "cell_type": "code",
   "execution_count": 25,
   "id": "dangerous-overhead",
   "metadata": {},
   "outputs": [],
   "source": [
    "# calculate prefactor to turn intensity into counts\n",
    "photo_erg = h*c/line_cgs #erg/photon\n",
    "pixel_size = 12.8e-3 # in ˚A [12.8 m˚A (FUV), 25.6 m˚A (NUV)]\n",
    "dim = 19e-2\n",
    "A_iris = 2.2e-4 # effective area FUV\n",
    "au = 1.49e11\n",
    "atn = A_iris/au**2\n",
    "exp_time = 4.0 # double checked, this is more or less right (3.999, or whatever.)\n",
    "photo_fac = pixel_size*atn*exp_time/photo_erg # converts EM*g/sig (erg/s/sr/˚A) -> photon count"
   ]
  },
  {
   "cell_type": "code",
   "execution_count": 26,
   "id": "incredible-evans",
   "metadata": {},
   "outputs": [
    {
     "data": {
      "text/plain": [
       "3.580381463610463e-17"
      ]
     },
     "execution_count": 26,
     "metadata": {},
     "output_type": "execute_result"
    }
   ],
   "source": [
    "photo_fac"
   ]
  },
  {
   "cell_type": "code",
   "execution_count": 27,
   "id": "lightweight-insight",
   "metadata": {},
   "outputs": [],
   "source": [
    "# determine line broadening given combination of thermal, non-thermal, and instrumental broadenings\n",
    "freq = c/line_cgs\n",
    "v_inst = 3.9 # instrumental broadening (km/s)\n",
    "sig_inst = v_inst/freq # km\n",
    "v_nt = 20.0 # non-thermal broadening (km/s) [De Pontieu et al, 2015]\n",
    "sig_nt = v_nt/freq # km\n",
    "sig_th = line_cgs*np.sqrt(kb*T/mass)/c # thermal broadening (in cm)\n",
    "sig_th = sig_th*1e-5 # km\n",
    "sig = np.sqrt(sig_th**2+sig_nt**2+sig_inst**2) # total broadening km\n",
    "\n",
    "#sig = np.sqrt(sig_th**2+sig_inst**2)\n",
    "sig = sig*1e13 # angstrom\n",
    "\n",
    "sigma=line*np.sqrt(2*k*1e6*T/M)/(c2*1e6)"
   ]
  },
  {
   "cell_type": "code",
   "execution_count": 28,
   "id": "regulation-sleeve",
   "metadata": {},
   "outputs": [],
   "source": [
    "vcm = v*1e8 # vel in cm (to match c in expotential of intensity)\n",
    "crv = np.sqrt(2*np.pi)*sig"
   ]
  },
  {
   "cell_type": "code",
   "execution_count": 29,
   "id": "informed-prevention",
   "metadata": {},
   "outputs": [],
   "source": [
    "# create emission array(s) for each fluid element\n",
    "nn=len(em)\n",
    "emissNEI = np.empty([nn,len(ll)])\n",
    "emiss = np.empty([nn,len(ll)])\n",
    "emission = np.empty([nn,len(ll)])\n",
    "for i in range(nn):\n",
    "    emissNEI[i,:] = photo_fac*em[i]*factor[i]*gg[i]/crv[i]*np.exp(-(ll-line-line*(vcm[i]/c))**2/(2*sig[i]**2))\n",
    "    emiss[i,:] = photo_fac*em[i]*gg[i]/crv[i]*np.exp(-(ll-line-line*(vcm[i]/c))**2/(2*sig[i]**2))\n",
    "    \n",
    "    emission[i,:]=em[i]*gg[i]/(np.sqrt(2*np.pi)*sigma[i])*np.exp(-(ll-line-line*v[i]/c2)**2/(2*sigma[i]**2)) # taken from jon, should be old?\n",
    "\n",
    "# add together all emissions along loop\n",
    "tot_emissNEI = np.sum(emissNEI,axis=0)\n",
    "tot_emiss = np.sum(emiss,axis=0)\n",
    "tot_emission = np.sum(emission,axis=0)"
   ]
  },
  {
   "cell_type": "code",
   "execution_count": 30,
   "id": "9676a673",
   "metadata": {},
   "outputs": [
    {
     "data": {
      "text/plain": [
       "array([ 992,  993,  994,  995,  996,  997,  998,  999, 1000, 1001, 1002,\n",
       "       1003, 1004, 1005, 1006, 1007, 1008, 1009, 1010, 1011, 1012, 1013,\n",
       "       1014, 1015, 1016, 1017, 1018, 1019, 1020, 1021, 1022, 1023])"
      ]
     },
     "execution_count": 30,
     "metadata": {},
     "output_type": "execute_result"
    }
   ],
   "source": [
    "itser = np.where(factor*gg !=0)[0]\n",
    "itser"
   ]
  },
  {
   "cell_type": "code",
   "execution_count": 31,
   "id": "b783e204",
   "metadata": {},
   "outputs": [
    {
     "data": {
      "text/plain": [
       "array([5.17374685e-29, 3.89652337e-27, 5.12704342e-26, 2.93092764e-25,\n",
       "       9.97359578e-25, 2.25487433e-24, 3.17711422e-24, 2.98365748e-24,\n",
       "       2.17945546e-24, 4.24177156e-25, 1.60120761e-25, 9.58118944e-26,\n",
       "       7.05521137e-26, 5.30488850e-26, 3.73881874e-26, 2.42980824e-26,\n",
       "       1.47637615e-26, 8.57108626e-27, 7.32616663e-27, 5.08568720e-27,\n",
       "       3.53410502e-27, 2.45736739e-27, 1.71081652e-27, 1.19653882e-27,\n",
       "       8.38257155e-28, 5.94261439e-28, 4.31681589e-28, 3.30626752e-28,\n",
       "       4.18705125e-28, 3.07433998e-28, 2.25474287e-28, 1.65323285e-28])"
      ]
     },
     "execution_count": 31,
     "metadata": {},
     "output_type": "execute_result"
    }
   ],
   "source": [
    "factor[itser]*gg[itser]"
   ]
  },
  {
   "cell_type": "code",
   "execution_count": 32,
   "id": "afd1f5a1",
   "metadata": {},
   "outputs": [
    {
     "data": {
      "text/plain": [
       "(2.0722007967489575, 3.0722007967489575)"
      ]
     },
     "execution_count": 32,
     "metadata": {},
     "output_type": "execute_result"
    },
    {
     "data": {
      "image/png": "[encoded data removed]",
      "text/plain": [
       "<Figure size 1008x360 with 1 Axes>"
      ]
     },
     "metadata": {
      "needs_background": "light"
     },
     "output_type": "display_data"
    }
   ],
   "source": [
    "plt.figure(figsize=(14,5))\n",
    "plt.plot(x[itser],em[itser])\n",
    "plt.plot(x[itser],EM[itser],'o')\n",
    "#plt.plot(x,EM/np.max(EM))\n",
    "#plt.plot(x,(factor*gg)/np.max(factor*gg))\n",
    "plt.xlim(xl,xr)"
   ]
  },
  {
   "cell_type": "code",
   "execution_count": 33,
   "id": "4aa36272",
   "metadata": {},
   "outputs": [],
   "source": [
    "i = 995"
   ]
  },
  {
   "cell_type": "code",
   "execution_count": 34,
   "id": "10eac308",
   "metadata": {},
   "outputs": [
    {
     "data": {
      "text/plain": [
       "(5.747683427782557e+43,\n",
       " 7.584551473601811e-26,\n",
       " 0.2388344400971839,\n",
       " 3.8643387800823423)"
      ]
     },
     "execution_count": 34,
     "metadata": {},
     "output_type": "execute_result"
    }
   ],
   "source": [
    "em[i],gg[i],crv[i],factor[i]"
   ]
  },
  {
   "cell_type": "code",
   "execution_count": 35,
   "id": "675591bb",
   "metadata": {},
   "outputs": [
    {
     "data": {
      "text/plain": [
       "2525.4006260223573"
      ]
     },
     "execution_count": 35,
     "metadata": {},
     "output_type": "execute_result"
    }
   ],
   "source": [
    "em[i]*factor[i]*gg[i]*photo_fac/crv[i]"
   ]
  },
  {
   "cell_type": "code",
   "execution_count": 36,
   "id": "284bac85",
   "metadata": {},
   "outputs": [],
   "source": [
    "#em[itser],volume[itser],ne[itser]"
   ]
  },
  {
   "cell_type": "code",
   "execution_count": 37,
   "id": "47702f22",
   "metadata": {},
   "outputs": [
    {
     "data": {
      "text/plain": [
       "[<matplotlib.lines.Line2D at 0x7f85df9c0590>]"
      ]
     },
     "execution_count": 37,
     "metadata": {},
     "output_type": "execute_result"
    },
    {
     "data": {
      "image/png": "[encoded data removed]",
      "text/plain": [
       "<Figure size 432x288 with 1 Axes>"
      ]
     },
     "metadata": {
      "needs_background": "light"
     },
     "output_type": "display_data"
    }
   ],
   "source": [
    "#plt.plot(np.exp(-(ll-line-line*(vcm[i]/c))**2/(2*sig[i]**2)))\n",
    "plt.plot(photo_fac*em[i]*factor[i]*gg[i]/crv[i]*np.exp(-(ll-line-line*(vcm[i]/c))**2/(2*sig[i]**2)),'o')\n",
    "plt.plot(emissNEI[i])"
   ]
  },
  {
   "cell_type": "code",
   "execution_count": 38,
   "id": "adjusted-mandate",
   "metadata": {},
   "outputs": [
    {
     "data": {
      "text/plain": [
       "(1402.0, 1404.0)"
      ]
     },
     "execution_count": 38,
     "metadata": {},
     "output_type": "execute_result"
    },
    {
     "data": {
      "image/png": "[encoded data removed]",
      "text/plain": [
       "<Figure size 1008x432 with 1 Axes>"
      ]
     },
     "metadata": {
      "needs_background": "light"
     },
     "output_type": "display_data"
    }
   ],
   "source": [
    "plt.figure(figsize=(14,6))\n",
    "plt.plot(ll,tot_emissNEI/4.)\n",
    "plt.plot(ll,tot_emiss/4.)\n",
    "plt.xlim(1402,1404)"
   ]
  },
  {
   "cell_type": "code",
   "execution_count": 41,
   "id": "867a10d5",
   "metadata": {},
   "outputs": [
    {
     "data": {
      "text/plain": [
       "11808.500673484452"
      ]
     },
     "execution_count": 41,
     "metadata": {},
     "output_type": "execute_result"
    }
   ],
   "source": [
    "np.max(tot_emissNEI/4.)"
   ]
  },
  {
   "cell_type": "code",
   "execution_count": 39,
   "id": "significant-botswana",
   "metadata": {},
   "outputs": [
    {
     "data": {
      "text/plain": [
       "[<matplotlib.lines.Line2D at 0x7f85df3a2f10>]"
      ]
     },
     "execution_count": 39,
     "metadata": {},
     "output_type": "execute_result"
    },
    {
     "data": {
      "image/png": "[encoded data removed]",
      "text/plain": [
       "<Figure size 720x360 with 1 Axes>"
      ]
     },
     "metadata": {
      "needs_background": "light"
     },
     "output_type": "display_data"
    }
   ],
   "source": [
    "fig, axs = plt.subplots(figsize=[10,5])\n",
    "axs.semilogy(x*1e3,gg,'o')\n",
    "axs.semilogy(x*1e3,factor*gg,'o')\n",
    "#axs.set_xlim(2500,2700)"
   ]
  },
  {
   "cell_type": "code",
   "execution_count": 40,
   "id": "incomplete-supplement",
   "metadata": {},
   "outputs": [
    {
     "data": {
      "text/plain": [
       "(0.0, 1.0)"
      ]
     },
     "execution_count": 40,
     "metadata": {},
     "output_type": "execute_result"
    },
    {
     "data": {
      "image/png": "[encoded data removed]",
      "text/plain": [
       "<Figure size 720x360 with 1 Axes>"
      ]
     },
     "metadata": {
      "needs_background": "light"
     },
     "output_type": "display_data"
    }
   ],
   "source": [
    "fig, axs = plt.subplots(figsize=[10,5])\n",
    "axs.plot(T,gg,'o')\n",
    "axs.plot(T,factor*gg,'o')\n",
    "axs.set_xlim(0,1)"
   ]
  },
  {
   "cell_type": "code",
   "execution_count": null,
   "id": "8549e64e",
   "metadata": {},
   "outputs": [],
   "source": []
  }
 ],
 "metadata": {
  "kernelspec": {
   "display_name": "Python 3",
   "language": "python",
   "name": "python3"
  },
  "language_info": {
   "codemirror_mode": {
    "name": "ipython",
    "version": 3
   },
   "file_extension": ".py",
   "mimetype": "text/x-python",
   "name": "python",
   "nbconvert_exporter": "python",
   "pygments_lexer": "ipython3",
   "version": "3.7.10"
  }
 },
 "nbformat": 4,
 "nbformat_minor": 5
}
