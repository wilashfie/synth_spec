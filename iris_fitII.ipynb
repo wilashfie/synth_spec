{
 "cells": [
  {
   "cell_type": "code",
   "execution_count": 1,
   "metadata": {},
   "outputs": [],
   "source": [
    "import numpy as np\n",
    "import matplotlib.pyplot as plt\n",
    "from matplotlib import gridspec\n",
    "from astropy.io import fits\n",
    "\n",
    "from create_spec import create_spec\n",
    "from fit2gauss import fit2gauss\n",
    "\n",
    "import iris_lmsalpy.extract_irisL2data as extract_irisL2data"
   ]
  },
  {
   "cell_type": "code",
   "execution_count": 2,
   "metadata": {},
   "outputs": [],
   "source": [
    "path = '/Users/WilliamHenryAshfieldIV/dat/iris/'\n",
    "filename = 'iris_l2_20141025_145828_3880106953_raster_t000_r00000.fits'\n",
    "fn = path+filename"
   ]
  },
  {
   "cell_type": "code",
   "execution_count": 3,
   "metadata": {},
   "outputs": [
    {
     "name": "stdout",
     "output_type": "stream",
     "text": [
      "\n",
      "Extracting information from file /Users/WilliamHenryAshfieldIV/dat/iris/iris_l2_20141025_145828_3880106953_raster_t000_r00000.fits... \n",
      "\n",
      "Available data with size Y x X x Wavelength are stored in windows labeled as:\n",
      "\n",
      "--------------------------------------------------------------------\n",
      "Index --- Window label --- Y x X x WL --- Spectral range [AA] (band)\n",
      "--------------------------------------------------------------------\n",
      "  0 \t C II 1336    \t   387x2040x1027 \t   1331.69 - 1358.32  (FUV)\n",
      "  1 \t Si IV 1394   \t   387x2040x1020 \t   1380.77 - 1406.70  (FUV)\n",
      "  2 \t Mg II k 2796 \t   387x2040x1015 \t   2783.32 - 2834.96  (NUV)\n",
      "--------------------------------------------------------------------\n",
      "\n",
      "Observation description:  Large sit-and-stare 0.3x120 1s  C II   Mg II h/k   Mg II w Deep x 4\n",
      "\n"
     ]
    }
   ],
   "source": [
    "lines = extract_irisL2data.show_lines(fn)"
   ]
  },
  {
   "cell_type": "code",
   "execution_count": 12,
   "metadata": {},
   "outputs": [
    {
     "name": "stdout",
     "output_type": "stream",
     "text": [
      "Creating temporary file...  /var/folders/lf/4l7pf4f52w38g5ccj8tvbn680000gn/T/tmpzpr51tr2\n"
     ]
    }
   ],
   "source": [
    "rast = extract_irisL2data.raster(fn,window_info = ['Si IV 1394'])"
   ]
  },
  {
   "cell_type": "code",
   "execution_count": 16,
   "metadata": {},
   "outputs": [
    {
     "data": {
      "text/plain": [
       "['C II 1336', 'Si IV 1394', 'Mg II k 2796']"
      ]
     },
     "execution_count": 16,
     "metadata": {},
     "output_type": "execute_result"
    }
   ],
   "source": [
    "rast.all_windows_in_file"
   ]
  },
  {
   "cell_type": "code",
   "execution_count": 53,
   "metadata": {},
   "outputs": [
    {
     "data": {
      "text/plain": [
       "[<matplotlib.lines.Line2D at 0x7fcd6f256110>]"
      ]
     },
     "execution_count": 53,
     "metadata": {},
     "output_type": "execute_result"
    },
    {
     "data": {
      "image/png": "[encoded data removed]",
      "text/plain": [
       "<Figure size 432x288 with 1 Axes>"
      ]
     },
     "metadata": {
      "needs_background": "light"
     },
     "output_type": "display_data"
    }
   ],
   "source": [
    "data = rast.raster['Si IV 1394'].data\n",
    "wv = rast.raster['Si IV 1394'].wl\n",
    "\n",
    "plt.plot(wv,data[69,1400,:])"
   ]
  },
  {
   "cell_type": "code",
   "execution_count": 54,
   "metadata": {},
   "outputs": [],
   "source": [
    "dat = data[69,:,750:-20]\n",
    "wl = wv[750:-20]"
   ]
  },
  {
   "cell_type": "code",
   "execution_count": 62,
   "metadata": {},
   "outputs": [
    {
     "data": {
      "text/plain": [
       "[<matplotlib.lines.Line2D at 0x7fcd6e7aced0>]"
      ]
     },
     "execution_count": 62,
     "metadata": {},
     "output_type": "execute_result"
    },
    {
     "data": {
      "image/png": "[encoded data removed]",
      "text/plain": [
       "<Figure size 432x288 with 1 Axes>"
      ]
     },
     "metadata": {
      "needs_background": "light"
     },
     "output_type": "display_data"
    }
   ],
   "source": [
    "plt.plot(wl,dat[1426,:])"
   ]
  },
  {
   "cell_type": "code",
   "execution_count": 68,
   "metadata": {
    "collapsed": true
   },
   "outputs": [
    {
     "data": {
      "text/plain": [
       "SIMPLE  =                    T / Written by IDL:  Sat May 16 01:27:09 2020      \n",
       "BITPIX  =                   16 / Number of bits per data pixel                  \n",
       "NAXIS   =                    0 / Number of data axes                            \n",
       "EXTEND  =                    T / FITS data may contain extensions               \n",
       "DATE    = '2020-05-16'         / Creation UTC (CCCC-MM-DD) date of FITS header  \n",
       "COMMENT FITS (Flexible Image Transport System) format is defined in 'Astronomy  \n",
       "COMMENT and Astrophysics', volume 376, page 359; bibcode 2001A&A...376..359H    \n",
       "TELESCOP= 'IRIS    '           /                                                \n",
       "INSTRUME= 'SPEC    '           /                                                \n",
       "DATA_LEV=              2.00000 /                                                \n",
       "LVL_NUM =              2.00000 /                                                \n",
       "VER_RF2 = 'L12-2019-08-08'     /                                                \n",
       "DATE_RF2= '2020-05-16T03:17:40.929' /                                           \n",
       "DATA_SRC=              1.50993 /                                                \n",
       "ORIGIN  = 'SDO     '           /                                                \n",
       "BLD_VERS= 'V8R6X   '           /                                                \n",
       "LUTID   =              4.00000 /                                                \n",
       "OBSID   = '3880106953'         /                                                \n",
       "OBS_DESC= 'Large sit-and-stare 0.3x120 1s  C II   Mg II h/k   Mg II w Deep x 4 '\n",
       "OBSLABEL= '        '           /                                                \n",
       "OBSTITLE= '        '           /                                                \n",
       "DATE_OBS= '2014-10-25T14:58:28.730' /                                           \n",
       "DATE_END= '2014-10-25T18:00:47.330' /                                           \n",
       "STARTOBS= '2014-10-25T14:58:28.560' /                                           \n",
       "ENDOBS  = '2014-10-25T18:00:52.640' /                                           \n",
       "OBSREP  =                  680 /                                                \n",
       "CAMERA  =                    1 /                                                \n",
       "STATUS  = 'Quicklook'          /                                                \n",
       "BTYPE   = 'Intensity'          /                                                \n",
       "BUNIT   = 'Corrected DN'       /                                                \n",
       "BSCALE  =                 0.25 /                                                \n",
       "BZERO   =                 7992 /                                                \n",
       "HLZ     =                    0 /                                                \n",
       "SAA     = '           0'       /                                                \n",
       "SAT_ROT =              90.0000 /                                                \n",
       "AECNOBS =                  496 /                                                \n",
       "AECNRAS =                    0 /                                                \n",
       "DSUN_OBS=          1.48751E+11 /                                                \n",
       "IAECEVFL= 'NO      '           /                                                \n",
       "IAECFLAG= 'YES     '           /                                                \n",
       "IAECFLFL= 'YES     '           /                                                \n",
       "TR_MODE = '        '           /                                                \n",
       "FOVY    =              128.755 /                                                \n",
       "FOVX    =             0.332700 /                                                \n",
       "XCEN    =              408.573 /                                                \n",
       "YCEN    =             -318.670 /                                                \n",
       "SUMSPTRL=                    0 /                                                \n",
       "SUMSPTRN=                    2 /                                                \n",
       "SUMSPTRF=                    2 /                                                \n",
       "SUMSPAT =                    2 /                                                \n",
       "EXPTIME =              3.99924 /                                                \n",
       "EXPMIN  =              3.99932 /                                                \n",
       "EXPMAX  =              3.99952 /                                                \n",
       "DATAMEAN=              87.4068 /                                                \n",
       "DATARMS =              249.231 /                                                \n",
       "DATAMEDN=              2.69830 /                                                \n",
       "DATAMIN =             -2462.03 /                                                \n",
       "DATAMAX =              23999.9 /                                                \n",
       "DATAVALS=           2199918358 /                                                \n",
       "MISSVALS=            217469402 /                                                \n",
       "NSATPIX =                    0 /                                                \n",
       "NSPIKES =                    0 /                                                \n",
       "TOTVALS =           2417387760 /                                                \n",
       "PERCENTD=              91.0040 /                                                \n",
       "DATASKEW=              15.5800 /                                                \n",
       "DATAKURT=              747.953 /                                                \n",
       "DATAP01 =             -5.58526 /                                                \n",
       "DATAP10 =             -2.37586 /                                                \n",
       "DATAP25 =            -0.335209 /                                                \n",
       "DATAP75 =              73.5754 /                                                \n",
       "DATAP90 =              295.446 /                                                \n",
       "DATAP95 =              482.770 /                                                \n",
       "DATAP98 =              712.072 /                                                \n",
       "DATAP99 =              884.337 /                                                \n",
       "NEXP_PRP=                 2040 /                                                \n",
       "NEXP    =                 2040 /                                                \n",
       "NEXPOBS =                 6120 /                                                \n",
       "NRASTERP=                    1 /                                                \n",
       "RASTYPDX=                    1 /                                                \n",
       "RASTYPNX=                    1 /                                                \n",
       "RASRPT  =                    1 /                                                \n",
       "RASNRPT =                    1 /                                                \n",
       "STEPS_AV=        0.00000000000 /                                                \n",
       "STEPS_DV=        0.00000000000 /                                                \n",
       "STEPT_AV=              5.36472 /                                                \n",
       "STEPT_DV=            0.0957076 /                                                \n",
       "CADPL_AV=              5.36706 /                                                \n",
       "CADPL_DV=            0.0904774 /                                                \n",
       "CADEX_AV=              5.36472 /                                                \n",
       "CADEX_DV=            0.0956960 /                                                \n",
       "MISSOBS =                   11 /                                                \n",
       "MISSRAS =                    7 /                                                \n",
       "IPRPVER =        2.30999994278 /                                                \n",
       "IPRPPDBV=        10.0000000000 /                                                \n",
       "IPRPDVER=             20130925 /                                                \n",
       "IPRPBVER=             20141027 /                                                \n",
       "NWIN    =                    3 /                                                \n",
       "TDET1   = 'FUV1    '           /                                                \n",
       "TDESC1  = 'C II 1336'          /                                                \n",
       "TWAVE1  =        1335.70996094 /                                                \n",
       "TWMIN1  =        1331.68977015 /                                                \n",
       "TWMAX1  =        1358.32473039 /                                                \n",
       "TDMEAN1 =              9.71844 /                                                \n",
       "TDRMS1  =              161.795 /                                                \n",
       "TDMEDN1 =             0.640638 /                                                \n",
       "TDMIN1  =             -2462.03 /                                                \n",
       "TDMAX1  =              23063.0 /                                                \n",
       "TDVALS1 =            740448328 /                                                \n",
       "TMISSV1 =             70347632 /                                                \n",
       "TSATPX1 =                    0 /                                                \n",
       "TSPIKE1 =                    0 /                                                \n",
       "TTOTV1  =            810795960 /                                                \n",
       "TPCTD1  =              91.3236 /                                                \n",
       "TDSKEW1 =              61.8878 /                                                \n",
       "TDKURT1 =              5572.52 /                                                \n",
       "TDP01_1 =             -5.97478 /                                                \n",
       "TDP10_1 =             -2.99380 /                                                \n",
       "TDP25_1 =             -1.28460 /                                                \n",
       "TDP75_1 =              2.71150 /                                                \n",
       "TDP90_1 =              5.27210 /                                                \n",
       "TDP95_1 =              9.34064 /                                                \n",
       "TDP98_1 =              53.6379 /                                                \n",
       "TDP99_1 =              136.283 /                                                \n",
       "TSR1    =                   79 /                                                \n",
       "TER1    =                  465 /                                                \n",
       "TSC1    =                    1 /                                                \n",
       "TEC1    =                 1027 /                                                \n",
       "IPRPFV1 =               100101 /                                                \n",
       "IPRPGV1 =                   17 /                                                \n",
       "IPRPPV1 =                  100 /                                                \n",
       "TDET2   = 'FUV2    '           /                                                \n",
       "TDESC2  = 'Si IV 1394'         /                                                \n",
       "TWAVE2  =        1393.78002930 /                                                \n",
       "TWMIN2  =        1380.77206787 /                                                \n",
       "TWMAX2  =        1406.69542787 /                                                \n",
       "TDMEAN2 =              5.87159 /                                                \n",
       "TDRMS2  =              154.521 /                                                \n",
       "TDMEDN2 =             0.531651 /                                                \n",
       "TDMIN2  =             -2225.60 /                                                \n",
       "TDMAX2  =              23999.9 /                                                \n",
       "TDVALS2 =            729588700 /                                                \n",
       "TMISSV2 =             75680900 /                                                \n",
       "TSATPX2 =                    0 /                                                \n",
       "TSPIKE2 =                    0 /                                                \n",
       "TTOTV2  =            805269600 /                                                \n",
       "TPCTD2  =              90.6018 /                                                \n",
       "TDSKEW2 =              95.2891 /                                                \n",
       "TDKURT2 =              14045.9 /                                                \n",
       "TDP01_2 =             -6.07742 /                                                \n",
       "TDP10_2 =             -3.13177 /                                                \n",
       "TDP25_2 =             -1.41399 /                                                \n",
       "TDP75_2 =              2.71658 /                                                \n",
       "TDP90_2 =              5.36891 /                                                \n",
       "TDP95_2 =              8.55777 /                                                \n",
       "TDP98_2 =              24.9891 /                                                \n",
       "TDP99_2 =              70.0167 /                                                \n",
       "TSR2    =                   79 /                                                \n",
       "TER2    =                  465 /                                                \n",
       "TSC2    =                 1041 /                                                \n",
       "TEC2    =                 2060 /                                                \n",
       "IPRPFV2 =               100101 /                                                \n",
       "IPRPGV2 =                   17 /                                                \n",
       "IPRPPV2 =                  100 /                                                \n",
       "TDET3   = 'NUV     '           /                                                \n",
       "TDESC3  = 'Mg II k 2796'       /                                                \n",
       "TWAVE3  =        2796.19995117 /                                                \n",
       "TWMIN3  =        2783.32229697 /                                                \n",
       "TWMAX3  =        2834.95517538 /                                                \n",
       "TDMEAN3 =              247.722 /                                                \n",
       "TDRMS3  =              313.575 /                                                \n",
       "TDMEDN3 =              157.503 /                                                \n",
       "TDMIN3  =             -1357.86 /                                                \n",
       "TDMAX3  =              23674.2 /                                                \n",
       "TDVALS3 =            729881330 /                                                \n",
       "TMISSV3 =             71440870 /                                                \n",
       "TSATPX3 =                    0 /                                                \n",
       "TSPIKE3 =                    0 /                                                \n",
       "TTOTV3  =            801322200 /                                                \n",
       "TPCTD3  =              91.0846 /                                                \n",
       "TDSKEW3 =              5.87263 /                                                \n",
       "TDKURT3 =              71.5346 /                                                \n",
       "TDP01_3 =              3.49342 /                                                \n",
       "TDP10_3 =              8.26328 /                                                \n",
       "TDP25_3 =              63.0166 /                                                \n",
       "TDP75_3 =              335.062 /                                                \n",
       "TDP90_3 =              578.511 /                                                \n",
       "TDP95_3 =              738.956 /                                                \n",
       "TDP98_3 =              957.182 /                                                \n",
       "TDP99_3 =              1280.12 /                                                \n",
       "TSR3    =                   79 /                                                \n",
       "TER3    =                  465 /                                                \n",
       "TSC3    =                   13 /                                                \n",
       "TEC3    =                 1027 /                                                \n",
       "IPRPFV3 =               102109 /                                                \n",
       "IPRPGV3 =                   16 /                                                \n",
       "IPRPPV3 =                  102 /                                                \n",
       "KEYWDDOC= 'http://www.lmsal.com/iris_science/irisfitskeywords.pdf' /            \n",
       "HISTORY iris_prep  Set 1 saturated pixels to Inf                                \n",
       "HISTORY iris_prep  Dark v20130925; T=[-62.0,-62.0,-61.9,-62.3,1.1,0.7,0.5,0.7,1.\n",
       "HISTORY iris_prep  FUV background subtracted                                    \n",
       "HISTORY iris_prep  Flat fielded with recnum  100101                             \n",
       "HISTORY iris_prep  Set permanently bad pixels to 0 prior to warping             \n",
       "HISTORY iris_prep_geowave_roi  ran with rec_num 17 (FUVS), 18 (FUVL)            \n",
       "HISTORY iris_prep_geowave_roi  boxwarp set to 1                                 \n",
       "HISTORY iris_prep_geowave_roi  updated WCS parameters with iris_isp2wcs         \n",
       "HISTORY iris_prep  Used iris_mk_pointdb ver 10                                  \n",
       "HISTORY iris_prep         O I line wavelength shift [pix]:     -3.99            \n",
       "HISTORY iris_prep    FUVS Fiducial midpoint Y shift [pix]:      7.29            \n",
       "HISTORY iris_prep  Pointing corr. w/AIA correl (solar x,y):     0.34     0.02   \n",
       "HISTORY iris_prep         O I line wavelength shift [pix]:     -3.99            \n",
       "HISTORY iris_prep    FUVL Fiducial midpoint Y shift [pix]:      7.24            \n",
       "HISTORY iris_prep  Used INF_POLY_2D for warping                                 \n",
       "HISTORY iris_prep VERSION:  2.31                                                \n",
       "HISTORY iris_prep   ran on 20200516_055848                                      \n",
       "HISTORY level2  Version L12-2019-08-08                                          "
      ]
     },
     "execution_count": 68,
     "metadata": {},
     "output_type": "execute_result"
    }
   ],
   "source": [
    "extract_irisL2data.only_header(fn)"
   ]
  },
  {
   "cell_type": "code",
   "execution_count": 72,
   "metadata": {},
   "outputs": [
    {
     "data": {
      "text/plain": [
       "dict_keys(['data', 'wl', 'date_in_filename', 'iris_obs_code', 'raster_info', 'DATE_OBS', 'DATE_END', 'TDET', 'TDESCT', 'TWAVE', 'TWMIN', 'TWMAX', 'SPCSCL', 'SPXSCL', 'SPYSCL', 'EXPTIME', 'STEPT_AV', 'POS_X', 'POS_Y', 'date_time_acq', 'date_time_acq_ok', 'number_ext', 'binxy', 'binwl', 'extent_arcsec_arcsec', 'extent_px_px', 'extent_px_arcsec', 'extent_time_px', 'extent_time_arcsec', 'extent_opt', 'extent_opt_coords', 'list_extent', 'list_extent_coords', 'temp_memmap_filename', 'temp_memmap_obj', '_raster__dim_data', 'extent_display', 'extent_display_coords', 'clip_ima', 'cmap', 'lim_yplot', 'delay', 'poi', '_raster__count_poi', '_raster__move_count_poi', '_raster__count_coords', 'xlim1', 'ylim1', 'xlim2', 'ylim2', 'xlim3', 'ylim3', 'arr_y_ax1', 'arr_x_ax1', 'arr_x_ax3', 'x_pos_ext', 'y_pos_ext', '_raster__z_pos_ori', 'z_pos_ext', 'set_IRIS', 'figsize', 'tight_layout', 'bottom', 'top', 'left', 'right', 'wspace', 'hspace', 'inc_XY', 'alt_inc_XY', 'inc_Z', 'alt_inc_Z', 'title_ax2'])"
      ]
     },
     "execution_count": 72,
     "metadata": {},
     "output_type": "execute_result"
    }
   ],
   "source": [
    "rast.raster['Si IV 1394'].keys()"
   ]
  },
  {
   "cell_type": "code",
   "execution_count": null,
   "metadata": {},
   "outputs": [],
   "source": []
  }
 ],
 "metadata": {
  "kernelspec": {
   "display_name": "Python 3",
   "language": "python",
   "name": "python3"
  },
  "language_info": {
   "codemirror_mode": {
    "name": "ipython",
    "version": 3
   },
   "file_extension": ".py",
   "mimetype": "text/x-python",
   "name": "python",
   "nbconvert_exporter": "python",
   "pygments_lexer": "ipython3",
   "version": "3.7.4"
  }
 },
 "nbformat": 4,
 "nbformat_minor": 2
}
