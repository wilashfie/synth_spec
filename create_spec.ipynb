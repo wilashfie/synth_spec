{
 "cells": [
  {
   "cell_type": "code",
   "execution_count": 1,
   "metadata": {},
   "outputs": [],
   "source": [
    "import numpy as np\n",
    "import matplotlib.pyplot as plt\n",
    "from scipy.io import readsav\n",
    "from scipy.interpolate import interp1d\n",
    "from scipy import optimize\n",
    "from scipy.optimize import curve_fit\n",
    "from scipy.signal import savgol_filter\n",
    "from matplotlib import gridspec"
   ]
  },
  {
   "cell_type": "code",
   "execution_count": 2,
   "metadata": {},
   "outputs": [],
   "source": [
    "# set inital values\n",
    "line = 1403.\n",
    "mass = 28.0*1.66054e-27\n",
    "kb = 1.3807e-23\n",
    "c = 300\n",
    "h = 6.62607e-27\n",
    "flux=1.0e3 #? why this val?\n",
    "ll = np.arange(line-10,line+10,0.01)"
   ]
  },
  {
   "cell_type": "code",
   "execution_count": 24,
   "metadata": {},
   "outputs": [],
   "source": [
    "tube = readsav('/Users/WilliamHenryAshfieldIV/dat/f4_t10_heat20.sav',verbose=False,python_dict=False)\n",
    "frac = readsav('/Users/WilliamHenryAshfieldIV/dat/f4_t10_heat20_si_iv_nei.sav',verbose=False,python_dict=False)\n",
    "\n",
    "#tube = readsav('/Users/WilliamHenryAshfieldIV/dat/f4_vis5_heat20.sav',verbose=False,python_dict=False)\n",
    "#frac = readsav('/Users/WilliamHenryAshfieldIV/dat/f4_vis5_heat20_si_iv_nei.sav',verbose=False,python_dict=False)\n",
    "log10T,log10G = np.loadtxt('/Users/WilliamHenryAshfieldIV/dat/goft_1403.dat.txt',comments='%',unpack=True)"
   ]
  },
  {
   "cell_type": "code",
   "execution_count": 25,
   "metadata": {},
   "outputs": [],
   "source": [
    "time = 75 # index = 0.1*time in seconds"
   ]
  },
  {
   "cell_type": "code",
   "execution_count": 26,
   "metadata": {},
   "outputs": [],
   "source": [
    "# define arrays from tube.tarr\n",
    "t = tube.tarr.t[time]\n",
    "n = tube.tarr.n[time]\n",
    "los_v = tube.tarr.v[time].T[0]\n",
    "sm_v = -los_v\n",
    "los_x = tube.tarr.x[time].T[0]\n",
    "n_e = tube.tarr.epamu[time]*tube.tarr.rho[time]/1.67e-8 # number density\n",
    "b = tube.tarr.b[time]\n",
    "dl_e = tube.tarr.dl_e[time]"
   ]
  },
  {
   "cell_type": "code",
   "execution_count": 6,
   "metadata": {},
   "outputs": [],
   "source": [
    "# interpolate our GofT data\n",
    "te = 10**log10T\n",
    "inter = interp1d(te,log10G,kind='cubic', bounds_error=False, fill_value=-10e6) #fill outide vals with large, small number\n",
    "temp = 1e6*tube.tarr.t[time]\n",
    "\n",
    "G = inter(temp)\n",
    "# set all log10G with low temp to large, small number (st 10^G~0)\n",
    "t_0 = tube.tarr.t[0]\n",
    "temp_0 = 1e6*np.round(t_0[0],4)\n",
    "G[temp<temp_0] = -10000"
   ]
  },
  {
   "cell_type": "code",
   "execution_count": 9,
   "metadata": {},
   "outputs": [],
   "source": [
    "# nei/eqi arrays at time =time\n",
    "f_nei=frac.arrs.f_nei[0]\n",
    "f_nei = f_nei[:,time]\n",
    "f_eqi=frac.arrs.f_eqi[0]\n",
    "f_eqi = f_eqi[:,time]"
   ]
  },
  {
   "cell_type": "code",
   "execution_count": 10,
   "metadata": {},
   "outputs": [
    {
     "name": "stderr",
     "output_type": "stream",
     "text": [
      "/opt/anaconda3/lib/python3.7/site-packages/ipykernel_launcher.py:1: RuntimeWarning: invalid value encountered in true_divide\n",
      "  \"\"\"Entry point for launching an IPython kernel.\n"
     ]
    }
   ],
   "source": [
    "temp_fac = f_nei/f_eqi\n",
    "np.nan_to_num(temp_fac, copy=False, nan=1); # replace inf values with 1 (due to zeros in eqi)\n",
    "i_half = int(n/2) #[0:i_half] = left half of tube\n",
    "test = f_nei[0:i_half]\n",
    "nei_jj = np.where(test > test[0])\n",
    "nei_jj=nei_jj[0]\n",
    "\n",
    "i_half = int(n/2) #[0:i_half] = left half of tube\n",
    "temp_fac = temp_fac[0:i_half]\n",
    "f_jj = np.where(temp_fac > temp_fac[0])\n",
    "f_jj=f_jj[0]\n",
    "\n",
    "if (len(f_jj) == 0): f_jj = nei_jj\n",
    "\n",
    "# interpolation arrays\n",
    "# define subregion\n",
    "i_min,i_max = f_jj[0]-30,f_jj[-1]+30 # left half of tube where nei is significant"
   ]
  },
  {
   "cell_type": "code",
   "execution_count": 11,
   "metadata": {},
   "outputs": [],
   "source": [
    "t_s = t[i_min:i_max]\n",
    "n_s = len(t_s)\n",
    "los_v_s = los_v[i_min:i_max]\n",
    "sm_v_s = sm_v[i_min:i_max]\n",
    "los_x_s = los_x[i_min:i_max]\n",
    "n_e_s = n_e[i_min:i_max]\n",
    "b_s = b[i_min:i_max]\n",
    "dl_e_s = dl_e[i_min:i_max]\n",
    "G_s = G[i_min:i_max]\n",
    "f_nei_s = f_nei[i_min:i_max]\n",
    "f_eqi_s = f_eqi[i_min:i_max]"
   ]
  },
  {
   "cell_type": "code",
   "execution_count": 12,
   "metadata": {},
   "outputs": [
    {
     "name": "stderr",
     "output_type": "stream",
     "text": [
      "/opt/anaconda3/lib/python3.7/site-packages/ipykernel_launcher.py:28: RuntimeWarning: invalid value encountered in true_divide\n"
     ]
    }
   ],
   "source": [
    "# interpolate\n",
    "N=10*n_s\n",
    "i_s = np.arange(0,n_s)\n",
    "ii = np.arange(0,10*(n_s-1))*0.1\n",
    "\n",
    "int_x = interp1d(i_s,los_x_s,kind='linear')#,fill_value=\"extrapolate\")\n",
    "int_v = interp1d(i_s,sm_v_s,kind='linear')\n",
    "int_t = interp1d(i_s,t_s,kind='linear')\n",
    "int_ne = interp1d(i_s,n_e_s,kind='linear')\n",
    "int_b = interp1d(i_s,b_s,kind='linear')\n",
    "int_dl_e = interp1d(i_s,dl_e_s,kind='linear')\n",
    "int_G = interp1d(i_s,G_s,kind='linear')\n",
    "int_fnei = interp1d(i_s,f_nei_s,kind='linear')\n",
    "int_feqi = interp1d(i_s,f_eqi_s,kind='linear')\n",
    "\n",
    "# new, interpolated arrays from tarr/tube\n",
    "x = int_x(ii)\n",
    "v = int_v(ii)\n",
    "T = int_t(ii)\n",
    "ne = int_ne(ii)\n",
    "B = int_b(ii)\n",
    "Dl = int_dl_e(ii)\n",
    "g = int_G(ii)\n",
    "nei = int_fnei(ii)\n",
    "eqi = int_feqi(ii)\n",
    "\n",
    "# factor to multiply GofT by to get actual emission given NEI\n",
    "factor = nei/eqi\n",
    "np.nan_to_num(factor, copy=False, nan=1); # replace inf values with 1 (due to zeros in eqi)"
   ]
  },
  {
   "cell_type": "code",
   "execution_count": 14,
   "metadata": {},
   "outputs": [],
   "source": [
    "# process to create volume given per flux (per Maxwell)\n",
    "rad=np.sqrt(flux/B/np.pi)\n",
    "b_e=0.5*( np.roll(B, -1) + B )\n",
    "A1=rad\n",
    "A2=np.roll(rad,-1)\n",
    "A2[(len(B))-1]=A2[len(B)-2]\n",
    "#volume=(1./3.)*Dl*(A1+A2+np.sqrt(A1*A2))*1e24\n",
    "A = flux/B # replace by area of pixel in Mm (~0.01 Mm^2)\n",
    "A_pixel = 0.029 # Mm^2 -  pixel area: 0.33 x 0.167 arcsec (as seen on sun..)\n",
    "\n",
    "volume = Dl*A_pixel*1e24\n",
    "#calcualte emission measure EM\n",
    "EM=volume*ne**2"
   ]
  },
  {
   "cell_type": "code",
   "execution_count": 15,
   "metadata": {},
   "outputs": [],
   "source": [
    "# calculate prefactor to turn intensity into counts\n",
    "photo_erg = h*c*1e6/line*1e10 #erg/photon\n",
    "pixel_size = 12.8e-3 # in ˚A [12.8 m˚A (FUV), 25.6 m˚A (NUV)]\n",
    "#FOV = 0.33*175*2.35e-11 # in sr 0.33 × 175 arcsec^2 SG-slit\n",
    "dim = 19e-2\n",
    "A_iris = 2.2e-4 # effective area FUV\n",
    "au = 1.49e11\n",
    "atn = A_iris/au**2\n",
    "exp_time = 4\n",
    "#photo_fac = pixel_size*atn*exp_time/photo_erg # converts EM*g/sig (erg/s/sr/˚A) -> photon count\n",
    "photo_fac = pixel_size*atn*exp_time/photo_erg"
   ]
  },
  {
   "cell_type": "code",
   "execution_count": 16,
   "metadata": {},
   "outputs": [],
   "source": [
    "# determine line broadening given combination of thermal, non-thermal, and instrumental broadenings\n",
    "freq = c/line*1e3\n",
    "v_inst = 3.9 # instrumental broadening (km/s)\n",
    "sig_inst = v_inst/freq\n",
    "v_nt = 20.0 # non-thermal broadening (km/s) [De Pontieu et al, 2015] -- rough estimate for broadening \n",
    "sig_nt = v_nt/freq\n",
    "sig_th = line*np.sqrt(kb*1e6*T/mass)/(c*1e6) # thermal broadening (in ˚A)\n",
    "sig = np.sqrt(sig_th**2+sig_nt**2+sig_inst**2) # total broadening\n",
    "\n",
    "# create emission array(s) for each fluid element\n",
    "nn=10*(n_s-1)\n",
    "emissNEI = np.empty([nn,len(ll)])\n",
    "emiss = emissNEI\n",
    "for i in range(nn):\n",
    "    emissNEI[i,:] = photo_fac*EM[i]*factor[i]*10**g[i]/np.sqrt(2*np.pi)/sig[i]*np.exp(-(ll-line-line*v[i]/c)**2/(2*sig[i]**2))\n",
    "    emiss[i,:] = photo_fac*EM[i]*10**g[i]/np.sqrt(2*np.pi*sig[i])*np.exp(-(ll-line-line*v[i]/c)**2/(2*sig[i]**2))"
   ]
  },
  {
   "cell_type": "code",
   "execution_count": 17,
   "metadata": {},
   "outputs": [
    {
     "data": {
      "text/plain": [
       "array([ 290,  291,  292, ..., 1552, 1553, 1554])"
      ]
     },
     "execution_count": 17,
     "metadata": {},
     "output_type": "execute_result"
    }
   ],
   "source": [
    "jjs = np.where(emissNEI>1)\n",
    "np.unique(jjs[0])"
   ]
  },
  {
   "cell_type": "code",
   "execution_count": 18,
   "metadata": {},
   "outputs": [
    {
     "data": {
      "text/plain": [
       "(1402, 1405)"
      ]
     },
     "execution_count": 18,
     "metadata": {},
     "output_type": "execute_result"
    },
    {
     "data": {
      "image/png": "[encoded data removed]",
      "text/plain": [
       "<Figure size 1008x576 with 1 Axes>"
      ]
     },
     "metadata": {
      "needs_background": "light"
     },
     "output_type": "display_data"
    }
   ],
   "source": [
    "fig = plt.figure(figsize=(14,8))\n",
    "tot_emissNEI = np.sum(emissNEI,axis=0)\n",
    "plt.plot(ll,tot_emissNEI)\n",
    "plt.xlim(1402,1405)"
   ]
  },
  {
   "cell_type": "markdown",
   "metadata": {},
   "source": [
    "The spectrum is created. Now, add noise and fit using our double gaussian fit routine:"
   ]
  },
  {
   "cell_type": "code",
   "execution_count": 28,
   "metadata": {},
   "outputs": [
    {
     "name": "stderr",
     "output_type": "stream",
     "text": [
      "/opt/anaconda3/lib/python3.7/site-packages/ipykernel_launcher.py:7: RuntimeWarning: invalid value encountered in sqrt\n",
      "  import sys\n"
     ]
    }
   ],
   "source": [
    "yerr = np.sqrt(tot_emissNEI)\n",
    "noise = np.random.normal(0.0 ,size = len(tot_emissNEI)) # make gaussian noise instead.\n",
    "error = yerr*noise\n",
    "np.nan_to_num(error, copy=False, nan=0)\n",
    "tot_emissNEI += error\n",
    "\n",
    "meas_error = np.sqrt(tot_emissNEI) # error measured\n",
    "np.nan_to_num(meas_error, copy=False, nan=0)\n",
    "\n",
    "rando = np.random.randn(2000)*0.001*np.max(meas_error) # add small amount of noise to zero-ish values\n",
    "too_small = np.where(meas_error < 0.01*np.max(meas_error))\n",
    "meas_error[too_small] += rando[too_small]"
   ]
  },
  {
   "cell_type": "code",
   "execution_count": 29,
   "metadata": {},
   "outputs": [],
   "source": [
    "from fit2gauss import fit2gauss"
   ]
  },
  {
   "cell_type": "code",
   "execution_count": 30,
   "metadata": {},
   "outputs": [
    {
     "name": "stdout",
     "output_type": "stream",
     "text": [
      "est params =  [66267.93127422487, 1403.9142507896288, 0.1, 768911.9041080062, 1403.391239188734, 0.1]\n",
      "single peak found\n",
      "iss = [91]\n",
      "only one peak still\n",
      "new init params =  [996120.9946500527, 1403.4599999999905, 0.1, 0.8716883410533696, 1404.04999999999, 0.1]\n",
      "a2g = [ 9.83651436e+05  1.40345625e+03  1.13946582e-01  8.27687207e+02\n",
      "  3.01848700e+03 -3.61024053e+03]\n",
      "a1g[0] = 984118.4566902288\n",
      "chi2g =  1347244012748.9773\n",
      "a2g =  [9.84118457e+05 1.40345624e+03 1.14083843e-01 0.00000000e+00\n",
      " 1.40345624e+03 1.14083843e-01]\n",
      "chi1g =  752.8095155427803\n",
      "chi2g =  -1.0\n"
     ]
    },
    {
     "data": {
      "image/png": "[encoded data removed]",
      "text/plain": [
       "<Figure size 1008x576 with 1 Axes>"
      ]
     },
     "metadata": {
      "needs_background": "light"
     },
     "output_type": "display_data"
    }
   ],
   "source": [
    "res = fit2gauss(ll,tot_emissNEI,meas_error,verbose=True)\n",
    "\n",
    "# extract arrays\n",
    "y2a = res[\"y2a\"]\n",
    "y2b = res[\"y2b\"]\n",
    "y1g = res[\"y1g\"]\n",
    "\n",
    "#plot \n",
    "fig = plt.figure(figsize=(14,8))\n",
    "gs = gridspec.GridSpec(1,1)\n",
    "ax1 = fig.add_subplot(gs[0])\n",
    "\n",
    "# spectra\n",
    "ax1.plot(ll, tot_emissNEI)\n",
    "\n",
    "# peak 1\n",
    "ax1.plot(ll, y2a, \"g\")\n",
    "ax1.fill_between(ll, y2a.min(), y2a, facecolor=\"green\", alpha=0.5)\n",
    "  \n",
    "# peak 2\n",
    "ax1.plot(ll, y2b, \"y\")\n",
    "ax1.fill_between(ll, y2b.min(), y2b, facecolor=\"yellow\", alpha=0.5) \n",
    "\n",
    "#both\n",
    "ax1.plot(ll,y2a+y2b, \"r\")\n",
    "\n",
    "# single fit\n",
    "ax1.plot(ll,y1g,'b--')\n",
    "    \n",
    "plt.xlim(1402.75,1404)\n",
    "ax1.set_xlabel(\"wavlength [$\\AA$]\",  fontsize=12)\n",
    "ax1.set_ylabel(\"normalized intensity\",  fontsize=12)\n",
    "fig.tight_layout()"
   ]
  },
  {
   "cell_type": "code",
   "execution_count": null,
   "metadata": {},
   "outputs": [],
   "source": []
  }
 ],
 "metadata": {
  "kernelspec": {
   "display_name": "Python 3",
   "language": "python",
   "name": "python3"
  },
  "language_info": {
   "codemirror_mode": {
    "name": "ipython",
    "version": 3
   },
   "file_extension": ".py",
   "mimetype": "text/x-python",
   "name": "python",
   "nbconvert_exporter": "python",
   "pygments_lexer": "ipython3",
   "version": "3.7.4"
  }
 },
 "nbformat": 4,
 "nbformat_minor": 2
}
