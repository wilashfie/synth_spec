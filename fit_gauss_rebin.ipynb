{
 "cells": [
  {
   "cell_type": "code",
   "execution_count": 1,
   "metadata": {},
   "outputs": [
    {
     "ename": "SyntaxError",
     "evalue": "invalid syntax (fit2gauss.py, line 175)",
     "output_type": "error",
     "traceback": [
      "Traceback \u001b[0;36m(most recent call last)\u001b[0m:\n",
      "  File \u001b[1;32m\"/opt/anaconda3/lib/python3.7/site-packages/IPython/core/interactiveshell.py\"\u001b[0m, line \u001b[1;32m3326\u001b[0m, in \u001b[1;35mrun_code\u001b[0m\n    exec(code_obj, self.user_global_ns, self.user_ns)\n",
      "\u001b[0;36m  File \u001b[0;32m\"<ipython-input-1-b20b55063b9b>\"\u001b[0;36m, line \u001b[0;32m11\u001b[0;36m, in \u001b[0;35m<module>\u001b[0;36m\u001b[0m\n\u001b[0;31m    from fit2gauss import fit2gauss\u001b[0m\n",
      "\u001b[0;36m  File \u001b[0;32m\"/Users/WilliamHenryAshfieldIV/synth_spec/fit2gauss.py\"\u001b[0;36m, line \u001b[0;32m175\u001b[0m\n\u001b[0;31m    lrg_amp = np.maximum(a2g[0],a2g[3)\u001b[0m\n\u001b[0m                                     ^\u001b[0m\n\u001b[0;31mSyntaxError\u001b[0m\u001b[0;31m:\u001b[0m invalid syntax\n"
     ]
    }
   ],
   "source": [
    "import numpy as np\n",
    "import matplotlib.pyplot as plt\n",
    "from scipy.io import readsav\n",
    "from scipy.interpolate import interp1d\n",
    "from scipy import optimize\n",
    "from scipy.optimize import curve_fit\n",
    "from scipy.signal import savgol_filter\n",
    "from matplotlib import gridspec\n",
    "\n",
    "from create_spec import create_spec\n",
    "from fit2gauss import fit2gauss"
   ]
  },
  {
   "cell_type": "code",
   "execution_count": null,
   "metadata": {},
   "outputs": [],
   "source": [
    "# import arrays\n",
    "s = np.loadtxt('/Users/WilliamHenryAshfieldIV/dat/avg_spec.txt', dtype=int)\n",
    "e = np.loadtxt('/Users/WilliamHenryAshfieldIV/dat/avg_error.txt', dtype=int)\n",
    "log10T,log10G = np.loadtxt('/Users/WilliamHenryAshfieldIV/dat/goft_1403.dat.txt',comments='%',unpack=True)"
   ]
  },
  {
   "cell_type": "code",
   "execution_count": null,
   "metadata": {},
   "outputs": [],
   "source": [
    "# wavelengths\n",
    "line = 1403.\n",
    "wav = np.arange(line-10,line+10,0.01)"
   ]
  },
  {
   "cell_type": "code",
   "execution_count": null,
   "metadata": {},
   "outputs": [],
   "source": [
    "spec = s[13,:]\n",
    "error = e[13,:]\n",
    "res = fit2gauss(wav,spec,error,verbose=True)"
   ]
  },
  {
   "cell_type": "code",
   "execution_count": null,
   "metadata": {},
   "outputs": [],
   "source": [
    "# extract arrays\n",
    "y2a = res[\"y2a\"]\n",
    "y2b = res[\"y2b\"]\n",
    "y1g = res[\"y1g\"]\n",
    "\n",
    "#plot \n",
    "fig = plt.figure(figsize=(14,8))\n",
    "gs = gridspec.GridSpec(1,1)\n",
    "ax1 = fig.add_subplot(gs[0])\n",
    "\n",
    "# spectra\n",
    "ax1.plot(wav, spec)\n",
    "\n",
    "# peak 1\n",
    "ax1.plot(wav, y2a, \"g\")\n",
    "ax1.fill_between(wav, y2a.min(), y2a, facecolor=\"green\", alpha=0.5)\n",
    "  \n",
    "# peak 2\n",
    "ax1.plot(wav, y2b, \"y\")\n",
    "ax1.fill_between(wav, y2b.min(), y2b, facecolor=\"yellow\", alpha=0.5) \n",
    "\n",
    "#both\n",
    "ax1.plot(wav,y2a+y2b, \"r\")\n",
    "\n",
    "# single fit\n",
    "ax1.plot(wav,y1g,'b--')\n",
    "    \n",
    "plt.xlim(1402.75,1404)\n",
    "ax1.set_xlabel(\"wavlength [$\\AA$]\",  fontsize=12)\n",
    "ax1.set_ylabel(\"normalized intensity\",  fontsize=12)\n",
    "fig.tight_layout()"
   ]
  },
  {
   "cell_type": "code",
   "execution_count": null,
   "metadata": {},
   "outputs": [],
   "source": [
    "a1g = res[\"a1g\"]\n",
    "a2g = res[\"a2g\"]\n",
    "\n",
    "line = 1403\n",
    "l1 = a2g[1]\n",
    "l2 = a2g[4]\n",
    "v1 = (l1-line)/line*3e5\n",
    "v2 = (l2-line)/line*3e5\n",
    "\n",
    "\n",
    "print('red velocity = ',v1,'-----', '\"blue\" velocity = ', v2)"
   ]
  },
  {
   "cell_type": "code",
   "execution_count": null,
   "metadata": {},
   "outputs": [],
   "source": [
    "# single Gaussian\n",
    "line = 1403\n",
    "l1 = a1g[1]\n",
    "v1 = (l1-line)/line*3e5\n",
    "print('red velocity = ',v1)"
   ]
  },
  {
   "cell_type": "code",
   "execution_count": null,
   "metadata": {},
   "outputs": [],
   "source": [
    "sig = a2g[2]\n",
    "c = 300\n",
    "line = 1402.77\n",
    "freq = c/line*1e3\n",
    "v_width = sig*freq\n",
    "print('line width = ', v_width)"
   ]
  },
  {
   "cell_type": "markdown",
   "metadata": {},
   "source": [
    "test for peak finding."
   ]
  },
  {
   "cell_type": "code",
   "execution_count": null,
   "metadata": {},
   "outputs": [],
   "source": [
    "from scipy.signal import find_peaks"
   ]
  },
  {
   "cell_type": "code",
   "execution_count": null,
   "metadata": {},
   "outputs": [],
   "source": [
    "spec_sm = savgol_filter(spec, 3, 1)\n",
    "peaks, _ = find_peaks(spec_sm)"
   ]
  },
  {
   "cell_type": "code",
   "execution_count": null,
   "metadata": {},
   "outputs": [],
   "source": [
    "#plot \n",
    "fig = plt.figure(figsize=(14,8))\n",
    "gs = gridspec.GridSpec(1,1)\n",
    "ax1 = fig.add_subplot(gs[0])\n",
    "\n",
    "# spectra\n",
    "ax1.plot(wav, spec_sm)\n",
    "ax1.plot(wav[peaks], spec_sm[peaks], \"x\")\n",
    "plt.xlim(1402.75,1404)"
   ]
  },
  {
   "cell_type": "code",
   "execution_count": null,
   "metadata": {},
   "outputs": [],
   "source": [
    "pos_peaks = wav[peaks]\n",
    "spec_peaks = spec_sm[peaks]\n",
    "iis = np.where(spec_peaks>0.1*np.max(spec))\n",
    "iis = iis[0]"
   ]
  },
  {
   "cell_type": "code",
   "execution_count": null,
   "metadata": {},
   "outputs": [],
   "source": [
    "iis"
   ]
  },
  {
   "cell_type": "code",
   "execution_count": null,
   "metadata": {},
   "outputs": [],
   "source": [
    "amp_peaks = spec_peaks[iis]"
   ]
  },
  {
   "cell_type": "code",
   "execution_count": null,
   "metadata": {},
   "outputs": [],
   "source": [
    "pos = pos_peaks[iis]"
   ]
  },
  {
   "cell_type": "code",
   "execution_count": null,
   "metadata": {},
   "outputs": [],
   "source": [
    "print('pos =', pos, 'amps = ', amp_peaks)"
   ]
  },
  {
   "cell_type": "code",
   "execution_count": null,
   "metadata": {},
   "outputs": [],
   "source": [
    "len(iis)"
   ]
  },
  {
   "cell_type": "code",
   "execution_count": null,
   "metadata": {},
   "outputs": [],
   "source": []
  },
  {
   "cell_type": "code",
   "execution_count": null,
   "metadata": {},
   "outputs": [],
   "source": []
  }
 ],
 "metadata": {
  "kernelspec": {
   "display_name": "Python 3",
   "language": "python",
   "name": "python3"
  },
  "language_info": {
   "codemirror_mode": {
    "name": "ipython",
    "version": 3
   },
   "file_extension": ".py",
   "mimetype": "text/x-python",
   "name": "python",
   "nbconvert_exporter": "python",
   "pygments_lexer": "ipython3",
   "version": "3.7.4"
  }
 },
 "nbformat": 4,
 "nbformat_minor": 2
}
