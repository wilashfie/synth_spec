{
 "cells": [
  {
   "cell_type": "code",
   "execution_count": 4,
   "metadata": {},
   "outputs": [],
   "source": [
    "import numpy as np\n",
    "import matplotlib.pyplot as plt\n",
    "from scipy.io import readsav\n",
    "from scipy.interpolate import interp1d\n",
    "from scipy import optimize\n",
    "from scipy.optimize import curve_fit\n",
    "from scipy.signal import savgol_filter\n",
    "from matplotlib import gridspec"
   ]
  },
  {
   "cell_type": "code",
   "execution_count": 5,
   "metadata": {},
   "outputs": [],
   "source": [
    "#tube = readsav('dat/f4.sav',verbose=True,python_dict=True)\n",
    "tube = readsav('/Users/WilliamHenryAshfieldIV/dat/f4_vis5_n400.sav',verbose=False,python_dict=False)\n",
    "frac = readsav('/Users/WilliamHenryAshfieldIV/dat/f4_vis5_n400_si_iv_nei.sav',verbose=False,python_dict=False)\n",
    "log10T,log10G = np.loadtxt('/Users/WilliamHenryAshfieldIV/dat/goft_1403.dat.txt',comments='%',unpack=True)"
   ]
  },
  {
   "cell_type": "code",
   "execution_count": 6,
   "metadata": {},
   "outputs": [],
   "source": [
    "# set inital values\n",
    "line = 1403.\n",
    "mass = 28.0*1.66054e-27\n",
    "kb = 1.3807e-23\n",
    "c = 300\n",
    "h = 6.62607e-27\n",
    "flux=1.0e3 #? why this val?"
   ]
  },
  {
   "cell_type": "code",
   "execution_count": 7,
   "metadata": {},
   "outputs": [],
   "source": [
    "ll = np.arange(line-10,line+10,0.01)"
   ]
  },
  {
   "cell_type": "code",
   "execution_count": 86,
   "metadata": {},
   "outputs": [],
   "source": [
    "time= 60 # index = 0.1*time in seconds"
   ]
  },
  {
   "cell_type": "code",
   "execution_count": 87,
   "metadata": {},
   "outputs": [],
   "source": [
    "t = tube.tarr.t[time]\n",
    "n = tube.tarr.n[time]\n",
    "los_v = tube.tarr.v[time].T[0]\n",
    "sm_v = -los_v\n",
    "los_x = tube.tarr.x[time].T[0]\n",
    "n_e = tube.tarr.epamu[time]*tube.tarr.rho[time]/1.67e-8 # number density \n",
    "b = tube.tarr.b[time]\n",
    "dl_e = tube.tarr.dl_e[time]"
   ]
  },
  {
   "cell_type": "code",
   "execution_count": 88,
   "metadata": {},
   "outputs": [],
   "source": [
    "# interpolate our GofT data\n",
    "te = 10**log10T\n",
    "inter = interp1d(te,log10G,kind='cubic', bounds_error=False, fill_value=-10e6) #fill outide vals with large, small number\n",
    "temp = 1e6*tube.tarr.t[time]\n",
    "G = inter(temp)"
   ]
  },
  {
   "cell_type": "code",
   "execution_count": 89,
   "metadata": {},
   "outputs": [],
   "source": [
    "G[temp<22000] = -10000 # set all log10G with low temp to large, small number (st 10^G~0)"
   ]
  },
  {
   "cell_type": "code",
   "execution_count": 90,
   "metadata": {},
   "outputs": [],
   "source": [
    "f_nei=frac.arrs.f_nei[0]\n",
    "f_nei = f_nei[:,time]\n",
    "f_eqi=frac.arrs.f_eqi[0]\n",
    "f_eqi = f_eqi[:,time]"
   ]
  },
  {
   "cell_type": "code",
   "execution_count": 91,
   "metadata": {},
   "outputs": [
    {
     "data": {
      "text/plain": [
       "(array([1270, 2721]),)"
      ]
     },
     "execution_count": 91,
     "metadata": {},
     "output_type": "execute_result"
    }
   ],
   "source": [
    "np.set_printoptions(threshold=100)\n",
    "jjjs = np.where(G > -5e1)\n",
    "jjjs"
   ]
  },
  {
   "cell_type": "code",
   "execution_count": 92,
   "metadata": {},
   "outputs": [
    {
     "name": "stdout",
     "output_type": "stream",
     "text": [
      "[ 431  432  433 ... 1808 1809 1810]\n"
     ]
    },
    {
     "data": {
      "image/png": "[encoded data removed]",
      "text/plain": [
       "<Figure size 432x288 with 1 Axes>"
      ]
     },
     "metadata": {
      "needs_background": "light"
     },
     "output_type": "display_data"
    }
   ],
   "source": [
    "plt.plot(f_eqi)\n",
    "plt.plot(f_nei)\n",
    "\n",
    "i_half = int(n/2) #[0:i_half] = left half of tube\n",
    "test = f_nei[0:i_half]\n",
    "plt.plot(test)\n",
    "f_jj = np.where(test > test[0])\n",
    "f_jj=f_jj[0]\n",
    "print(f_jj)"
   ]
  },
  {
   "cell_type": "code",
   "execution_count": 93,
   "metadata": {},
   "outputs": [
    {
     "name": "stderr",
     "output_type": "stream",
     "text": [
      "/opt/anaconda3/lib/python3.7/site-packages/ipykernel_launcher.py:1: RuntimeWarning: invalid value encountered in true_divide\n",
      "  \"\"\"Entry point for launching an IPython kernel.\n"
     ]
    }
   ],
   "source": [
    "temp_fac = f_nei/f_eqi\n",
    "np.nan_to_num(temp_fac, copy=False, nan=1); # replace inf values with 1 (due to zeros in eqi)"
   ]
  },
  {
   "cell_type": "code",
   "execution_count": 94,
   "metadata": {},
   "outputs": [
    {
     "name": "stdout",
     "output_type": "stream",
     "text": [
      "[1270 1271 1272 ... 1808 1809 1810]\n"
     ]
    },
    {
     "data": {
      "image/png": "[encoded data removed]",
      "text/plain": [
       "<Figure size 432x288 with 1 Axes>"
      ]
     },
     "metadata": {
      "needs_background": "light"
     },
     "output_type": "display_data"
    }
   ],
   "source": [
    "i_half = int(n/2) #[0:i_half] = left half of tube\n",
    "temp_fac = temp_fac[0:i_half]\n",
    "plt.plot(temp_fac)\n",
    "f_jj = np.where(temp_fac > temp_fac[0])\n",
    "f_jj=f_jj[0]\n",
    "print(f_jj)"
   ]
  },
  {
   "cell_type": "code",
   "execution_count": 95,
   "metadata": {},
   "outputs": [
    {
     "data": {
      "text/plain": [
       "493"
      ]
     },
     "execution_count": 95,
     "metadata": {},
     "output_type": "execute_result"
    }
   ],
   "source": [
    "len(f_jj)"
   ]
  },
  {
   "cell_type": "code",
   "execution_count": 96,
   "metadata": {},
   "outputs": [
    {
     "name": "stdout",
     "output_type": "stream",
     "text": [
      "i_min =  1250\n",
      "i_max =  1830\n"
     ]
    }
   ],
   "source": [
    "# define subregion \n",
    "i_min,i_max = f_jj[0]-20,f_jj[-1]+20 # left half of tube (start = 3.9s)\n",
    "print('i_min = ',f_jj[0]-20)\n",
    "print('i_max = ',f_jj[-1]+20)\n",
    "\n",
    "t_s = t[i_min:i_max]\n",
    "n_s = len(t_s)\n",
    "los_v_s = los_v[i_min:i_max]\n",
    "sm_v_s = sm_v[i_min:i_max]\n",
    "los_x_s = los_x[i_min:i_max]\n",
    "n_e_s = n_e[i_min:i_max]\n",
    "b_s = b[i_min:i_max]\n",
    "dl_e_s = dl_e[i_min:i_max]\n",
    "G_s = G[i_min:i_max]\n",
    "f_nei_s = f_nei[i_min:i_max]\n",
    "f_eqi_s = f_eqi[i_min:i_max]"
   ]
  },
  {
   "cell_type": "code",
   "execution_count": 97,
   "metadata": {},
   "outputs": [],
   "source": [
    "# interpolate \n",
    "N=10*n_s\n",
    "i_s = np.arange(0,n_s)\n",
    "ii = np.arange(0,10*(n_s-1))*0.1\n",
    "\n",
    "int_x = interp1d(i_s,los_x_s,kind='linear')#,fill_value=\"extrapolate\")\n",
    "int_v = interp1d(i_s,sm_v_s,kind='linear')\n",
    "int_t = interp1d(i_s,t_s,kind='linear')\n",
    "int_ne = interp1d(i_s,n_e_s,kind='linear')\n",
    "int_b = interp1d(i_s,b_s,kind='linear')\n",
    "int_dl_e = interp1d(i_s,dl_e_s,kind='linear')\n",
    "int_G = interp1d(i_s,G_s,kind='linear')\n",
    "int_fnei = interp1d(i_s,f_nei_s,kind='linear')\n",
    "int_feqi = interp1d(i_s,f_eqi_s,kind='linear')\n",
    "\n",
    "# new, interpolated arrays from tarr/tube\n",
    "x = int_x(ii)\n",
    "v = int_v(ii)\n",
    "T = int_t(ii)\n",
    "ne = int_ne(ii)\n",
    "B = int_b(ii)\n",
    "Dl = int_dl_e(ii)\n",
    "g = int_G(ii)\n",
    "nei = int_fnei(ii)\n",
    "eqi = int_feqi(ii)"
   ]
  },
  {
   "cell_type": "code",
   "execution_count": 99,
   "metadata": {},
   "outputs": [
    {
     "data": {
      "text/plain": [
       "(0, 12)"
      ]
     },
     "execution_count": 99,
     "metadata": {},
     "output_type": "execute_result"
    },
    {
     "data": {
      "image/png": "[encoded data removed]",
      "text/plain": [
       "<Figure size 432x288 with 1 Axes>"
      ]
     },
     "metadata": {
      "needs_background": "light"
     },
     "output_type": "display_data"
    }
   ],
   "source": [
    "plt.plot(los_x,sm_v)\n",
    "plt.plot(x,v)\n",
    "plt.xlim(0,12)\n",
    "#plt.ylim(0,0.3)"
   ]
  },
  {
   "cell_type": "code",
   "execution_count": 23,
   "metadata": {},
   "outputs": [],
   "source": [
    "# process to create volume given per flux (per Maxwell)\n",
    "A = flux/B # replace by area of pixel in Mm (~0.01 Mm^2)\n",
    "A_pixel = 0.029 # Mm^2 -  pixel area: 0.33 x 0.167 arcsec (as seen on sun..)\n",
    "\n",
    "volume = Dl*A_pixel*1e24\n",
    "#calcualte emission measure EM\n",
    "EM=volume*ne**2"
   ]
  },
  {
   "cell_type": "code",
   "execution_count": 24,
   "metadata": {},
   "outputs": [],
   "source": [
    "#sig = line*np.sqrt(kb*1e6*T/mass)/(c*1e6) # other thermal width \n",
    "\n",
    "# determine line broadening given combination of thermal, non-thermal, and instrumental broadenings\n",
    "freq = c/line*1e3\n",
    "v_inst = 3.9 # instrumental broadening (km/s)\n",
    "sig_inst = v_inst/freq\n",
    "v_nt = 20.0 # non-thermal broadening (km/s) [De Pontieu et al, 2015]\n",
    "sig_nt = v_nt/freq\n",
    "sig_th = line*np.sqrt(kb*1e6*T/mass)/(c*1e6) # thermal broadening (in ˚A)\n",
    "sig = np.sqrt(sig_th**2+sig_nt**2+sig_inst**2) # total broadening"
   ]
  },
  {
   "cell_type": "code",
   "execution_count": 25,
   "metadata": {},
   "outputs": [],
   "source": [
    "# calculate prefactor to turn intensity into counts\n",
    "photo_erg = h*c*1e6/line*1e10 #erg/photon\n",
    "pixel_size = 12.8e-3 # in ˚A [12.8 m˚A (FUV), 25.6 m˚A (NUV)]\n",
    "#FOV = 0.33*175*2.35e-11 # in sr 0.33 × 175 arcsec^2 SG-slit\n",
    "dim = 19e-2\n",
    "A_iris = 2.2e-4 # effective area FUV\n",
    "au = 1.49e11\n",
    "atn = A_iris/au**2\n",
    "exp_time = 4\n",
    "#photo_fac = pixel_size*atn*exp_time/photo_erg # converts EM*g/sig (erg/s/sr/˚A) -> photon count\n",
    "photo_fac = pixel_size*atn*exp_time/photo_erg"
   ]
  },
  {
   "cell_type": "code",
   "execution_count": 26,
   "metadata": {},
   "outputs": [
    {
     "name": "stderr",
     "output_type": "stream",
     "text": [
      "/opt/anaconda3/lib/python3.7/site-packages/ipykernel_launcher.py:1: RuntimeWarning: invalid value encountered in true_divide\n",
      "  \"\"\"Entry point for launching an IPython kernel.\n"
     ]
    }
   ],
   "source": [
    "factor = nei/eqi\n",
    "np.nan_to_num(factor, copy=False, nan=1); # replace inf values with 1 (due to zeros in eqi)"
   ]
  },
  {
   "cell_type": "code",
   "execution_count": 27,
   "metadata": {},
   "outputs": [
    {
     "data": {
      "text/plain": [
       "[<matplotlib.lines.Line2D at 0x1c2738ff90>]"
      ]
     },
     "execution_count": 27,
     "metadata": {},
     "output_type": "execute_result"
    },
    {
     "data": {
      "image/png": "[encoded data removed]",
      "text/plain": [
       "<Figure size 432x288 with 1 Axes>"
      ]
     },
     "metadata": {
      "needs_background": "light"
     },
     "output_type": "display_data"
    }
   ],
   "source": [
    "plt.plot(factor*10**g,'o')\n",
    "plt.plot(10**g,'o')\n",
    "#plt.xlim(7990,8010)"
   ]
  },
  {
   "cell_type": "code",
   "execution_count": 28,
   "metadata": {},
   "outputs": [
    {
     "data": {
      "text/plain": [
       "(180, 210)"
      ]
     },
     "execution_count": 28,
     "metadata": {},
     "output_type": "execute_result"
    },
    {
     "data": {
      "image/png": "[encoded data removed]",
      "text/plain": [
       "<Figure size 432x288 with 1 Axes>"
      ]
     },
     "metadata": {
      "needs_background": "light"
     },
     "output_type": "display_data"
    }
   ],
   "source": [
    "plt.plot(EM*factor*10**g)\n",
    "plt.plot(EM*10**g)\n",
    "plt.xlim(180,210)"
   ]
  },
  {
   "cell_type": "code",
   "execution_count": 29,
   "metadata": {},
   "outputs": [
    {
     "name": "stdout",
     "output_type": "stream",
     "text": [
      "N =  3890\n",
      "[200]\n"
     ]
    }
   ],
   "source": [
    "nn=10*(n_s-1)\n",
    "print('N = ',nn)\n",
    "emissNEI = np.empty([nn,len(ll)])\n",
    "emiss = emissNEI\n",
    "ii_s = np.zeros(nn)\n",
    "for i in range(nn):\n",
    "    \n",
    "    emissNEI[i,:] = photo_fac*EM[i]*factor[i]*10**g[i]/np.sqrt(2*np.pi)/sig[i]*np.exp(-(ll-line-line*v[i]/c)**2/(2*sig[i]**2))\n",
    "    \n",
    "    \n",
    "    maxi = np.max(emissNEI[i,:])\n",
    "    if maxi > 0: ii_s[i] = int(i)\n",
    "\n",
    "ii_s= ii_s[ii_s>0]\n",
    "ii_s = ii_s.astype(int)\n",
    "print(ii_s)"
   ]
  },
  {
   "cell_type": "code",
   "execution_count": 34,
   "metadata": {},
   "outputs": [
    {
     "data": {
      "text/plain": [
       "200"
      ]
     },
     "execution_count": 34,
     "metadata": {},
     "output_type": "execute_result"
    }
   ],
   "source": [
    "ii_s[-1]"
   ]
  },
  {
   "cell_type": "code",
   "execution_count": 35,
   "metadata": {},
   "outputs": [],
   "source": [
    "tot_emissNEI = np.sum(emissNEI,axis=0)\n",
    "#tot_emissNEI /= max(tot_emissNEI) #normalize\n",
    "tot_emiss = np.sum(emiss,axis=0)\n",
    "#tot_emiss /= max(tot_emiss) #normalize"
   ]
  },
  {
   "cell_type": "code",
   "execution_count": 36,
   "metadata": {},
   "outputs": [
    {
     "data": {
      "text/plain": [
       "Text(0.5, 0, 'wavelength [$\\\\AA$]')"
      ]
     },
     "execution_count": 36,
     "metadata": {},
     "output_type": "execute_result"
    },
    {
     "data": {
      "image/png": "[encoded data removed]",
      "text/plain": [
       "<Figure size 720x720 with 1 Axes>"
      ]
     },
     "metadata": {
      "needs_background": "light"
     },
     "output_type": "display_data"
    }
   ],
   "source": [
    "#fig=plt.figure(figsize=[10,10])\n",
    "fig, ax = plt.subplots(figsize=[10,10])\n",
    "plt.plot(ll,tot_emissNEI)\n",
    "#plt.plot(ll,emissNEI[ii_s])\n",
    "for i in range(ii_s[0],ii_s[-1]):\n",
    "    plt.plot(ll,emissNEI[i])\n",
    "    plt.xlim(1402,1404)\n",
    "plt.xlim(1402,1404)\n",
    "plt.ylabel('normalized intensity')\n",
    "ax.set_xlabel('wavelength [$\\AA$]')\n",
    "\n",
    "#fig.savefig('specI.png',bbox_inches='tight', dpi=600)"
   ]
  },
  {
   "cell_type": "code",
   "execution_count": 32,
   "metadata": {},
   "outputs": [
    {
     "data": {
      "text/plain": [
       "(0, 5000)"
      ]
     },
     "execution_count": 32,
     "metadata": {},
     "output_type": "execute_result"
    },
    {
     "data": {
      "image/png": "[encoded data removed]",
      "text/plain": [
       "<Figure size 432x288 with 1 Axes>"
      ]
     },
     "metadata": {
      "needs_background": "light"
     },
     "output_type": "display_data"
    }
   ],
   "source": [
    "for i in range(ii_s[0],ii_s[-1]):\n",
    "    plt.plot(ll,emissNEI[i])\n",
    "    plt.xlim(1402,1404)\n",
    "plt.xlim(1402,1404)\n",
    "plt.ylim(0,5000)"
   ]
  },
  {
   "cell_type": "code",
   "execution_count": 82,
   "metadata": {},
   "outputs": [
    {
     "data": {
      "text/plain": [
       "0.0"
      ]
     },
     "execution_count": 82,
     "metadata": {},
     "output_type": "execute_result"
    }
   ],
   "source": [
    "np.max(tot_emiss-tot_emissNEI)"
   ]
  },
  {
   "cell_type": "code",
   "execution_count": null,
   "metadata": {},
   "outputs": [],
   "source": [
    "def oneGauss(x, amp1,cen1,sigma1):\n",
    "    return amp1*(np.exp((-1.0/2.0)*(((x-cen1)/sigma1)**2)))"
   ]
  },
  {
   "cell_type": "code",
   "execution_count": null,
   "metadata": {},
   "outputs": [],
   "source": [
    "#init params\n",
    "amp1 = 1\n",
    "sigma1 = 0.1\n",
    "cen1 = 1403"
   ]
  },
  {
   "cell_type": "code",
   "execution_count": null,
   "metadata": {},
   "outputs": [],
   "source": [
    "popt_gauss, pcov_gauss = curve_fit(oneGauss, ll, tot_emissNEI, p0=[amp1, cen1, sigma1])\n",
    "perr_gauss = np.sqrt(np.diag(pcov_gauss))"
   ]
  },
  {
   "cell_type": "code",
   "execution_count": null,
   "metadata": {},
   "outputs": [],
   "source": [
    "print(\"amplitude = %0.2f (+/-) %0.2f\" % (popt_gauss[0], perr_gauss[0]))\n",
    "print(\"center = %0.2f (+/-) %0.2f\" % (popt_gauss[1], perr_gauss[1]))\n",
    "print(\"sigma = %0.2f (+/-) %0.2f\" % (popt_gauss[2], perr_gauss[2]))"
   ]
  },
  {
   "cell_type": "code",
   "execution_count": null,
   "metadata": {},
   "outputs": [],
   "source": [
    "#plot\n",
    "fig = plt.figure(figsize=(14,8))\n",
    "gs = gridspec.GridSpec(1,1)\n",
    "ax1 = fig.add_subplot(gs[0])\n",
    "\n",
    "ax1.plot(ll, tot_emiss)\n",
    "ax1.plot(ll, oneGauss(ll, *popt_gauss), 'k--')#,\\\n",
    "         #label=\"y= %0.2f$e^{%0.2fx}$ + %0.2f\" % (popt_exponential[0], popt_exponential[1], popt_exponential[2]))\n",
    "\n",
    "plt.xlim(1402,1406)\n",
    "\n",
    "ax1.set_xlabel(\"wavelength\",  fontsize=12)\n",
    "ax1.set_ylabel(\"intensity\",  fontsize=12)\n",
    "\n",
    "\n",
    "fig.tight_layout()"
   ]
  },
  {
   "cell_type": "code",
   "execution_count": null,
   "metadata": {},
   "outputs": [],
   "source": [
    "def twoGauss(x, amp1,cen1,sigma1, amp2,cen2,sigma2):\n",
    "    return amp1*(np.exp((-1.0/2.0)*(((x-cen1)/sigma1)**2))) + \\\n",
    "            amp2*(np.exp((-1.0/2.0)*(((x-cen2)/sigma2)**2)))"
   ]
  },
  {
   "cell_type": "code",
   "execution_count": null,
   "metadata": {},
   "outputs": [],
   "source": [
    "amp2 = 0.6\n",
    "sigma2 = 0.01\n",
    "cen2 = 1404\n",
    "popt_2gauss, pcov_2gauss = curve_fit(twoGauss, ll, tot_emiss, \\\n",
    "                                                    p0=[amp1, cen1, sigma1, amp2, cen2, sigma2], maxfev=4000)\n",
    "perr_2gauss = np.sqrt(np.diag(pcov_2gauss))\n",
    "print(\"amplitude = %0.2f (+/-) %0.2f\" % (popt_2gauss[0], perr_2gauss[0]))\n",
    "print(\"center = %0.2f (+/-) %0.2f\" % (popt_2gauss[1], perr_2gauss[1]))\n",
    "print(\"sigma = %0.2f (+/-) %0.2f\" % (popt_2gauss[2], perr_2gauss[2]))\n",
    "print(\"amplitude = %0.2f (+/-) %0.2f\" % (popt_2gauss[3], perr_2gauss[3]))\n",
    "print(\"center = %0.2f (+/-) %0.2f\" % (popt_2gauss[4], perr_2gauss[4]))\n",
    "print(\"sigma = %0.2f (+/-) %0.2f\" % (popt_2gauss[5], perr_2gauss[5]))\n",
    "\n",
    "pars_1 = popt_2gauss[0:3]\n",
    "pars_2 = popt_2gauss[3:6]\n",
    "gauss_peak_1 = oneGauss(ll, *pars_1)\n",
    "gauss_peak_2 = oneGauss(ll, *pars_2)\n",
    "residual_2gauss = tot_emiss - (twoGauss(ll, *popt_2gauss))\n",
    "\n",
    "\n",
    "#plot\n",
    "fig = plt.figure(figsize=(14,8))\n",
    "gs = gridspec.GridSpec(2,1, height_ratios=[1,0.25])\n",
    "ax1 = fig.add_subplot(gs[0])\n",
    "ax2 = fig.add_subplot(gs[1])\n",
    "gs.update(hspace=0) \n",
    "\n",
    "ax1.plot(ll, tot_emiss)\n",
    "ax1.plot(ll, twoGauss(ll, *popt_2gauss), 'k--')#,\\\n",
    "         #label=\"y= %0.2f$e^{%0.2fx}$ + %0.2f\" % (popt_exponential[0], popt_exponential[1], popt_exponential[2]))\n",
    "\n",
    "# peak 1\n",
    "ax1.plot(ll, gauss_peak_1, \"g\")\n",
    "ax1.fill_between(ll, gauss_peak_1.min(), gauss_peak_1, facecolor=\"green\", alpha=0.5)\n",
    "  \n",
    "# peak 2\n",
    "ax1.plot(ll, gauss_peak_2, \"y\")\n",
    "ax1.fill_between(ll, gauss_peak_2.min(), gauss_peak_2, facecolor=\"yellow\", alpha=0.5)  \n",
    "ax1.get_xaxis().set_visible(False)\n",
    "\n",
    "# residual\n",
    "ax2.plot(ll, residual_2gauss, \"b\")\n",
    "    \n",
    "ax1.set_xlim(1403,1404.5)\n",
    "ax2.set_xlim(1403,1404.5)\n",
    "\n",
    "ax2.set_xlabel(\"wavelength\")\n",
    "ax1.set_ylabel(\"intensity\")\n",
    "ax2.set_ylabel(\"res.\")\n",
    "\n",
    "fig.tight_layout()\n",
    "#fig.savefig(\"fit2Gaussian_peaks_resid.png\", format=\"png\",dpi=1000)"
   ]
  },
  {
   "cell_type": "code",
   "execution_count": null,
   "metadata": {},
   "outputs": [],
   "source": [
    "# trim excess zeros in data\n",
    "jj = np.where((ll > 1403) & (ll < 1405))\n",
    "ll = ll[jj]\n",
    "tot_emiss = tot_emiss[jj]\n",
    "\n",
    "y_model = twoGauss(ll, *popt_2gauss)\n",
    "y = tot_emiss\n",
    "error = 0.001\n",
    "\n",
    "chi2 = ((y_model - y) / error)**2\n",
    "\n",
    "x2=np.sum(chi2)\n",
    "\n",
    "rx2 = x2/(len(tot_emiss)-6)\n",
    "print(rx2)"
   ]
  },
  {
   "cell_type": "code",
   "execution_count": null,
   "metadata": {},
   "outputs": [],
   "source": [
    "# single Gaussian\n",
    "y_model=oneGauss(ll, *popt_gauss)\n",
    "chi2 = ((y_model - y) / error)**2\n",
    "x2=np.sum(chi2)\n",
    "rx2 = x2/(len(tot_emiss)-3)\n",
    "print(rx2)"
   ]
  },
  {
   "cell_type": "code",
   "execution_count": null,
   "metadata": {},
   "outputs": [],
   "source": [
    "def threeGauss(x, amp1,cen1,sigma1, amp2,cen2,sigma2,amp3,cen3,sigma3):\n",
    "    return amp1*(np.exp((-1.0/2.0)*(((x-cen1)/sigma1)**2))) + \\\n",
    "            amp2*(np.exp((-1.0/2.0)*(((x-cen2)/sigma2)**2))) + \\\n",
    "            amp3*(np.exp((-1.0/2.0)*(((x-cen3)/sigma3)**2)))"
   ]
  },
  {
   "cell_type": "code",
   "execution_count": null,
   "metadata": {},
   "outputs": [],
   "source": [
    "amp3 = 0.5\n",
    "sigma3 = 0.01\n",
    "cen3 = 1403.5\n",
    "popt_3gauss, pcov_3gauss = curve_fit(threeGauss, ll, tot_emiss, \\\n",
    "                                    p0=[amp1, cen1, sigma1, amp2, cen2, sigma2,amp3,cen3,sigma3], maxfev=4000)\n",
    "perr_3gauss = np.sqrt(np.diag(pcov_2gauss))\n",
    "\n",
    "pars_1 = popt_3gauss[0:3]\n",
    "pars_2 = popt_3gauss[3:6]\n",
    "pars_3 = popt_3gauss[6:9]\n",
    "gauss_peak_1 = oneGauss(ll, *pars_1)\n",
    "gauss_peak_2 = oneGauss(ll, *pars_2)\n",
    "gauss_peak_3 = oneGauss(ll, *pars_3)\n",
    "residual_3gauss = tot_emiss - (threeGauss(ll, *popt_3gauss))\n",
    "\n",
    "\n",
    "#plot\n",
    "fig = plt.figure(figsize=(14,8))\n",
    "gs = gridspec.GridSpec(2,1, height_ratios=[1,0.25])\n",
    "ax1 = fig.add_subplot(gs[0])\n",
    "ax2 = fig.add_subplot(gs[1])\n",
    "gs.update(hspace=0) \n",
    "\n",
    "ax1.plot(ll, tot_emiss)\n",
    "ax1.plot(ll, threeGauss(ll, *popt_3gauss), 'k--')#,\\\n",
    "         #label=\"y= %0.2f$e^{%0.2fx}$ + %0.2f\" % (popt_exponential[0], popt_exponential[1], popt_exponential[2]))\n",
    "\n",
    "# peak 1\n",
    "ax1.plot(ll, gauss_peak_1, \"g\")\n",
    "ax1.fill_between(ll, gauss_peak_1.min(), gauss_peak_1, facecolor=\"green\", alpha=0.5)\n",
    "  \n",
    "# peak 2\n",
    "ax1.plot(ll, gauss_peak_2, \"y\")\n",
    "ax1.fill_between(ll, gauss_peak_2.min(), gauss_peak_2, facecolor=\"yellow\", alpha=0.5)  \n",
    "\n",
    "# peak 3\n",
    "ax1.plot(ll, gauss_peak_3, \"m\")\n",
    "ax1.fill_between(ll, gauss_peak_2.min(), gauss_peak_3, facecolor=\"yellow\", alpha=0.5)  \n",
    "ax1.get_xaxis().set_visible(False)\n",
    "\n",
    "# residual\n",
    "ax2.plot(ll, residual_3gauss, \"b\")\n",
    "    \n",
    "ax1.set_xlim(1403,1404.5)\n",
    "ax2.set_xlim(1403,1404.5)\n",
    "\n",
    "ax2.set_xlabel(\"wavelength\")\n",
    "ax1.set_ylabel(\"intensity\")\n",
    "ax2.set_ylabel(\"res.\")\n",
    "\n",
    "fig.tight_layout()\n",
    "#fig.savefig(\"fit2Gaussian_peaks_resid.png\", format=\"png\",dpi=1000)"
   ]
  },
  {
   "cell_type": "code",
   "execution_count": null,
   "metadata": {},
   "outputs": [],
   "source": [
    "# triple Gaussian\n",
    "y_model=threeGauss(ll, *popt_3gauss)\n",
    "chi2 = ((y_model - y) / error)**2\n",
    "x2=np.sum(chi2)\n",
    "rx2 = x2/(len(tot_emiss)-6)\n",
    "print(rx2)"
   ]
  },
  {
   "cell_type": "code",
   "execution_count": null,
   "metadata": {},
   "outputs": [],
   "source": [
    "perr_3gauss"
   ]
  },
  {
   "cell_type": "code",
   "execution_count": null,
   "metadata": {},
   "outputs": [],
   "source": [
    "(1403.88 -line)/line*3e5"
   ]
  }
 ],
 "metadata": {
  "kernelspec": {
   "display_name": "Python 3",
   "language": "python",
   "name": "python3"
  },
  "language_info": {
   "codemirror_mode": {
    "name": "ipython",
    "version": 3
   },
   "file_extension": ".py",
   "mimetype": "text/x-python",
   "name": "python",
   "nbconvert_exporter": "python",
   "pygments_lexer": "ipython3",
   "version": "3.7.4"
  }
 },
 "nbformat": 4,
 "nbformat_minor": 2
}
